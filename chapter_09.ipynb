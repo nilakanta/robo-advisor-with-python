{
 "cells": [
  {
   "cell_type": "markdown",
   "id": "162d011f",
   "metadata": {},
   "source": [
    "# Chapter 9 - Tax-Efficient Withdrawal Strategies\n",
    "\n",
    "## Listing 9.1"
   ]
  },
  {
   "cell_type": "code",
   "execution_count": null,
   "id": "56e06443",
   "metadata": {},
   "outputs": [
    {
     "data": {
      "text/html": [
       "<div>\n",
       "<style scoped>\n",
       "    .dataframe tbody tr th:only-of-type {\n",
       "        vertical-align: middle;\n",
       "    }\n",
       "\n",
       "    .dataframe tbody tr th {\n",
       "        vertical-align: top;\n",
       "    }\n",
       "\n",
       "    .dataframe thead th {\n",
       "        text-align: right;\n",
       "    }\n",
       "</style>\n",
       "<table border=\"1\" class=\"dataframe\">\n",
       "  <thead>\n",
       "    <tr style=\"text-align: right;\">\n",
       "      <th></th>\n",
       "      <th>rate</th>\n",
       "      <th>top_of_bracket</th>\n",
       "    </tr>\n",
       "  </thead>\n",
       "  <tbody>\n",
       "    <tr>\n",
       "      <th>0</th>\n",
       "      <td>0.10</td>\n",
       "      <td>11000.0</td>\n",
       "    </tr>\n",
       "    <tr>\n",
       "      <th>1</th>\n",
       "      <td>0.12</td>\n",
       "      <td>44725.0</td>\n",
       "    </tr>\n",
       "    <tr>\n",
       "      <th>2</th>\n",
       "      <td>0.22</td>\n",
       "      <td>95375.0</td>\n",
       "    </tr>\n",
       "    <tr>\n",
       "      <th>3</th>\n",
       "      <td>0.24</td>\n",
       "      <td>182100.0</td>\n",
       "    </tr>\n",
       "    <tr>\n",
       "      <th>4</th>\n",
       "      <td>0.32</td>\n",
       "      <td>231250.0</td>\n",
       "    </tr>\n",
       "    <tr>\n",
       "      <th>5</th>\n",
       "      <td>0.35</td>\n",
       "      <td>578125.0</td>\n",
       "    </tr>\n",
       "    <tr>\n",
       "      <th>6</th>\n",
       "      <td>0.37</td>\n",
       "      <td>inf</td>\n",
       "    </tr>\n",
       "  </tbody>\n",
       "</table>\n",
       "</div>"
      ],
      "text/plain": [
       "   rate  top_of_bracket\n",
       "0  0.10         11000.0\n",
       "1  0.12         44725.0\n",
       "2  0.22         95375.0\n",
       "3  0.24        182100.0\n",
       "4  0.32        231250.0\n",
       "5  0.35        578125.0\n",
       "6  0.37             inf"
      ]
     },
     "execution_count": 1,
     "metadata": {},
     "output_type": "execute_result"
    }
   ],
   "source": [
    "import pandas as pd\n",
    "import numpy as np\n",
    "import matplotlib.pyplot as plt\n",
    "\n",
    "rates = [0.1, 0.12, 0.22, 0.24, 0.32, 0.35, 0.37]\n",
    "top_of_bracket = [11000, 44725, 95375, 182100, 231250, 578125, np.inf]\n",
    "TaxTable = pd.DataFrame({'rate': rates,\n",
    "                         'top_of_bracket': top_of_bracket,})\n",
    "TaxTable"
   ]
  },
  {
   "cell_type": "markdown",
   "id": "8b295d1f",
   "metadata": {},
   "source": [
    "## Listing 9.2"
   ]
  },
  {
   "cell_type": "code",
   "execution_count": 2,
   "id": "75359c05",
   "metadata": {},
   "outputs": [],
   "source": [
    "def calc_taxes(income, TaxTable, deduction):\n",
    "    taxable_income = income - deduction\n",
    "    i = 0\n",
    "    tax = 0\n",
    "    bottom = 0\n",
    "    while taxable_income > bottom:\n",
    "        bracket_income = min(TaxTable.iloc[i]['top_of_bracket'],\n",
    "                             taxable_income) - bottom\n",
    "        tax += TaxTable.iloc[i]['rate'] * bracket_income\n",
    "        bottom = TaxTable.iloc[i]['top_of_bracket']\n",
    "        i += 1\n",
    "    return tax"
   ]
  },
  {
   "cell_type": "code",
   "execution_count": 3,
   "id": "775b79cf",
   "metadata": {},
   "outputs": [
    {
     "data": {
      "text/plain": [
       "np.float64(18876.0)"
      ]
     },
     "execution_count": 3,
     "metadata": {},
     "output_type": "execute_result"
    }
   ],
   "source": [
    "calc_taxes(120000, TaxTable, 13850)"
   ]
  },
  {
   "cell_type": "markdown",
   "id": "cffb888a",
   "metadata": {},
   "source": [
    "## Listing 9.3"
   ]
  },
  {
   "cell_type": "code",
   "execution_count": 4,
   "id": "4ba4ed8f",
   "metadata": {},
   "outputs": [
    {
     "name": "stdout",
     "output_type": "stream",
     "text": [
      "The pre-tax withdrawal amount is  144836.84210526315\n"
     ]
    }
   ],
   "source": [
    "from scipy.optimize import fsolve\n",
    "\n",
    "def gross_up(gross, net, TaxTable, deduction):\n",
    "    tax = calc_taxes(gross, TaxTable, deduction)\n",
    "    return gross - tax - net\n",
    "\n",
    "root = fsolve(gross_up, 0, args=(120000, TaxTable, 13850))\n",
    "print('The pre-tax withdrawal amount is ', root.item())"
   ]
  },
  {
   "cell_type": "markdown",
   "id": "a17dfcdc",
   "metadata": {},
   "source": [
    "## Listing 9.4"
   ]
  },
  {
   "cell_type": "code",
   "execution_count": null,
   "id": "f6d45a03",
   "metadata": {},
   "outputs": [],
   "source": [
    "ret = {'taxable':0.03, 'IRA':0.04, 'Roth':0.04}\n",
    "starting_values = {'taxable':2000000, 'IRA':1000000, 'Roth':0}\n",
    "spending = 120000\n",
    "deduction = 13850\n",
    "max_years = 55\n",
    "\n",
    "def compute_years(order,\n",
    "                  ret, starting_values, max_years,\n",
    "                  spending, deduction, TaxTable):\n",
    "    df = pd.DataFrame(0., columns=['taxable', 'IRA', 'Roth'],\n",
    "                      index = range(max_years+1)) #A\n",
    "    df.iloc[0] = starting_values\n",
    "    i = 0\n",
    "    while (df.iloc[i].sum() - calc_taxes(df.iloc[i]['IRA'],TaxTable,deduction)\n",
    "           > spending) and i < max_years:\n",
    "        spending_left = spending\n",
    "        for acct_type in order:\n",
    "            if acct_type != 'IRA':\n",
    "                withdraw = min(df.iloc[i][acct_type], spending_left)\n",
    "                spending_left -= withdraw\n",
    "            else: #B\n",
    "                withdraw = min(df.iloc[i][acct_type],\n",
    "                               fsolve(gross_up, spending_left,\n",
    "                               args=(spending_left, TaxTable, deduction)))\n",
    "                spending_left -= (withdraw -\n",
    "                                  calc_taxes(withdraw,TaxTable,deduction))\n",
    "            df.iloc[i+1][acct_type] = ((df.iloc[i][acct_type] - withdraw) *\n",
    "                                       (1+ret[acct_type]))\n",
    "        i = i + 1\n",
    "    frac = (df.iloc[i].sum() -\n",
    "            calc_taxes(df.iloc[i]['IRA'],TaxTable,deduction))/spending\n",
    "    print(i+frac)\n",
    "    return df\n",
    "\n",
    "\n",
    "#A DataFrame that keeps track of assets in each account type by year\n",
    "#B For an  IRA, gross up the amount of money needed for spending"
   ]
  },
  {
   "cell_type": "markdown",
   "id": "94bc2bbf",
   "metadata": {},
   "source": [
    "## Strategy 1"
   ]
  },
  {
   "cell_type": "code",
   "execution_count": null,
   "id": "0199fff3",
   "metadata": {},
   "outputs": [
    {
     "name": "stdout",
     "output_type": "stream",
     "text": [
      "39.977228753630875\n"
     ]
    },
    {
     "name": "stderr",
     "output_type": "stream",
     "text": [
      "/var/folders/6g/0ggzchw54n9_f4jpxx_2www80000gp/T/ipykernel_25496/2068923953.py:27: FutureWarning: ChainedAssignmentError: behaviour will change in pandas 3.0!\n",
      "You are setting values through chained assignment. Currently this works in certain cases, but when using Copy-on-Write (which will become the default behaviour in pandas 3.0) this will never work to update the original DataFrame or Series, because the intermediate object on which we are setting values will behave as a copy.\n",
      "A typical example is when you are setting values in a column of a DataFrame, like:\n",
      "\n",
      "df[\"col\"][row_indexer] = value\n",
      "\n",
      "Use `df.loc[row_indexer, \"col\"] = values` instead, to perform the assignment in a single step and ensure this keeps updating the original `df`.\n",
      "\n",
      "See the caveats in the documentation: https://pandas.pydata.org/pandas-docs/stable/user_guide/indexing.html#returning-a-view-versus-a-copy\n",
      "\n",
      "  df.iloc[i+1][acct_type] = ((df.iloc[i][acct_type] - withdraw) *\n"
     ]
    }
   ],
   "source": [
    "order = ['IRA', 'taxable', 'Roth']\n",
    "df = compute_years(order,\n",
    "                   ret, starting_values, max_years,\n",
    "                   spending, deduction, TaxTable)"
   ]
  },
  {
   "cell_type": "code",
   "execution_count": null,
   "id": "ec83f276",
   "metadata": {},
   "outputs": [
    {
     "data": {
      "image/png": "[encoded data removed]",
      "text/plain": [
       "<Figure size 1000x600 with 1 Axes>"
      ]
     },
     "metadata": {},
     "output_type": "display_data"
    }
   ],
   "source": [
    "all_types = ['taxable','Roth','IRA']\n",
    "cols_plot = ['taxable','Roth','IRA']\n",
    "for type in all_types:\n",
    "    all_zeros = np.all(df[type]==0)\n",
    "    if all_zeros:\n",
    "        cols_plot.remove(type)\n",
    "ax = df.loc[:,cols_plot].plot(kind='bar',stacked=True, figsize=(10,6))\n",
    "ax.set_ylabel('Total Assets')\n",
    "ax.set_xlabel('Year');"
   ]
  },
  {
   "cell_type": "markdown",
   "id": "fbd35cd3",
   "metadata": {},
   "source": [
    "## Strategy 2"
   ]
  },
  {
   "cell_type": "code",
   "execution_count": null,
   "id": "ba0c93a0",
   "metadata": {},
   "outputs": [
    {
     "name": "stdout",
     "output_type": "stream",
     "text": [
      "48.74069668982323\n"
     ]
    },
    {
     "name": "stderr",
     "output_type": "stream",
     "text": [
      "/var/folders/6g/0ggzchw54n9_f4jpxx_2www80000gp/T/ipykernel_25496/2068923953.py:27: FutureWarning: ChainedAssignmentError: behaviour will change in pandas 3.0!\n",
      "You are setting values through chained assignment. Currently this works in certain cases, but when using Copy-on-Write (which will become the default behaviour in pandas 3.0) this will never work to update the original DataFrame or Series, because the intermediate object on which we are setting values will behave as a copy.\n",
      "A typical example is when you are setting values in a column of a DataFrame, like:\n",
      "\n",
      "df[\"col\"][row_indexer] = value\n",
      "\n",
      "Use `df.loc[row_indexer, \"col\"] = values` instead, to perform the assignment in a single step and ensure this keeps updating the original `df`.\n",
      "\n",
      "See the caveats in the documentation: https://pandas.pydata.org/pandas-docs/stable/user_guide/indexing.html#returning-a-view-versus-a-copy\n",
      "\n",
      "  df.iloc[i+1][acct_type] = ((df.iloc[i][acct_type] - withdraw) *\n"
     ]
    }
   ],
   "source": [
    "order = ['taxable', 'IRA', 'Roth']\n",
    "df = compute_years(order,\n",
    "                   ret, starting_values, max_years,\n",
    "                   spending, deduction, TaxTable)"
   ]
  },
  {
   "cell_type": "code",
   "execution_count": null,
   "id": "3628edc8",
   "metadata": {},
   "outputs": [
    {
     "data": {
      "image/png": "[encoded data removed]",
      "text/plain": [
       "<Figure size 1000x600 with 1 Axes>"
      ]
     },
     "metadata": {},
     "output_type": "display_data"
    }
   ],
   "source": [
    "all_types = ['taxable','Roth','IRA']\n",
    "cols_plot = ['taxable','Roth','IRA']\n",
    "for type in all_types:\n",
    "    all_zeros = np.all(df[type]==0)\n",
    "    if all_zeros:\n",
    "        cols_plot.remove(type)\n",
    "ax = df.loc[:,cols_plot].plot(kind='bar', stacked=True, figsize=(10,6))\n",
    "ax.set_ylabel('Total Assets')\n",
    "ax.set_xlabel('Year');"
   ]
  },
  {
   "cell_type": "markdown",
   "id": "4169c0cd",
   "metadata": {},
   "source": [
    "## Listing 9.5"
   ]
  },
  {
   "cell_type": "code",
   "execution_count": null,
   "id": "9d88e0ec",
   "metadata": {},
   "outputs": [],
   "source": [
    "def compute_years_new(order, IRA_fill_amt, conversion_flag,\n",
    "                      ret, starting_values, max_years,\n",
    "                      spending, deduction, TaxTable):\n",
    "    df = pd.DataFrame(0., columns=['taxable', 'IRA', 'Roth'],\n",
    "                      index = range(max_years+1)) #A\n",
    "    df.iloc[0] = starting_values\n",
    "    i = 0\n",
    "    while (df.iloc[i].sum() - calc_taxes(df.iloc[i]['IRA'],TaxTable,deduction)\n",
    "           > spending) and i < max_years:\n",
    "        spending_left = spending\n",
    "\n",
    "        #Take out of IRA first up to IRA_fill_amt\n",
    "        if df.iloc[i]['taxable'] > spending:\n",
    "            withdraw = min(df.iloc[i]['IRA'], IRA_fill_amt)\n",
    "            if conversion_flag == 0:\n",
    "                spending_left -= (withdraw -\n",
    "                                  calc_taxes(withdraw,TaxTable,deduction))\n",
    "                df.iloc[i]['IRA'] = (df.iloc[i]['IRA']-withdraw) #A\n",
    "            else:\n",
    "                df.iloc[i]['IRA'] = (df.iloc[i]['IRA']-withdraw)\n",
    "                df.iloc[i]['Roth'] += (withdraw - #B\n",
    "                                       calc_taxes(withdraw,TaxTable,deduction))\n",
    "        for acct_type in order:\n",
    "            if acct_type != 'IRA':\n",
    "                withdraw = min(df.iloc[i][acct_type], spending_left)\n",
    "                spending_left = spending_left - withdraw\n",
    "            else:\n",
    "                withdraw = min(df.iloc[i][acct_type],\n",
    "                               fsolve(gross_up, spending_left,\n",
    "                               args=(spending_left, TaxTable, deduction)))\n",
    "                spending_left -= (withdraw -\n",
    "                                  calc_taxes(withdraw,TaxTable,deduction))\n",
    "            df.iloc[i+1][acct_type] = ((df.iloc[i][acct_type] - withdraw) *\n",
    "                                       (1+ret[acct_type])  )\n",
    "        i = i + 1\n",
    "    frac = (df.iloc[i].sum() -\n",
    "            calc_taxes(df.iloc[i]['IRA'],TaxTable,deduction))/spending\n",
    "    print(i+frac)\n",
    "    return df\n",
    "\n",
    "\n",
    "#A If no conversion, withdraw from the IRA account first\n",
    "#B If conversion, withdraw from the IRA account and place the net amount, after taxes, into the Roth"
   ]
  },
  {
   "cell_type": "markdown",
   "id": "e8ca2b2e",
   "metadata": {},
   "source": [
    "## Strategy 3"
   ]
  },
  {
   "cell_type": "code",
   "execution_count": null,
   "id": "a382e27f",
   "metadata": {},
   "outputs": [
    {
     "name": "stdout",
     "output_type": "stream",
     "text": [
      "44.53426311493234\n"
     ]
    },
    {
     "name": "stderr",
     "output_type": "stream",
     "text": [
      "/var/folders/6g/0ggzchw54n9_f4jpxx_2www80000gp/T/ipykernel_25496/537442662.py:18: FutureWarning: ChainedAssignmentError: behaviour will change in pandas 3.0!\n",
      "You are setting values through chained assignment. Currently this works in certain cases, but when using Copy-on-Write (which will become the default behaviour in pandas 3.0) this will never work to update the original DataFrame or Series, because the intermediate object on which we are setting values will behave as a copy.\n",
      "A typical example is when you are setting values in a column of a DataFrame, like:\n",
      "\n",
      "df[\"col\"][row_indexer] = value\n",
      "\n",
      "Use `df.loc[row_indexer, \"col\"] = values` instead, to perform the assignment in a single step and ensure this keeps updating the original `df`.\n",
      "\n",
      "See the caveats in the documentation: https://pandas.pydata.org/pandas-docs/stable/user_guide/indexing.html#returning-a-view-versus-a-copy\n",
      "\n",
      "  df.iloc[i]['IRA'] = (df.iloc[i]['IRA']-withdraw) #A\n",
      "/var/folders/6g/0ggzchw54n9_f4jpxx_2www80000gp/T/ipykernel_25496/537442662.py:33: FutureWarning: ChainedAssignmentError: behaviour will change in pandas 3.0!\n",
      "You are setting values through chained assignment. Currently this works in certain cases, but when using Copy-on-Write (which will become the default behaviour in pandas 3.0) this will never work to update the original DataFrame or Series, because the intermediate object on which we are setting values will behave as a copy.\n",
      "A typical example is when you are setting values in a column of a DataFrame, like:\n",
      "\n",
      "df[\"col\"][row_indexer] = value\n",
      "\n",
      "Use `df.loc[row_indexer, \"col\"] = values` instead, to perform the assignment in a single step and ensure this keeps updating the original `df`.\n",
      "\n",
      "See the caveats in the documentation: https://pandas.pydata.org/pandas-docs/stable/user_guide/indexing.html#returning-a-view-versus-a-copy\n",
      "\n",
      "  df.iloc[i+1][acct_type] = ((df.iloc[i][acct_type] - withdraw) *\n"
     ]
    }
   ],
   "source": [
    "order = ['taxable', 'IRA', 'Roth']\n",
    "IRA_fill_amt = 58575\n",
    "conversion_flag = 0\n",
    "df = compute_years_new(order, IRA_fill_amt, conversion_flag,\n",
    "                       ret, starting_values, max_years,\n",
    "                       spending, deduction, TaxTable)"
   ]
  },
  {
   "cell_type": "code",
   "execution_count": null,
   "id": "b89a183c",
   "metadata": {},
   "outputs": [
    {
     "data": {
      "image/png": "[encoded data removed]",
      "text/plain": [
       "<Figure size 1000x600 with 1 Axes>"
      ]
     },
     "metadata": {},
     "output_type": "display_data"
    }
   ],
   "source": [
    "all_types = ['taxable','Roth','IRA']\n",
    "cols_plot = ['taxable','Roth','IRA']\n",
    "for type in all_types:\n",
    "    all_zeros = np.all(df[type]==0)\n",
    "    if all_zeros:\n",
    "        cols_plot.remove(type)\n",
    "ax = df.loc[:,cols_plot].plot(kind='bar', stacked=True, figsize=(10,6))\n",
    "ax.set_ylabel('Total Assets')\n",
    "ax.set_xlabel('Year');"
   ]
  },
  {
   "cell_type": "markdown",
   "id": "ab306b8b",
   "metadata": {},
   "source": [
    "## Strategy 4"
   ]
  },
  {
   "cell_type": "code",
   "execution_count": null,
   "id": "8b1c5ab4",
   "metadata": {},
   "outputs": [
    {
     "name": "stdout",
     "output_type": "stream",
     "text": [
      "53.24371366143054\n"
     ]
    },
    {
     "name": "stderr",
     "output_type": "stream",
     "text": [
      "/var/folders/6g/0ggzchw54n9_f4jpxx_2www80000gp/T/ipykernel_25496/537442662.py:20: FutureWarning: ChainedAssignmentError: behaviour will change in pandas 3.0!\n",
      "You are setting values through chained assignment. Currently this works in certain cases, but when using Copy-on-Write (which will become the default behaviour in pandas 3.0) this will never work to update the original DataFrame or Series, because the intermediate object on which we are setting values will behave as a copy.\n",
      "A typical example is when you are setting values in a column of a DataFrame, like:\n",
      "\n",
      "df[\"col\"][row_indexer] = value\n",
      "\n",
      "Use `df.loc[row_indexer, \"col\"] = values` instead, to perform the assignment in a single step and ensure this keeps updating the original `df`.\n",
      "\n",
      "See the caveats in the documentation: https://pandas.pydata.org/pandas-docs/stable/user_guide/indexing.html#returning-a-view-versus-a-copy\n",
      "\n",
      "  df.iloc[i]['IRA'] = (df.iloc[i]['IRA']-withdraw)\n",
      "/var/folders/6g/0ggzchw54n9_f4jpxx_2www80000gp/T/ipykernel_25496/537442662.py:21: FutureWarning: ChainedAssignmentError: behaviour will change in pandas 3.0!\n",
      "You are setting values through chained assignment. Currently this works in certain cases, but when using Copy-on-Write (which will become the default behaviour in pandas 3.0) this will never work to update the original DataFrame or Series, because the intermediate object on which we are setting values will behave as a copy.\n",
      "A typical example is when you are setting values in a column of a DataFrame, like:\n",
      "\n",
      "df[\"col\"][row_indexer] = value\n",
      "\n",
      "Use `df.loc[row_indexer, \"col\"] = values` instead, to perform the assignment in a single step and ensure this keeps updating the original `df`.\n",
      "\n",
      "See the caveats in the documentation: https://pandas.pydata.org/pandas-docs/stable/user_guide/indexing.html#returning-a-view-versus-a-copy\n",
      "\n",
      "  df.iloc[i]['Roth'] += (withdraw - #B\n",
      "/var/folders/6g/0ggzchw54n9_f4jpxx_2www80000gp/T/ipykernel_25496/537442662.py:33: FutureWarning: ChainedAssignmentError: behaviour will change in pandas 3.0!\n",
      "You are setting values through chained assignment. Currently this works in certain cases, but when using Copy-on-Write (which will become the default behaviour in pandas 3.0) this will never work to update the original DataFrame or Series, because the intermediate object on which we are setting values will behave as a copy.\n",
      "A typical example is when you are setting values in a column of a DataFrame, like:\n",
      "\n",
      "df[\"col\"][row_indexer] = value\n",
      "\n",
      "Use `df.loc[row_indexer, \"col\"] = values` instead, to perform the assignment in a single step and ensure this keeps updating the original `df`.\n",
      "\n",
      "See the caveats in the documentation: https://pandas.pydata.org/pandas-docs/stable/user_guide/indexing.html#returning-a-view-versus-a-copy\n",
      "\n",
      "  df.iloc[i+1][acct_type] = ((df.iloc[i][acct_type] - withdraw) *\n"
     ]
    }
   ],
   "source": [
    "order = ['taxable', 'IRA', 'Roth']\n",
    "IRA_fill_amt = 58575\n",
    "conversion_flag = 1\n",
    "df = compute_years_new(order, IRA_fill_amt, conversion_flag,\n",
    "                       ret, starting_values, max_years,\n",
    "                       spending, deduction, TaxTable)"
   ]
  },
  {
   "cell_type": "code",
   "execution_count": null,
   "id": "9a3e0173",
   "metadata": {},
   "outputs": [
    {
     "data": {
      "image/png": "[encoded data removed]",
      "text/plain": [
       "<Figure size 1000x600 with 1 Axes>"
      ]
     },
     "metadata": {},
     "output_type": "display_data"
    }
   ],
   "source": [
    "all_types = ['taxable','Roth','IRA']\n",
    "cols_plot = ['taxable','Roth','IRA']\n",
    "for type in all_types:\n",
    "    all_zeros = np.all(df[type]==0)\n",
    "    if all_zeros:\n",
    "        cols_plot.remove(type)\n",
    "ax = df.loc[:,cols_plot].plot(kind='bar', stacked=True, figsize=(10,6))\n",
    "ax.set_ylabel('Total Assets')\n",
    "ax.set_xlabel('Year');"
   ]
  },
  {
   "cell_type": "markdown",
   "id": "00b9995d",
   "metadata": {},
   "source": [
    "## RMD Code\n",
    "\n",
    "First, we scrape the Required Minimum Distribution table from the IRS website."
   ]
  },
  {
   "cell_type": "code",
   "execution_count": 15,
   "id": "a3534538",
   "metadata": {},
   "outputs": [],
   "source": [
    "import requests\n",
    "from bs4 import BeautifulSoup\n",
    "\n",
    "URL = \"https://www.irs.gov/publications/p590b\"\n",
    "page = requests.get(URL)\n",
    "\n",
    "soup = BeautifulSoup(page.content, \"html.parser\")"
   ]
  },
  {
   "cell_type": "code",
   "execution_count": null,
   "id": "587b144f",
   "metadata": {},
   "outputs": [],
   "source": [
    "# Insert picture of html from inspect"
   ]
  },
  {
   "cell_type": "code",
   "execution_count": 16,
   "id": "15f557b0",
   "metadata": {},
   "outputs": [
    {
     "name": "stdout",
     "output_type": "stream",
     "text": [
      " \n",
      " \n",
      " \n",
      " \n",
      " Table III \n",
      " (Uniform Lifetime) \n",
      " (For Use by:   Unmarried Owners,   Married Owners Whose Spouses Aren't More Than 10 Years Younger, and   Married Owners Whose Spouses Aren't the Sole Beneficiaries of Their IRAs)     \n",
      " Age \n",
      " Distribution Period \n",
      " Age \n",
      " Distribution Period \n",
      "72\n",
      "27.4\n",
      "97\n",
      "7.8\n",
      "73\n",
      "26.5\n",
      "98\n",
      "7.3\n",
      "74\n",
      "25.5\n",
      "99\n",
      "6.8\n",
      "75\n",
      "24.6\n",
      "100\n",
      "6.4\n",
      "76\n",
      "23.7\n",
      "101\n",
      "6.0\n",
      "77\n",
      "22.9\n",
      "102\n",
      "5.6\n",
      "78\n",
      "22.0\n",
      "103\n",
      "5.2\n",
      "79\n",
      "21.1\n",
      "104\n",
      "4.9\n",
      "80\n",
      "20.2\n",
      "105\n",
      "4.6\n",
      "81\n",
      "19.4\n",
      "106\n",
      "4.3\n",
      "82\n",
      "18.5\n",
      "107\n",
      "4.1\n",
      "83\n",
      "17.7\n",
      "108\n",
      "3.9\n",
      "84\n",
      "16.8\n",
      "109\n",
      "3.7\n",
      "85\n",
      "16.0\n",
      "110\n",
      "3.5\n",
      "86\n",
      "15.2\n",
      "111\n",
      "3.4\n",
      "87\n",
      "14.4\n",
      "112\n",
      "3.3\n",
      "88\n",
      "13.7\n",
      "113\n",
      "3.1\n",
      "89\n",
      "12.9\n",
      "114\n",
      "3.0\n",
      "90\n",
      "12.2\n",
      "115\n",
      "2.9\n",
      "91\n",
      "11.5\n",
      "116\n",
      "2.8\n",
      "92\n",
      "10.8\n",
      "117\n",
      "2.7\n",
      "93\n",
      "10.1\n",
      "118\n",
      "2.5\n",
      "94\n",
      "9.5\n",
      "119\n",
      "2.3\n",
      "95\n",
      "8.9\n",
      "120 and over\n",
      "2.0\n",
      "96\n",
      "8.4\n",
      " \n",
      " \n"
     ]
    }
   ],
   "source": [
    "target_table = soup.find('table', {'summary': 'Appendix B. Uniform Lifetime Table'})\n",
    "if target_table:\n",
    "    rows = target_table.find_all('tr')\n",
    "    for row in rows:\n",
    "        columns = row.find_all('td')\n",
    "        for column in columns:\n",
    "            print(column.text)  # or any other processing you need\n",
    "else:\n",
    "    print(\"Table not found!\")"
   ]
  },
  {
   "cell_type": "code",
   "execution_count": 17,
   "id": "6aee744f",
   "metadata": {},
   "outputs": [],
   "source": [
    "if target_table:\n",
    "    all_rows = target_table.find_all('tr')\n",
    "else:\n",
    "    print(\"Table not found!\")\n",
    "\n",
    "all_rows = [row.text.split() for row in all_rows]\n",
    "RMD_div = {}\n",
    "for row in all_rows[5:-2]:\n",
    "    RMD_div[int(row[0])] = float(row[1])\n",
    "    RMD_div[int(row[2])] = float(row[3])\n",
    "for row in all_rows[-2:]:\n",
    "    RMD_div[int(row[0])] = float(row[1])"
   ]
  },
  {
   "cell_type": "code",
   "execution_count": 18,
   "id": "38fb3615",
   "metadata": {},
   "outputs": [],
   "source": [
    "def calc_RMD(age):\n",
    "    if age <= 72:\n",
    "        return 0\n",
    "    elif age>= 120:\n",
    "        return 0.5\n",
    "    else:\n",
    "        return 1./RMD_div[age]"
   ]
  },
  {
   "cell_type": "code",
   "execution_count": 19,
   "id": "f7489f53",
   "metadata": {},
   "outputs": [
    {
     "data": {
      "text/plain": [
       "0.03773584905660377"
      ]
     },
     "execution_count": 19,
     "metadata": {},
     "output_type": "execute_result"
    }
   ],
   "source": [
    "calc_RMD(73)"
   ]
  },
  {
   "cell_type": "markdown",
   "id": "47de62a6",
   "metadata": {},
   "source": [
    "Note that now, `age` is an argument. We have ignored the increase in the standard deduction for seniors aged 65 and older. This could easily be added to the code if the standard deduction is taken."
   ]
  },
  {
   "cell_type": "code",
   "execution_count": null,
   "id": "085f432f",
   "metadata": {},
   "outputs": [],
   "source": [
    "# Code for RMD\n",
    "\n",
    "def gross_up_incremental(gross, net, TaxTable, deduction, prior_income):\n",
    "    tax = calc_taxes(gross+prior_income, TaxTable, deduction) - calc_taxes(prior_income, TaxTable, deduction)\n",
    "    return gross - tax - net\n",
    "\n",
    "def compute_years_RMD(order, IRA_fill_amt, conversion_flag, age,\n",
    "                      ret, starting_values, max_years,\n",
    "                      spending, deduction, TaxTable):\n",
    "    df = pd.DataFrame(0., columns=['taxable', 'IRA', 'Roth'], index = range(max_years+1))\n",
    "    df.iloc[0] = starting_values\n",
    "    i = 0\n",
    "    while (df.iloc[i].sum() - calc_taxes(df.iloc[i]['IRA'],TaxTable,deduction) > spending) and i<max_years:\n",
    "        i = i + 1\n",
    "        df.iloc[i] = df.iloc[i-1]\n",
    "        spending_left = spending\n",
    "\n",
    "        RMD = df.iloc[i]['IRA'] * calc_RMD(age+i)\n",
    "        if df.iloc[i]['taxable']>spending:\n",
    "            IRA_fill = min(df.iloc[i]['IRA'], IRA_fill_amt)\n",
    "        else:\n",
    "            IRA_fill = 0\n",
    "        IRA_withdraw = max(RMD, IRA_fill)\n",
    "        if conversion_flag == 0:\n",
    "            spending_left = spending_left - (IRA_withdraw - calc_taxes(IRA_withdraw,TaxTable,deduction))\n",
    "            df.iloc[i]['IRA'] = (df.iloc[i]['IRA']-IRA_withdraw)\n",
    "        else:\n",
    "            df.iloc[i]['IRA'] = (df.iloc[i]['IRA']-IRA_withdraw)\n",
    "            df.iloc[i]['Roth'] = (df.iloc[i]['Roth']+(IRA_withdraw-RMD)-calc_taxes(IRA_withdraw-RMD,TaxTable,deduction))\n",
    "            spending_left -= RMD - calc_taxes(IRA_withdraw,TaxTable,deduction) + calc_taxes(IRA_withdraw-RMD,TaxTable,deduction)\n",
    "        for acct_type in order:\n",
    "            if acct_type != 'IRA':\n",
    "                withdraw = min(df.iloc[i][acct_type], spending_left)\n",
    "                spending_left = spending_left - withdraw\n",
    "            else:\n",
    "                withdraw = min(df.iloc[i][acct_type], fsolve(gross_up_incremental, spending_left,\n",
    "                                           args=(spending_left, TaxTable, deduction, IRA_withdraw)))\n",
    "                spending_left -= (withdraw -calc_taxes(withdraw+IRA_withdraw,TaxTable,deduction)+calc_taxes(IRA_withdraw,TaxTable,deduction))\n",
    "            df.iloc[i][acct_type] = (df.iloc[i][acct_type]-withdraw)*(1+ret[acct_type])\n",
    "    frac = (df.iloc[i].sum()-calc_taxes(df.iloc[i]['IRA'],TaxTable,deduction))/spending\n",
    "    print(i+frac)\n",
    "    return df"
   ]
  },
  {
   "cell_type": "markdown",
   "id": "f5b569b4",
   "metadata": {},
   "source": [
    "## Table 9.6"
   ]
  },
  {
   "cell_type": "code",
   "execution_count": null,
   "id": "dabfe1e3",
   "metadata": {},
   "outputs": [
    {
     "name": "stdout",
     "output_type": "stream",
     "text": [
      "39.977228753630875\n"
     ]
    },
    {
     "name": "stderr",
     "output_type": "stream",
     "text": [
      "/var/folders/6g/0ggzchw54n9_f4jpxx_2www80000gp/T/ipykernel_25496/1036975467.py:26: FutureWarning: ChainedAssignmentError: behaviour will change in pandas 3.0!\n",
      "You are setting values through chained assignment. Currently this works in certain cases, but when using Copy-on-Write (which will become the default behaviour in pandas 3.0) this will never work to update the original DataFrame or Series, because the intermediate object on which we are setting values will behave as a copy.\n",
      "A typical example is when you are setting values in a column of a DataFrame, like:\n",
      "\n",
      "df[\"col\"][row_indexer] = value\n",
      "\n",
      "Use `df.loc[row_indexer, \"col\"] = values` instead, to perform the assignment in a single step and ensure this keeps updating the original `df`.\n",
      "\n",
      "See the caveats in the documentation: https://pandas.pydata.org/pandas-docs/stable/user_guide/indexing.html#returning-a-view-versus-a-copy\n",
      "\n",
      "  df.iloc[i]['IRA'] = (df.iloc[i]['IRA']-IRA_withdraw)\n",
      "/var/folders/6g/0ggzchw54n9_f4jpxx_2www80000gp/T/ipykernel_25496/1036975467.py:39: FutureWarning: ChainedAssignmentError: behaviour will change in pandas 3.0!\n",
      "You are setting values through chained assignment. Currently this works in certain cases, but when using Copy-on-Write (which will become the default behaviour in pandas 3.0) this will never work to update the original DataFrame or Series, because the intermediate object on which we are setting values will behave as a copy.\n",
      "A typical example is when you are setting values in a column of a DataFrame, like:\n",
      "\n",
      "df[\"col\"][row_indexer] = value\n",
      "\n",
      "Use `df.loc[row_indexer, \"col\"] = values` instead, to perform the assignment in a single step and ensure this keeps updating the original `df`.\n",
      "\n",
      "See the caveats in the documentation: https://pandas.pydata.org/pandas-docs/stable/user_guide/indexing.html#returning-a-view-versus-a-copy\n",
      "\n",
      "  df.iloc[i][acct_type] = (df.iloc[i][acct_type]-withdraw)*(1+ret[acct_type])\n"
     ]
    }
   ],
   "source": [
    "order = ['IRA', 'taxable', 'Roth']\n",
    "IRA_fill_amt = 0\n",
    "conversion_flag = 0\n",
    "age = 65\n",
    "\n",
    "df = compute_years_RMD(order, IRA_fill_amt, conversion_flag, age,\n",
    "                       ret, starting_values, max_years,\n",
    "                       spending, deduction, TaxTable)"
   ]
  },
  {
   "cell_type": "code",
   "execution_count": null,
   "id": "8adf13a8",
   "metadata": {},
   "outputs": [
    {
     "name": "stdout",
     "output_type": "stream",
     "text": [
      "47.30193598560664\n"
     ]
    },
    {
     "name": "stderr",
     "output_type": "stream",
     "text": [
      "/var/folders/6g/0ggzchw54n9_f4jpxx_2www80000gp/T/ipykernel_25496/1036975467.py:26: FutureWarning: ChainedAssignmentError: behaviour will change in pandas 3.0!\n",
      "You are setting values through chained assignment. Currently this works in certain cases, but when using Copy-on-Write (which will become the default behaviour in pandas 3.0) this will never work to update the original DataFrame or Series, because the intermediate object on which we are setting values will behave as a copy.\n",
      "A typical example is when you are setting values in a column of a DataFrame, like:\n",
      "\n",
      "df[\"col\"][row_indexer] = value\n",
      "\n",
      "Use `df.loc[row_indexer, \"col\"] = values` instead, to perform the assignment in a single step and ensure this keeps updating the original `df`.\n",
      "\n",
      "See the caveats in the documentation: https://pandas.pydata.org/pandas-docs/stable/user_guide/indexing.html#returning-a-view-versus-a-copy\n",
      "\n",
      "  df.iloc[i]['IRA'] = (df.iloc[i]['IRA']-IRA_withdraw)\n",
      "/var/folders/6g/0ggzchw54n9_f4jpxx_2www80000gp/T/ipykernel_25496/1036975467.py:39: FutureWarning: ChainedAssignmentError: behaviour will change in pandas 3.0!\n",
      "You are setting values through chained assignment. Currently this works in certain cases, but when using Copy-on-Write (which will become the default behaviour in pandas 3.0) this will never work to update the original DataFrame or Series, because the intermediate object on which we are setting values will behave as a copy.\n",
      "A typical example is when you are setting values in a column of a DataFrame, like:\n",
      "\n",
      "df[\"col\"][row_indexer] = value\n",
      "\n",
      "Use `df.loc[row_indexer, \"col\"] = values` instead, to perform the assignment in a single step and ensure this keeps updating the original `df`.\n",
      "\n",
      "See the caveats in the documentation: https://pandas.pydata.org/pandas-docs/stable/user_guide/indexing.html#returning-a-view-versus-a-copy\n",
      "\n",
      "  df.iloc[i][acct_type] = (df.iloc[i][acct_type]-withdraw)*(1+ret[acct_type])\n"
     ]
    }
   ],
   "source": [
    "order = ['taxable', 'IRA', 'Roth']\n",
    "IRA_fill_amt = 0\n",
    "conversion_flag = 0\n",
    "age = 65\n",
    "\n",
    "df = compute_years_RMD(order, IRA_fill_amt, conversion_flag, age,\n",
    "                       ret, starting_values, max_years,\n",
    "                       spending, deduction, TaxTable)"
   ]
  },
  {
   "cell_type": "code",
   "execution_count": null,
   "id": "8500f925",
   "metadata": {},
   "outputs": [
    {
     "name": "stdout",
     "output_type": "stream",
     "text": [
      "44.53426311493234\n"
     ]
    },
    {
     "name": "stderr",
     "output_type": "stream",
     "text": [
      "/var/folders/6g/0ggzchw54n9_f4jpxx_2www80000gp/T/ipykernel_25496/1036975467.py:26: FutureWarning: ChainedAssignmentError: behaviour will change in pandas 3.0!\n",
      "You are setting values through chained assignment. Currently this works in certain cases, but when using Copy-on-Write (which will become the default behaviour in pandas 3.0) this will never work to update the original DataFrame or Series, because the intermediate object on which we are setting values will behave as a copy.\n",
      "A typical example is when you are setting values in a column of a DataFrame, like:\n",
      "\n",
      "df[\"col\"][row_indexer] = value\n",
      "\n",
      "Use `df.loc[row_indexer, \"col\"] = values` instead, to perform the assignment in a single step and ensure this keeps updating the original `df`.\n",
      "\n",
      "See the caveats in the documentation: https://pandas.pydata.org/pandas-docs/stable/user_guide/indexing.html#returning-a-view-versus-a-copy\n",
      "\n",
      "  df.iloc[i]['IRA'] = (df.iloc[i]['IRA']-IRA_withdraw)\n",
      "/var/folders/6g/0ggzchw54n9_f4jpxx_2www80000gp/T/ipykernel_25496/1036975467.py:39: FutureWarning: ChainedAssignmentError: behaviour will change in pandas 3.0!\n",
      "You are setting values through chained assignment. Currently this works in certain cases, but when using Copy-on-Write (which will become the default behaviour in pandas 3.0) this will never work to update the original DataFrame or Series, because the intermediate object on which we are setting values will behave as a copy.\n",
      "A typical example is when you are setting values in a column of a DataFrame, like:\n",
      "\n",
      "df[\"col\"][row_indexer] = value\n",
      "\n",
      "Use `df.loc[row_indexer, \"col\"] = values` instead, to perform the assignment in a single step and ensure this keeps updating the original `df`.\n",
      "\n",
      "See the caveats in the documentation: https://pandas.pydata.org/pandas-docs/stable/user_guide/indexing.html#returning-a-view-versus-a-copy\n",
      "\n",
      "  df.iloc[i][acct_type] = (df.iloc[i][acct_type]-withdraw)*(1+ret[acct_type])\n"
     ]
    }
   ],
   "source": [
    "order = ['taxable', 'IRA', 'Roth']\n",
    "IRA_fill_amt = 58575\n",
    "conversion_flag = 0\n",
    "age = 65\n",
    "\n",
    "df = compute_years_RMD(order, IRA_fill_amt, conversion_flag, age,\n",
    "                       ret, starting_values, max_years,\n",
    "                       spending, deduction, TaxTable)"
   ]
  },
  {
   "cell_type": "code",
   "execution_count": null,
   "id": "476c560a",
   "metadata": {},
   "outputs": [
    {
     "name": "stdout",
     "output_type": "stream",
     "text": [
      "52.14112153261502\n"
     ]
    },
    {
     "name": "stderr",
     "output_type": "stream",
     "text": [
      "/var/folders/6g/0ggzchw54n9_f4jpxx_2www80000gp/T/ipykernel_25496/1036975467.py:28: FutureWarning: ChainedAssignmentError: behaviour will change in pandas 3.0!\n",
      "You are setting values through chained assignment. Currently this works in certain cases, but when using Copy-on-Write (which will become the default behaviour in pandas 3.0) this will never work to update the original DataFrame or Series, because the intermediate object on which we are setting values will behave as a copy.\n",
      "A typical example is when you are setting values in a column of a DataFrame, like:\n",
      "\n",
      "df[\"col\"][row_indexer] = value\n",
      "\n",
      "Use `df.loc[row_indexer, \"col\"] = values` instead, to perform the assignment in a single step and ensure this keeps updating the original `df`.\n",
      "\n",
      "See the caveats in the documentation: https://pandas.pydata.org/pandas-docs/stable/user_guide/indexing.html#returning-a-view-versus-a-copy\n",
      "\n",
      "  df.iloc[i]['IRA'] = (df.iloc[i]['IRA']-IRA_withdraw)\n",
      "/var/folders/6g/0ggzchw54n9_f4jpxx_2www80000gp/T/ipykernel_25496/1036975467.py:29: FutureWarning: ChainedAssignmentError: behaviour will change in pandas 3.0!\n",
      "You are setting values through chained assignment. Currently this works in certain cases, but when using Copy-on-Write (which will become the default behaviour in pandas 3.0) this will never work to update the original DataFrame or Series, because the intermediate object on which we are setting values will behave as a copy.\n",
      "A typical example is when you are setting values in a column of a DataFrame, like:\n",
      "\n",
      "df[\"col\"][row_indexer] = value\n",
      "\n",
      "Use `df.loc[row_indexer, \"col\"] = values` instead, to perform the assignment in a single step and ensure this keeps updating the original `df`.\n",
      "\n",
      "See the caveats in the documentation: https://pandas.pydata.org/pandas-docs/stable/user_guide/indexing.html#returning-a-view-versus-a-copy\n",
      "\n",
      "  df.iloc[i]['Roth'] = (df.iloc[i]['Roth']+(IRA_withdraw-RMD)-calc_taxes(IRA_withdraw-RMD,TaxTable,deduction))\n",
      "/var/folders/6g/0ggzchw54n9_f4jpxx_2www80000gp/T/ipykernel_25496/1036975467.py:39: FutureWarning: ChainedAssignmentError: behaviour will change in pandas 3.0!\n",
      "You are setting values through chained assignment. Currently this works in certain cases, but when using Copy-on-Write (which will become the default behaviour in pandas 3.0) this will never work to update the original DataFrame or Series, because the intermediate object on which we are setting values will behave as a copy.\n",
      "A typical example is when you are setting values in a column of a DataFrame, like:\n",
      "\n",
      "df[\"col\"][row_indexer] = value\n",
      "\n",
      "Use `df.loc[row_indexer, \"col\"] = values` instead, to perform the assignment in a single step and ensure this keeps updating the original `df`.\n",
      "\n",
      "See the caveats in the documentation: https://pandas.pydata.org/pandas-docs/stable/user_guide/indexing.html#returning-a-view-versus-a-copy\n",
      "\n",
      "  df.iloc[i][acct_type] = (df.iloc[i][acct_type]-withdraw)*(1+ret[acct_type])\n"
     ]
    }
   ],
   "source": [
    "order = ['taxable', 'IRA', 'Roth']\n",
    "IRA_fill_amt = 58575\n",
    "conversion_flag = 1\n",
    "age = 65\n",
    "\n",
    "df = compute_years_RMD(order, IRA_fill_amt, conversion_flag, age,\n",
    "                       ret, starting_values, max_years,\n",
    "                       spending, deduction, TaxTable)"
   ]
  },
  {
   "cell_type": "code",
   "execution_count": null,
   "id": "ceaa2e5f",
   "metadata": {},
   "outputs": [],
   "source": [
    "def calc_taxes(income, TaxTable, deduction, State_TaxTable,\n",
    "               state_deduction, LTCG_TaxTable, ST_gains, LT_gains, t):\n",
    "\n",
    "    # State Taxes\n",
    "    taxable_income = (income - state_deduction * (1+infl)**t\n",
    "                      + ST_gains + LT_gains)\n",
    "    i = 0\n",
    "    tax = 0\n",
    "    bottom = 0\n",
    "    while taxable_income > bottom:\n",
    "        bracket_income = min(State_TaxTable.iloc[i]['top_of_bracket'] *\n",
    "                             (1+infl)**t, taxable_income) - bottom\n",
    "        tax += State_TaxTable.iloc[i]['rate']*bracket_income\n",
    "        bottom = State_TaxTable.iloc[i]['top_of_bracket'] * (1+infl)**t\n",
    "        i += 1\n",
    "\n",
    "    # Federal Taxes\n",
    "    taxable_income = income - deduction*(1+infl)**t + ST_gains\n",
    "    i = 0\n",
    "    bottom = 0\n",
    "    while taxable_income > bottom:\n",
    "        bracket_income = min(TaxTable.iloc[i]['top_of_bracket'] *\n",
    "                             (1+infl)**t, taxable_income) - bottom\n",
    "        tax += TaxTable.iloc[i]['rate']*bracket_income\n",
    "        bottom = TaxTable.iloc[i]['top_of_bracket']*(1+infl)**t\n",
    "        i += 1\n",
    "\n",
    "    # Capital Gains Taxes\n",
    "    i = (LTCG_TaxTable['top_of_bracket'] *\n",
    "         (1+infl)**t).searchsorted(taxable_income).item() #A\n",
    "    bottom = taxable_income\n",
    "    while taxable_income + LT_gains > bottom:\n",
    "        bracket_income = min(LTCG_TaxTable.iloc[i]['top_of_bracket'] *\n",
    "                             (1+infl)**t,taxable_income+LT_gains) - bottom\n",
    "        tax += LTCG_TaxTable.iloc[i]['rate'] * bracket_income\n",
    "        bottom = LTCG_TaxTable.iloc[i]['top_of_bracket'] * (1+infl)**t\n",
    "        i += 1\n",
    "\n",
    "    # Medicare surtax\n",
    "    NIIT = min(max(income+ST_gains+LT_gains-200000,0), LT_gains) * 0.038\n",
    "    tax = tax + NIIT\n",
    "    return tax"
   ]
  }
 ],
 "metadata": {
  "kernelspec": {
   "display_name": ".venv",
   "language": "python",
   "name": "python3"
  },
  "language_info": {
   "codemirror_mode": {
    "name": "ipython",
    "version": 3
   },
   "file_extension": ".py",
   "mimetype": "text/x-python",
   "name": "python",
   "nbconvert_exporter": "python",
   "pygments_lexer": "ipython3",
   "version": "3.11.10"
  }
 },
 "nbformat": 4,
 "nbformat_minor": 5
}
