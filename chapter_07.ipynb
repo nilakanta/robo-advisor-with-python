{
 "cells": [
  {
   "cell_type": "markdown",
   "id": "e9af3568",
   "metadata": {},
   "source": [
    "# Chapter 7: Measuring and Evaluating Returns\n",
    "\n",
    "## Listing 7.1"
   ]
  },
  {
   "cell_type": "code",
   "execution_count": 1,
   "id": "113a895d",
   "metadata": {},
   "outputs": [
    {
     "name": "stdout",
     "output_type": "stream",
     "text": [
      "The Dollar-Weighted Return is  -0.006681547693192096\n"
     ]
    }
   ],
   "source": [
    "from scipy.optimize import fsolve\n",
    "\n",
    "def f(x):\n",
    "    return 10+10/(1+x)-19.8/(1+x)**2\n",
    "root = fsolve(f, 0)\n",
    "print('The Dollar-Weighted Return is ', root.item())"
   ]
  },
  {
   "cell_type": "markdown",
   "id": "60824a5d",
   "metadata": {},
   "source": [
    "## Listing 7.2"
   ]
  },
  {
   "cell_type": "code",
   "execution_count": 2,
   "id": "ac8b5afc",
   "metadata": {},
   "outputs": [
    {
     "name": "stdout",
     "output_type": "stream",
     "text": [
      "The Dollar-Weighted Return is  -0.006675485376641889\n"
     ]
    }
   ],
   "source": [
    "from datetime import datetime\n",
    "\n",
    "cashflows = [10, 10, -19.8]\n",
    "dates = ['2020-01-01', '2021-01-01', '2022-01-01']\n",
    "dates = [datetime.strptime(dt, \"%Y-%m-%d\") for dt in dates]\n",
    "\n",
    "def f(x, *args):\n",
    "    cashflows, dates = args\n",
    "    sumPVs = 0\n",
    "    for i in range(len(cashflows)):\n",
    "        Y = (dates[i] - dates[0]).days/365\n",
    "        sumPVs += cashflows[i]/(1+x)**Y\n",
    "    return sumPVs\n",
    "root = fsolve(f, 0, args=(cashflows, dates))\n",
    "print('The Dollar-Weighted Return is ', root.item())"
   ]
  },
  {
   "cell_type": "markdown",
   "id": "f2a76d27",
   "metadata": {},
   "source": [
    "## Listing 7.3"
   ]
  },
  {
   "cell_type": "code",
   "execution_count": 4,
   "id": "4ee2dbc7",
   "metadata": {},
   "outputs": [
    {
     "name": "stderr",
     "output_type": "stream",
     "text": [
      "[*********************100%***********************]  1 of 1 completed\n",
      "[*********************100%***********************]  1 of 1 completed"
     ]
    },
    {
     "name": "stdout",
     "output_type": "stream",
     "text": [
      "                            OLS Regression Results                            \n",
      "==============================================================================\n",
      "Dep. Variable:                      y   R-squared:                       0.981\n",
      "Model:                            OLS   Adj. R-squared:                  0.981\n",
      "Method:                 Least Squares   F-statistic:                 1.088e+04\n",
      "Date:                Sat, 12 Apr 2025   Prob (F-statistic):          3.28e-182\n",
      "Time:                        22:33:34   Log-Likelihood:                 751.46\n",
      "No. Observations:                 211   AIC:                            -1499.\n",
      "Df Residuals:                     209   BIC:                            -1492.\n",
      "Df Model:                           1                                         \n",
      "Covariance Type:            nonrobust                                         \n",
      "==============================================================================\n",
      "                 coef    std err          t      P>|t|      [0.025      0.975]\n",
      "------------------------------------------------------------------------------\n",
      "const         -0.0004      0.000     -0.762      0.447      -0.001       0.001\n",
      "0              1.0023      0.010    104.300      0.000       0.983       1.021\n",
      "==============================================================================\n",
      "Omnibus:                        4.723   Durbin-Watson:                   1.975\n",
      "Prob(Omnibus):                  0.094   Jarque-Bera (JB):                4.507\n",
      "Skew:                          -0.270   Prob(JB):                        0.105\n",
      "Kurtosis:                       3.471   Cond. No.                         20.2\n",
      "==============================================================================\n",
      "\n",
      "Notes:\n",
      "[1] Standard Errors assume that the covariance matrix of the errors is correctly specified.\n"
     ]
    },
    {
     "name": "stderr",
     "output_type": "stream",
     "text": [
      "\n"
     ]
    }
   ],
   "source": [
    "import pandas_datareader as pdr\n",
    "import yfinance as yf\n",
    "import statsmodels.api as sm\n",
    "\n",
    "start = '2005-02-01'\n",
    "end = '2022-09-30'\n",
    "rf_daily = pdr.DataReader('DGS1MO', 'fred', start=start, end=end)\n",
    "ESG_prices = yf.download('SUSA', start=start, end=end, auto_adjust=False)['Adj Close']\n",
    "mkt_prices = yf.download('SPY', start=start, end=end, auto_adjust=False)['Adj Close']\n",
    "rf_monthly = rf_daily.resample('MS').first()\n",
    "ESG_prices_monthly = ESG_prices.resample('MS').first()\n",
    "mkt_prices_monthly = mkt_prices.resample('MS').first()\n",
    "ESG_returns_monthly = ESG_prices_monthly['SUSA'].pct_change()\n",
    "mkt_returns_monthly = mkt_prices_monthly['SPY'].pct_change()\n",
    "y = (ESG_returns_monthly - rf_monthly['DGS1MO']/100/12).dropna()\n",
    "X = (mkt_returns_monthly - rf_monthly['DGS1MO']/100/12).dropna()\n",
    "X = sm.add_constant(X) #A\n",
    "model = sm.OLS(y,X)\n",
    "results = model.fit()\n",
    "print(results.summary())"
   ]
  },
  {
   "cell_type": "markdown",
   "id": "95aac4a5",
   "metadata": {},
   "source": [
    "## Multifactor models"
   ]
  },
  {
   "cell_type": "code",
   "execution_count": 6,
   "id": "90bd4b39",
   "metadata": {},
   "outputs": [],
   "source": [
    "import pandas as pd\n",
    "import yfinance as yf\n",
    "import statsmodels.api as sm\n",
    "import getFamaFrenchFactors as gff"
   ]
  },
  {
   "cell_type": "markdown",
   "id": "e3566d8a",
   "metadata": {},
   "source": [
    "We saw that the one-factor alpha for stock $i$ is the constant $\\alpha$ in the following regression:\n",
    "\n",
    "$$\n",
    "r_i - r_{f} = \\alpha + \\beta \\, (r_{m} - r_{f}) + e_i\n",
    "$$\n",
    "\n",
    "Fama and French found that, historically from 1962-1989, small cap stocks outperformed large cap stocks and high book-to-market stocks (\"value stocks\") outperformed low book-to-market stocks (\"growth stocks\"). This potential irrationality in the market is sometimes referred to as an anomaly. This led to an extension of the one-factor model to a three-factor model:\n",
    "\n",
    "$$\n",
    "r - r_{f} = \\alpha + b_i\\, (r_{m} - r_{f}) + s_i \\, \\textrm{SMB} + h_i \\, \\textrm{HML} + e_i\n",
    "$$\n",
    "\n",
    "where the factor SMB (for small minus big) is a time series of returns of a portfolio that is long small cap stocks and short  large cap stocks, and HML (for high minus low) is a time series of returns for a portfolio that is long high book-to-market stocks and short low book-to-market stocks. Because the risk-free rate is subtracted from the market returns, it too can be considered a portfolio that is long the market and short a risk-free bond. In academia, the Fama-French alphas are computed for papers that claim they discovered an anomaly, to show that the anomaly is not merely a manifestation of one of these two anomalies from Fama and French. There is also a philosophical debate among academics about whether the outperformance of these factors is due to irrationality in the market, or whether they are proxies for exposures to systematic risks that are not captured by market risk. And some have argued that what seems like an irrationality in the market may not be an irrationality at all and may be the result of data mining. Indeed, growth stocks, which had significantly underperformed value stocks during the Fama-French period that ended in 1989, have significantly outperformed value stocks over the last 15 years.\n",
    "\n",
    "Since Fama and French, many additional factors have been proposed. Another common factor is Momentum. There is a long body of literature, starting with Jagadeesh and Titman, that find that stocks that have outperformed over the last 12 months continue to outperform. At the same time, there was a debate in the academic literature about whether mutual funds have a \"hot hand\", which is the notion that mutual funds that have done well in the past are able to repeat their outperformance. Many academics, who were proponents of market efficiency, believed that any outperformance was due to luck and not repeatable. But there was some evidence that surprisingly found the opposite result. Mark Carhart argued that many winning funds had an exposure to momentum stocks, which is why they became winners. And if momentum stocks tend to outperform, then the hot hand is merely due to exposure to a Momentum factor. This led to the four factor Fama-French plus Carhart:\n",
    "\n",
    "$$\n",
    "r - r_{f} = \\alpha + b_i\\, (r_{m} - r_{f}) + s_i \\, \\textrm{SMB} + h_i \\, \\textrm{HML} + m_i \\, \\textrm{MOM} + e_i\n",
    "$$\n",
    "\n",
    "where MOM is a time series of returns of a portfolio of stocks that have had positive 12-month momentum and short stocks that have had negative momentum.\n",
    "\n",
    "More recently, Fama and French have updated their model to include two additional factors, RMW, which is the difference in returns between a portfolio of companies that have high, or robust, operating profitability minus companies that have low, or weak, operating profitability, and CMA, which is the difference in returns between a portfolio of companies that have low, or conservative capital expenditures minus companies that have high, or aggressive, capital expenditures:\n",
    "\n",
    "$$\n",
    "r - r_{f} = \\alpha + b_i\\, (r_{m} - r_{f}) + s_i \\, \\textrm{SMB} + h_i \\, \\textrm{HML} + r_i \\, \\textrm{RMW} + c_i \\, \\textrm{CMA} + e_i\n",
    "$$"
   ]
  },
  {
   "cell_type": "markdown",
   "id": "36b2a211",
   "metadata": {},
   "source": [
    "To estimate the three-factor Fama-French alpha, we need to first download the time series of factor returns. The package `getFamaFrenchFactors` can be installed to help download those factors from Ken French's website, which maintains the data. After `pip install getFamaFrenchFactors`, downloading the factors is only a few lines of code:"
   ]
  },
  {
   "cell_type": "code",
   "execution_count": 7,
   "id": "3dd68632",
   "metadata": {},
   "outputs": [
    {
     "data": {
      "text/html": [
       "<div>\n",
       "<style scoped>\n",
       "    .dataframe tbody tr th:only-of-type {\n",
       "        vertical-align: middle;\n",
       "    }\n",
       "\n",
       "    .dataframe tbody tr th {\n",
       "        vertical-align: top;\n",
       "    }\n",
       "\n",
       "    .dataframe thead th {\n",
       "        text-align: right;\n",
       "    }\n",
       "</style>\n",
       "<table border=\"1\" class=\"dataframe\">\n",
       "  <thead>\n",
       "    <tr style=\"text-align: right;\">\n",
       "      <th></th>\n",
       "      <th>Mkt-RF</th>\n",
       "      <th>SMB</th>\n",
       "      <th>HML</th>\n",
       "      <th>RF</th>\n",
       "    </tr>\n",
       "    <tr>\n",
       "      <th>Date</th>\n",
       "      <th></th>\n",
       "      <th></th>\n",
       "      <th></th>\n",
       "      <th></th>\n",
       "    </tr>\n",
       "  </thead>\n",
       "  <tbody>\n",
       "    <tr>\n",
       "      <th>1926-07-31</th>\n",
       "      <td>0.0296</td>\n",
       "      <td>-0.0256</td>\n",
       "      <td>-0.0243</td>\n",
       "      <td>0.0022</td>\n",
       "    </tr>\n",
       "    <tr>\n",
       "      <th>1926-08-31</th>\n",
       "      <td>0.0264</td>\n",
       "      <td>-0.0117</td>\n",
       "      <td>0.0382</td>\n",
       "      <td>0.0025</td>\n",
       "    </tr>\n",
       "    <tr>\n",
       "      <th>1926-09-30</th>\n",
       "      <td>0.0036</td>\n",
       "      <td>-0.0140</td>\n",
       "      <td>0.0013</td>\n",
       "      <td>0.0023</td>\n",
       "    </tr>\n",
       "    <tr>\n",
       "      <th>1926-10-31</th>\n",
       "      <td>-0.0324</td>\n",
       "      <td>-0.0009</td>\n",
       "      <td>0.0070</td>\n",
       "      <td>0.0032</td>\n",
       "    </tr>\n",
       "    <tr>\n",
       "      <th>1926-11-30</th>\n",
       "      <td>0.0253</td>\n",
       "      <td>-0.0010</td>\n",
       "      <td>-0.0051</td>\n",
       "      <td>0.0031</td>\n",
       "    </tr>\n",
       "  </tbody>\n",
       "</table>\n",
       "</div>"
      ],
      "text/plain": [
       "            Mkt-RF     SMB     HML      RF\n",
       "Date                                      \n",
       "1926-07-31  0.0296 -0.0256 -0.0243  0.0022\n",
       "1926-08-31  0.0264 -0.0117  0.0382  0.0025\n",
       "1926-09-30  0.0036 -0.0140  0.0013  0.0023\n",
       "1926-10-31 -0.0324 -0.0009  0.0070  0.0032\n",
       "1926-11-30  0.0253 -0.0010 -0.0051  0.0031"
      ]
     },
     "execution_count": 7,
     "metadata": {},
     "output_type": "execute_result"
    }
   ],
   "source": [
    "import getFamaFrenchFactors as gff\n",
    "\n",
    "ff3 = gff.famaFrench3Factor(frequency='m')\n",
    "ff3.rename(columns={\"date_ff_factors\": 'Date'}, inplace=True)\n",
    "ff3.set_index('Date', inplace=True)\n",
    "ff3.head()"
   ]
  },
  {
   "cell_type": "markdown",
   "id": "c28fab10",
   "metadata": {},
   "source": [
    "The data frequency options are either monthly or annually. Next we will download the daily prices for the ESG fund SUSA, and resample the data to monthly and compute returns."
   ]
  },
  {
   "cell_type": "code",
   "execution_count": 10,
   "id": "c9f2e278",
   "metadata": {},
   "outputs": [
    {
     "name": "stderr",
     "output_type": "stream",
     "text": [
      "[*********************100%***********************]  1 of 1 completed\n",
      "/var/folders/6g/0ggzchw54n9_f4jpxx_2www80000gp/T/ipykernel_22376/1371832066.py:2: FutureWarning: 'M' is deprecated and will be removed in a future version, please use 'ME' instead.\n",
      "  ESG_returns = ESG_prices.resample('M').last()['SUSA'].pct_change().dropna()\n"
     ]
    }
   ],
   "source": [
    "ESG_prices = yf.download('SUSA', start='2005-02-01', end='2022-09-30', auto_adjust=False)['Adj Close']\n",
    "ESG_returns = ESG_prices.resample('M').last()['SUSA'].pct_change().dropna()"
   ]
  },
  {
   "cell_type": "code",
   "execution_count": 11,
   "id": "7ef70393",
   "metadata": {},
   "outputs": [
    {
     "data": {
      "text/plain": [
       "Date\n",
       "2005-03-31   -0.014168\n",
       "2005-04-30   -0.029630\n",
       "2005-05-31    0.055911\n",
       "2005-06-30   -0.002434\n",
       "2005-07-31    0.030832\n",
       "Freq: ME, Name: SUSA, dtype: float64"
      ]
     },
     "execution_count": 11,
     "metadata": {},
     "output_type": "execute_result"
    }
   ],
   "source": [
    "ESG_returns.head()"
   ]
  },
  {
   "cell_type": "markdown",
   "id": "a542bf2b",
   "metadata": {},
   "source": [
    "Next, we will merge the Fama-French factor returns with the ETF returns"
   ]
  },
  {
   "cell_type": "code",
   "execution_count": 12,
   "id": "0e736c17",
   "metadata": {},
   "outputs": [
    {
     "data": {
      "text/html": [
       "<div>\n",
       "<style scoped>\n",
       "    .dataframe tbody tr th:only-of-type {\n",
       "        vertical-align: middle;\n",
       "    }\n",
       "\n",
       "    .dataframe tbody tr th {\n",
       "        vertical-align: top;\n",
       "    }\n",
       "\n",
       "    .dataframe thead th {\n",
       "        text-align: right;\n",
       "    }\n",
       "</style>\n",
       "<table border=\"1\" class=\"dataframe\">\n",
       "  <thead>\n",
       "    <tr style=\"text-align: right;\">\n",
       "      <th></th>\n",
       "      <th>Mkt-RF</th>\n",
       "      <th>SMB</th>\n",
       "      <th>HML</th>\n",
       "      <th>RF</th>\n",
       "      <th>SUSA</th>\n",
       "    </tr>\n",
       "    <tr>\n",
       "      <th>Date</th>\n",
       "      <th></th>\n",
       "      <th></th>\n",
       "      <th></th>\n",
       "      <th></th>\n",
       "      <th></th>\n",
       "    </tr>\n",
       "  </thead>\n",
       "  <tbody>\n",
       "    <tr>\n",
       "      <th>2005-03-31</th>\n",
       "      <td>-0.0197</td>\n",
       "      <td>-0.0140</td>\n",
       "      <td>0.0204</td>\n",
       "      <td>0.0021</td>\n",
       "      <td>-0.014168</td>\n",
       "    </tr>\n",
       "    <tr>\n",
       "      <th>2005-04-30</th>\n",
       "      <td>-0.0261</td>\n",
       "      <td>-0.0394</td>\n",
       "      <td>0.0007</td>\n",
       "      <td>0.0021</td>\n",
       "      <td>-0.029630</td>\n",
       "    </tr>\n",
       "    <tr>\n",
       "      <th>2005-05-31</th>\n",
       "      <td>0.0365</td>\n",
       "      <td>0.0288</td>\n",
       "      <td>-0.0064</td>\n",
       "      <td>0.0024</td>\n",
       "      <td>0.055911</td>\n",
       "    </tr>\n",
       "    <tr>\n",
       "      <th>2005-06-30</th>\n",
       "      <td>0.0057</td>\n",
       "      <td>0.0258</td>\n",
       "      <td>0.0283</td>\n",
       "      <td>0.0023</td>\n",
       "      <td>-0.002434</td>\n",
       "    </tr>\n",
       "    <tr>\n",
       "      <th>2005-07-31</th>\n",
       "      <td>0.0392</td>\n",
       "      <td>0.0291</td>\n",
       "      <td>-0.0079</td>\n",
       "      <td>0.0024</td>\n",
       "      <td>0.030832</td>\n",
       "    </tr>\n",
       "  </tbody>\n",
       "</table>\n",
       "</div>"
      ],
      "text/plain": [
       "            Mkt-RF     SMB     HML      RF      SUSA\n",
       "Date                                                \n",
       "2005-03-31 -0.0197 -0.0140  0.0204  0.0021 -0.014168\n",
       "2005-04-30 -0.0261 -0.0394  0.0007  0.0021 -0.029630\n",
       "2005-05-31  0.0365  0.0288 -0.0064  0.0024  0.055911\n",
       "2005-06-30  0.0057  0.0258  0.0283  0.0023 -0.002434\n",
       "2005-07-31  0.0392  0.0291 -0.0079  0.0024  0.030832"
      ]
     },
     "execution_count": 12,
     "metadata": {},
     "output_type": "execute_result"
    }
   ],
   "source": [
    "combined_returns = ff3.merge(ESG_returns,on='Date')\n",
    "combined_returns.head()"
   ]
  },
  {
   "cell_type": "markdown",
   "id": "650e5630",
   "metadata": {},
   "source": [
    "Just as before with the one-factor alpha, we will regress the excess returns of the ETF on the returns of the factors, but now using the three factors."
   ]
  },
  {
   "cell_type": "code",
   "execution_count": 15,
   "id": "d6dc1964",
   "metadata": {},
   "outputs": [
    {
     "name": "stdout",
     "output_type": "stream",
     "text": [
      "                            OLS Regression Results                            \n",
      "==============================================================================\n",
      "Dep. Variable:                      y   R-squared:                       0.975\n",
      "Model:                            OLS   Adj. R-squared:                  0.974\n",
      "Method:                 Least Squares   F-statistic:                     2646.\n",
      "Date:                Sat, 12 Apr 2025   Prob (F-statistic):          9.64e-165\n",
      "Time:                        22:37:30   Log-Likelihood:                 745.48\n",
      "No. Observations:                 211   AIC:                            -1483.\n",
      "Df Residuals:                     207   BIC:                            -1470.\n",
      "Df Model:                           3                                         \n",
      "Covariance Type:            nonrobust                                         \n",
      "==============================================================================\n",
      "                 coef    std err          t      P>|t|      [0.025      0.975]\n",
      "------------------------------------------------------------------------------\n",
      "const         -0.0004      0.000     -0.730      0.466      -0.001       0.001\n",
      "Mkt-RF         0.9893      0.012     84.353      0.000       0.966       1.012\n",
      "SMB           -0.0996      0.022     -4.582      0.000      -0.142      -0.057\n",
      "HML           -0.0255      0.016     -1.617      0.107      -0.057       0.006\n",
      "==============================================================================\n",
      "Omnibus:                        3.985   Durbin-Watson:                   2.043\n",
      "Prob(Omnibus):                  0.136   Jarque-Bera (JB):                4.984\n",
      "Skew:                          -0.026   Prob(JB):                       0.0827\n",
      "Kurtosis:                       3.751   Cond. No.                         45.2\n",
      "==============================================================================\n",
      "\n",
      "Notes:\n",
      "[1] Standard Errors assume that the covariance matrix of the errors is correctly specified.\n"
     ]
    }
   ],
   "source": [
    "X = combined_returns[['Mkt-RF', 'SMB', 'HML']]\n",
    "y = combined_returns['SUSA'] - combined_returns['RF']\n",
    "X = sm.add_constant(X)\n",
    "mod = sm.OLS(y, X).fit()\n",
    "print(mod.summary())"
   ]
  },
  {
   "cell_type": "markdown",
   "id": "fbf1190b",
   "metadata": {},
   "source": [
    "The beta coefficient on HML is negative but not significant, but the coefficient on SML is significantly negative, as expected since the ESG fund holds mostly larger cap stocks. However, the three-factor alpha is slighly negative, just like the one-factor alpha.\n",
    "\n",
    "To get the three-factor plus Carhart alpha, simply download the factor returns four these four factors:"
   ]
  },
  {
   "cell_type": "code",
   "execution_count": 16,
   "id": "52d01c13",
   "metadata": {},
   "outputs": [
    {
     "data": {
      "text/html": [
       "<div>\n",
       "<style scoped>\n",
       "    .dataframe tbody tr th:only-of-type {\n",
       "        vertical-align: middle;\n",
       "    }\n",
       "\n",
       "    .dataframe tbody tr th {\n",
       "        vertical-align: top;\n",
       "    }\n",
       "\n",
       "    .dataframe thead th {\n",
       "        text-align: right;\n",
       "    }\n",
       "</style>\n",
       "<table border=\"1\" class=\"dataframe\">\n",
       "  <thead>\n",
       "    <tr style=\"text-align: right;\">\n",
       "      <th></th>\n",
       "      <th>date_ff_factors</th>\n",
       "      <th>Mkt-RF</th>\n",
       "      <th>SMB</th>\n",
       "      <th>HML</th>\n",
       "      <th>RF</th>\n",
       "      <th>MOM</th>\n",
       "    </tr>\n",
       "  </thead>\n",
       "  <tbody>\n",
       "    <tr>\n",
       "      <th>0</th>\n",
       "      <td>1926-07-31</td>\n",
       "      <td>0.0296</td>\n",
       "      <td>-0.0256</td>\n",
       "      <td>-0.0243</td>\n",
       "      <td>0.0022</td>\n",
       "      <td>NaN</td>\n",
       "    </tr>\n",
       "    <tr>\n",
       "      <th>1</th>\n",
       "      <td>1926-08-31</td>\n",
       "      <td>0.0264</td>\n",
       "      <td>-0.0117</td>\n",
       "      <td>0.0382</td>\n",
       "      <td>0.0025</td>\n",
       "      <td>NaN</td>\n",
       "    </tr>\n",
       "    <tr>\n",
       "      <th>2</th>\n",
       "      <td>1926-09-30</td>\n",
       "      <td>0.0036</td>\n",
       "      <td>-0.0140</td>\n",
       "      <td>0.0013</td>\n",
       "      <td>0.0023</td>\n",
       "      <td>NaN</td>\n",
       "    </tr>\n",
       "    <tr>\n",
       "      <th>3</th>\n",
       "      <td>1926-10-31</td>\n",
       "      <td>-0.0324</td>\n",
       "      <td>-0.0009</td>\n",
       "      <td>0.0070</td>\n",
       "      <td>0.0032</td>\n",
       "      <td>NaN</td>\n",
       "    </tr>\n",
       "    <tr>\n",
       "      <th>4</th>\n",
       "      <td>1926-11-30</td>\n",
       "      <td>0.0253</td>\n",
       "      <td>-0.0010</td>\n",
       "      <td>-0.0051</td>\n",
       "      <td>0.0031</td>\n",
       "      <td>NaN</td>\n",
       "    </tr>\n",
       "  </tbody>\n",
       "</table>\n",
       "</div>"
      ],
      "text/plain": [
       "  date_ff_factors  Mkt-RF     SMB     HML      RF  MOM\n",
       "0      1926-07-31  0.0296 -0.0256 -0.0243  0.0022  NaN\n",
       "1      1926-08-31  0.0264 -0.0117  0.0382  0.0025  NaN\n",
       "2      1926-09-30  0.0036 -0.0140  0.0013  0.0023  NaN\n",
       "3      1926-10-31 -0.0324 -0.0009  0.0070  0.0032  NaN\n",
       "4      1926-11-30  0.0253 -0.0010 -0.0051  0.0031  NaN"
      ]
     },
     "execution_count": 16,
     "metadata": {},
     "output_type": "execute_result"
    }
   ],
   "source": [
    "carhart4 = gff.carhart4Factor(frequency='m')\n",
    "carhart4.head()"
   ]
  },
  {
   "cell_type": "markdown",
   "id": "0c8c7274",
   "metadata": {},
   "source": [
    "To get the five-factor alpha:"
   ]
  },
  {
   "cell_type": "code",
   "execution_count": 17,
   "id": "18db9f07",
   "metadata": {},
   "outputs": [
    {
     "data": {
      "text/html": [
       "<div>\n",
       "<style scoped>\n",
       "    .dataframe tbody tr th:only-of-type {\n",
       "        vertical-align: middle;\n",
       "    }\n",
       "\n",
       "    .dataframe tbody tr th {\n",
       "        vertical-align: top;\n",
       "    }\n",
       "\n",
       "    .dataframe thead th {\n",
       "        text-align: right;\n",
       "    }\n",
       "</style>\n",
       "<table border=\"1\" class=\"dataframe\">\n",
       "  <thead>\n",
       "    <tr style=\"text-align: right;\">\n",
       "      <th></th>\n",
       "      <th>date_ff_factors</th>\n",
       "      <th>Mkt-RF</th>\n",
       "      <th>SMB</th>\n",
       "      <th>HML</th>\n",
       "      <th>RMW</th>\n",
       "      <th>CMA</th>\n",
       "      <th>RF</th>\n",
       "    </tr>\n",
       "  </thead>\n",
       "  <tbody>\n",
       "    <tr>\n",
       "      <th>0</th>\n",
       "      <td>1963-07-31</td>\n",
       "      <td>-0.0039</td>\n",
       "      <td>-0.0041</td>\n",
       "      <td>-0.0097</td>\n",
       "      <td>0.0068</td>\n",
       "      <td>-0.0118</td>\n",
       "      <td>0.0027</td>\n",
       "    </tr>\n",
       "    <tr>\n",
       "      <th>1</th>\n",
       "      <td>1963-08-31</td>\n",
       "      <td>0.0507</td>\n",
       "      <td>-0.0080</td>\n",
       "      <td>0.0180</td>\n",
       "      <td>0.0036</td>\n",
       "      <td>-0.0035</td>\n",
       "      <td>0.0025</td>\n",
       "    </tr>\n",
       "    <tr>\n",
       "      <th>2</th>\n",
       "      <td>1963-09-30</td>\n",
       "      <td>-0.0157</td>\n",
       "      <td>-0.0052</td>\n",
       "      <td>0.0013</td>\n",
       "      <td>-0.0071</td>\n",
       "      <td>0.0029</td>\n",
       "      <td>0.0027</td>\n",
       "    </tr>\n",
       "    <tr>\n",
       "      <th>3</th>\n",
       "      <td>1963-10-31</td>\n",
       "      <td>0.0253</td>\n",
       "      <td>-0.0139</td>\n",
       "      <td>-0.0010</td>\n",
       "      <td>0.0280</td>\n",
       "      <td>-0.0201</td>\n",
       "      <td>0.0029</td>\n",
       "    </tr>\n",
       "    <tr>\n",
       "      <th>4</th>\n",
       "      <td>1963-11-30</td>\n",
       "      <td>-0.0085</td>\n",
       "      <td>-0.0088</td>\n",
       "      <td>0.0175</td>\n",
       "      <td>-0.0051</td>\n",
       "      <td>0.0224</td>\n",
       "      <td>0.0027</td>\n",
       "    </tr>\n",
       "  </tbody>\n",
       "</table>\n",
       "</div>"
      ],
      "text/plain": [
       "  date_ff_factors  Mkt-RF     SMB     HML     RMW     CMA      RF\n",
       "0      1963-07-31 -0.0039 -0.0041 -0.0097  0.0068 -0.0118  0.0027\n",
       "1      1963-08-31  0.0507 -0.0080  0.0180  0.0036 -0.0035  0.0025\n",
       "2      1963-09-30 -0.0157 -0.0052  0.0013 -0.0071  0.0029  0.0027\n",
       "3      1963-10-31  0.0253 -0.0139 -0.0010  0.0280 -0.0201  0.0029\n",
       "4      1963-11-30 -0.0085 -0.0088  0.0175 -0.0051  0.0224  0.0027"
      ]
     },
     "execution_count": 17,
     "metadata": {},
     "output_type": "execute_result"
    }
   ],
   "source": [
    "ff5 = gff.famaFrench5Factor(frequency='m')\n",
    "ff5.head()"
   ]
  }
 ],
 "metadata": {
  "kernelspec": {
   "display_name": ".venv",
   "language": "python",
   "name": "python3"
  },
  "language_info": {
   "codemirror_mode": {
    "name": "ipython",
    "version": 3
   },
   "file_extension": ".py",
   "mimetype": "text/x-python",
   "name": "python",
   "nbconvert_exporter": "python",
   "pygments_lexer": "ipython3",
   "version": "3.11.10"
  }
 },
 "nbformat": 4,
 "nbformat_minor": 5
}
