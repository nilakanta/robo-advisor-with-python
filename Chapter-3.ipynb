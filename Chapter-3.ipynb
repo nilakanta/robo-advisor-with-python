{
 "cells": [
  {
   "cell_type": "markdown",
   "id": "67bf5ab8",
   "metadata": {},
   "source": [
    "In Table 3-1, we downloaded AAPL stock prices, and we mention that the `Adj Close` column adjusts past prices for dividends and corporate actions like stock splits. This is a nice feature of Yahoo! data. Most other data sources, like Bloomberg and WRDS, require the user to do the adjustments themselves. But how does Yahoo! do those adjustments? Let's download the data and look at it more carefully. We will use the `history()` method to get the dividends."
   ]
  },
  {
   "cell_type": "code",
   "execution_count": 9,
   "id": "af8cf24f",
   "metadata": {},
   "outputs": [
    {
     "data": {
      "text/html": [
       "<div>\n",
       "<style scoped>\n",
       "    .dataframe tbody tr th:only-of-type {\n",
       "        vertical-align: middle;\n",
       "    }\n",
       "\n",
       "    .dataframe tbody tr th {\n",
       "        vertical-align: top;\n",
       "    }\n",
       "\n",
       "    .dataframe thead th {\n",
       "        text-align: right;\n",
       "    }\n",
       "</style>\n",
       "<table border=\"1\" class=\"dataframe\">\n",
       "  <thead>\n",
       "    <tr style=\"text-align: right;\">\n",
       "      <th></th>\n",
       "      <th>Open</th>\n",
       "      <th>High</th>\n",
       "      <th>Low</th>\n",
       "      <th>Close</th>\n",
       "      <th>Adj Close</th>\n",
       "      <th>Volume</th>\n",
       "      <th>Dividends</th>\n",
       "      <th>Stock Splits</th>\n",
       "    </tr>\n",
       "    <tr>\n",
       "      <th>Date</th>\n",
       "      <th></th>\n",
       "      <th></th>\n",
       "      <th></th>\n",
       "      <th></th>\n",
       "      <th></th>\n",
       "      <th></th>\n",
       "      <th></th>\n",
       "      <th></th>\n",
       "    </tr>\n",
       "  </thead>\n",
       "  <tbody>\n",
       "    <tr>\n",
       "      <th>2022-05-03</th>\n",
       "      <td>158.149994</td>\n",
       "      <td>160.710007</td>\n",
       "      <td>156.320007</td>\n",
       "      <td>159.479996</td>\n",
       "      <td>159.025131</td>\n",
       "      <td>88966500</td>\n",
       "      <td>0.00</td>\n",
       "      <td>0</td>\n",
       "    </tr>\n",
       "    <tr>\n",
       "      <th>2022-05-04</th>\n",
       "      <td>159.669998</td>\n",
       "      <td>166.479996</td>\n",
       "      <td>159.259995</td>\n",
       "      <td>166.020004</td>\n",
       "      <td>165.546478</td>\n",
       "      <td>108256500</td>\n",
       "      <td>0.00</td>\n",
       "      <td>0</td>\n",
       "    </tr>\n",
       "    <tr>\n",
       "      <th>2022-05-05</th>\n",
       "      <td>163.850006</td>\n",
       "      <td>164.080002</td>\n",
       "      <td>154.949997</td>\n",
       "      <td>156.770004</td>\n",
       "      <td>156.322876</td>\n",
       "      <td>130525300</td>\n",
       "      <td>0.00</td>\n",
       "      <td>0</td>\n",
       "    </tr>\n",
       "    <tr>\n",
       "      <th>2022-05-06</th>\n",
       "      <td>156.009995</td>\n",
       "      <td>159.440002</td>\n",
       "      <td>154.179993</td>\n",
       "      <td>157.279999</td>\n",
       "      <td>157.061829</td>\n",
       "      <td>116124600</td>\n",
       "      <td>0.23</td>\n",
       "      <td>0</td>\n",
       "    </tr>\n",
       "    <tr>\n",
       "      <th>2022-05-09</th>\n",
       "      <td>154.929993</td>\n",
       "      <td>155.830002</td>\n",
       "      <td>151.490005</td>\n",
       "      <td>152.059998</td>\n",
       "      <td>151.849075</td>\n",
       "      <td>131577900</td>\n",
       "      <td>0.00</td>\n",
       "      <td>0</td>\n",
       "    </tr>\n",
       "  </tbody>\n",
       "</table>\n",
       "</div>"
      ],
      "text/plain": [
       "                  Open        High         Low       Close   Adj Close  \\\n",
       "Date                                                                     \n",
       "2022-05-03  158.149994  160.710007  156.320007  159.479996  159.025131   \n",
       "2022-05-04  159.669998  166.479996  159.259995  166.020004  165.546478   \n",
       "2022-05-05  163.850006  164.080002  154.949997  156.770004  156.322876   \n",
       "2022-05-06  156.009995  159.440002  154.179993  157.279999  157.061829   \n",
       "2022-05-09  154.929993  155.830002  151.490005  152.059998  151.849075   \n",
       "\n",
       "               Volume  Dividends  Stock Splits  \n",
       "Date                                            \n",
       "2022-05-03   88966500       0.00             0  \n",
       "2022-05-04  108256500       0.00             0  \n",
       "2022-05-05  130525300       0.00             0  \n",
       "2022-05-06  116124600       0.23             0  \n",
       "2022-05-09  131577900       0.00             0  "
      ]
     },
     "execution_count": 9,
     "metadata": {},
     "output_type": "execute_result"
    }
   ],
   "source": [
    "df = yf.Ticker('AAPL').history(start='2022-05-03', end='2022-05-10', auto_adjust=False)\n",
    "df"
   ]
  },
  {
   "cell_type": "code",
   "execution_count": null,
   "id": "d2112a4d",
   "metadata": {},
   "outputs": [],
   "source": [
    "history(period='1mo', interval='1d', start=None, end=None, \n",
    "        prepost=False, actions=True, auto_adjust=True, back_adjust=False, proxy=None, rounding=False, tz=None, **kwargs)"
   ]
  },
  {
   "cell_type": "markdown",
   "id": "f9873716",
   "metadata": {},
   "source": []
  }
 ],
 "metadata": {
  "kernelspec": {
   "display_name": "Python 3 (ipykernel)",
   "language": "python",
   "name": "python3"
  },
  "language_info": {
   "codemirror_mode": {
    "name": "ipython",
    "version": 3
   },
   "file_extension": ".py",
   "mimetype": "text/x-python",
   "name": "python",
   "nbconvert_exporter": "python",
   "pygments_lexer": "ipython3",
   "version": "3.9.12"
  }
 },
 "nbformat": 4,
 "nbformat_minor": 5
}
