{
 "cells": [
  {
   "cell_type": "markdown",
   "id": "7cc90c44",
   "metadata": {},
   "source": [
    "# Chapter 3: Estimating Expected Returns and Covariances\n",
    "\n",
    "## 3.1 Estimating Expected Returns\n",
    "\n",
    "## Listing 3.1"
   ]
  },
  {
   "cell_type": "code",
   "execution_count": 49,
   "id": "22271910",
   "metadata": {},
   "outputs": [
    {
     "name": "stderr",
     "output_type": "stream",
     "text": [
      "[*********************100%***********************]  1 of 1 completed\n"
     ]
    },
    {
     "data": {
      "text/html": [
       "<div>\n",
       "<style scoped>\n",
       "    .dataframe tbody tr th:only-of-type {\n",
       "        vertical-align: middle;\n",
       "    }\n",
       "\n",
       "    .dataframe tbody tr th {\n",
       "        vertical-align: top;\n",
       "    }\n",
       "\n",
       "    .dataframe thead tr th {\n",
       "        text-align: left;\n",
       "    }\n",
       "\n",
       "    .dataframe thead tr:last-of-type th {\n",
       "        text-align: right;\n",
       "    }\n",
       "</style>\n",
       "<table border=\"1\" class=\"dataframe\">\n",
       "  <thead>\n",
       "    <tr>\n",
       "      <th>Price</th>\n",
       "      <th>Adj Close</th>\n",
       "      <th>Close</th>\n",
       "      <th>High</th>\n",
       "      <th>Low</th>\n",
       "      <th>Open</th>\n",
       "      <th>Volume</th>\n",
       "    </tr>\n",
       "    <tr>\n",
       "      <th>Ticker</th>\n",
       "      <th>AAPL</th>\n",
       "      <th>AAPL</th>\n",
       "      <th>AAPL</th>\n",
       "      <th>AAPL</th>\n",
       "      <th>AAPL</th>\n",
       "      <th>AAPL</th>\n",
       "    </tr>\n",
       "    <tr>\n",
       "      <th>Date</th>\n",
       "      <th></th>\n",
       "      <th></th>\n",
       "      <th></th>\n",
       "      <th></th>\n",
       "      <th></th>\n",
       "      <th></th>\n",
       "    </tr>\n",
       "  </thead>\n",
       "  <tbody>\n",
       "    <tr>\n",
       "      <th>2025-03-24</th>\n",
       "      <td>220.729996</td>\n",
       "      <td>220.729996</td>\n",
       "      <td>221.479996</td>\n",
       "      <td>218.580002</td>\n",
       "      <td>221.000000</td>\n",
       "      <td>44299500</td>\n",
       "    </tr>\n",
       "    <tr>\n",
       "      <th>2025-03-25</th>\n",
       "      <td>223.750000</td>\n",
       "      <td>223.750000</td>\n",
       "      <td>224.100006</td>\n",
       "      <td>220.080002</td>\n",
       "      <td>220.770004</td>\n",
       "      <td>34493600</td>\n",
       "    </tr>\n",
       "    <tr>\n",
       "      <th>2025-03-26</th>\n",
       "      <td>221.529999</td>\n",
       "      <td>221.529999</td>\n",
       "      <td>225.020004</td>\n",
       "      <td>220.470001</td>\n",
       "      <td>223.509995</td>\n",
       "      <td>34466100</td>\n",
       "    </tr>\n",
       "    <tr>\n",
       "      <th>2025-03-27</th>\n",
       "      <td>223.850006</td>\n",
       "      <td>223.850006</td>\n",
       "      <td>224.990005</td>\n",
       "      <td>220.559998</td>\n",
       "      <td>221.389999</td>\n",
       "      <td>37094800</td>\n",
       "    </tr>\n",
       "    <tr>\n",
       "      <th>2025-03-28</th>\n",
       "      <td>217.899994</td>\n",
       "      <td>217.899994</td>\n",
       "      <td>223.809998</td>\n",
       "      <td>217.679993</td>\n",
       "      <td>221.669998</td>\n",
       "      <td>39818600</td>\n",
       "    </tr>\n",
       "  </tbody>\n",
       "</table>\n",
       "</div>"
      ],
      "text/plain": [
       "Price        Adj Close       Close        High         Low        Open  \\\n",
       "Ticker            AAPL        AAPL        AAPL        AAPL        AAPL   \n",
       "Date                                                                     \n",
       "2025-03-24  220.729996  220.729996  221.479996  218.580002  221.000000   \n",
       "2025-03-25  223.750000  223.750000  224.100006  220.080002  220.770004   \n",
       "2025-03-26  221.529999  221.529999  225.020004  220.470001  223.509995   \n",
       "2025-03-27  223.850006  223.850006  224.990005  220.559998  221.389999   \n",
       "2025-03-28  217.899994  217.899994  223.809998  217.679993  221.669998   \n",
       "\n",
       "Price         Volume  \n",
       "Ticker          AAPL  \n",
       "Date                  \n",
       "2025-03-24  44299500  \n",
       "2025-03-25  34493600  \n",
       "2025-03-26  34466100  \n",
       "2025-03-27  37094800  \n",
       "2025-03-28  39818600  "
      ]
     },
     "execution_count": 49,
     "metadata": {},
     "output_type": "execute_result"
    }
   ],
   "source": [
    "import pandas as pd\n",
    "import yfinance as yf\n",
    "\n",
    "df = yf.download(\"AAPL\", start='2000-01-03', end='2025-03-31', auto_adjust=False)\n",
    "df.tail()"
   ]
  },
  {
   "cell_type": "code",
   "execution_count": 50,
   "id": "292f584a",
   "metadata": {},
   "outputs": [
    {
     "name": "stderr",
     "output_type": "stream",
     "text": [
      "[*********************100%***********************]  3 of 3 completed\n"
     ]
    },
    {
     "data": {
      "text/html": [
       "<div>\n",
       "<style scoped>\n",
       "    .dataframe tbody tr th:only-of-type {\n",
       "        vertical-align: middle;\n",
       "    }\n",
       "\n",
       "    .dataframe tbody tr th {\n",
       "        vertical-align: top;\n",
       "    }\n",
       "\n",
       "    .dataframe thead th {\n",
       "        text-align: right;\n",
       "    }\n",
       "</style>\n",
       "<table border=\"1\" class=\"dataframe\">\n",
       "  <thead>\n",
       "    <tr style=\"text-align: right;\">\n",
       "      <th>Ticker</th>\n",
       "      <th>AAPL</th>\n",
       "      <th>FE</th>\n",
       "      <th>WMT</th>\n",
       "    </tr>\n",
       "    <tr>\n",
       "      <th>Date</th>\n",
       "      <th></th>\n",
       "      <th></th>\n",
       "      <th></th>\n",
       "    </tr>\n",
       "  </thead>\n",
       "  <tbody>\n",
       "    <tr>\n",
       "      <th>2000-01-03</th>\n",
       "      <td>0.842151</td>\n",
       "      <td>7.134867</td>\n",
       "      <td>14.307394</td>\n",
       "    </tr>\n",
       "    <tr>\n",
       "      <th>2000-01-04</th>\n",
       "      <td>0.771149</td>\n",
       "      <td>7.134867</td>\n",
       "      <td>13.772034</td>\n",
       "    </tr>\n",
       "    <tr>\n",
       "      <th>2000-01-05</th>\n",
       "      <td>0.782433</td>\n",
       "      <td>7.397619</td>\n",
       "      <td>13.490974</td>\n",
       "    </tr>\n",
       "    <tr>\n",
       "      <th>2000-01-06</th>\n",
       "      <td>0.714723</td>\n",
       "      <td>7.417831</td>\n",
       "      <td>13.638195</td>\n",
       "    </tr>\n",
       "    <tr>\n",
       "      <th>2000-01-07</th>\n",
       "      <td>0.748578</td>\n",
       "      <td>7.458258</td>\n",
       "      <td>14.668761</td>\n",
       "    </tr>\n",
       "  </tbody>\n",
       "</table>\n",
       "</div>"
      ],
      "text/plain": [
       "Ticker          AAPL        FE        WMT\n",
       "Date                                     \n",
       "2000-01-03  0.842151  7.134867  14.307394\n",
       "2000-01-04  0.771149  7.134867  13.772034\n",
       "2000-01-05  0.782433  7.397619  13.490974\n",
       "2000-01-06  0.714723  7.417831  13.638195\n",
       "2000-01-07  0.748578  7.458258  14.668761"
      ]
     },
     "execution_count": 50,
     "metadata": {},
     "output_type": "execute_result"
    }
   ],
   "source": [
    "stocks = ['AAPL', 'FE', 'WMT']\n",
    "stock_prices = yf.download(stocks, start='2000-01-03', end='2025-03-31', auto_adjust=False)['Adj Close']\n",
    "stock_prices.head()"
   ]
  },
  {
   "cell_type": "code",
   "execution_count": 51,
   "id": "5ab27d19",
   "metadata": {},
   "outputs": [
    {
     "data": {
      "text/html": [
       "<div>\n",
       "<style scoped>\n",
       "    .dataframe tbody tr th:only-of-type {\n",
       "        vertical-align: middle;\n",
       "    }\n",
       "\n",
       "    .dataframe tbody tr th {\n",
       "        vertical-align: top;\n",
       "    }\n",
       "\n",
       "    .dataframe thead th {\n",
       "        text-align: right;\n",
       "    }\n",
       "</style>\n",
       "<table border=\"1\" class=\"dataframe\">\n",
       "  <thead>\n",
       "    <tr style=\"text-align: right;\">\n",
       "      <th>Ticker</th>\n",
       "      <th>AAPL</th>\n",
       "      <th>FE</th>\n",
       "      <th>WMT</th>\n",
       "    </tr>\n",
       "    <tr>\n",
       "      <th>Date</th>\n",
       "      <th></th>\n",
       "      <th></th>\n",
       "      <th></th>\n",
       "    </tr>\n",
       "  </thead>\n",
       "  <tbody>\n",
       "    <tr>\n",
       "      <th>2000-01-03</th>\n",
       "      <td>NaN</td>\n",
       "      <td>NaN</td>\n",
       "      <td>NaN</td>\n",
       "    </tr>\n",
       "    <tr>\n",
       "      <th>2000-01-04</th>\n",
       "      <td>-0.084310</td>\n",
       "      <td>0.000000</td>\n",
       "      <td>-0.037418</td>\n",
       "    </tr>\n",
       "    <tr>\n",
       "      <th>2000-01-05</th>\n",
       "      <td>0.014633</td>\n",
       "      <td>0.036826</td>\n",
       "      <td>-0.020408</td>\n",
       "    </tr>\n",
       "    <tr>\n",
       "      <th>2000-01-06</th>\n",
       "      <td>-0.086538</td>\n",
       "      <td>0.002732</td>\n",
       "      <td>0.010913</td>\n",
       "    </tr>\n",
       "    <tr>\n",
       "      <th>2000-01-07</th>\n",
       "      <td>0.047369</td>\n",
       "      <td>0.005450</td>\n",
       "      <td>0.075565</td>\n",
       "    </tr>\n",
       "  </tbody>\n",
       "</table>\n",
       "</div>"
      ],
      "text/plain": [
       "Ticker          AAPL        FE       WMT\n",
       "Date                                    \n",
       "2000-01-03       NaN       NaN       NaN\n",
       "2000-01-04 -0.084310  0.000000 -0.037418\n",
       "2000-01-05  0.014633  0.036826 -0.020408\n",
       "2000-01-06 -0.086538  0.002732  0.010913\n",
       "2000-01-07  0.047369  0.005450  0.075565"
      ]
     },
     "execution_count": 51,
     "metadata": {},
     "output_type": "execute_result"
    }
   ],
   "source": [
    "stock_returns = stock_prices.pct_change()\n",
    "stock_returns.head()"
   ]
  },
  {
   "cell_type": "code",
   "execution_count": 52,
   "id": "5e0f17f5",
   "metadata": {},
   "outputs": [
    {
     "data": {
      "text/plain": [
       "Ticker\n",
       "AAPL    0.298480\n",
       "FE      0.101438\n",
       "WMT     0.098146\n",
       "dtype: float64"
      ]
     },
     "execution_count": 52,
     "metadata": {},
     "output_type": "execute_result"
    }
   ],
   "source": [
    "stock_returns.mean()*252"
   ]
  },
  {
   "cell_type": "markdown",
   "id": "1cd392e4",
   "metadata": {},
   "source": [
    "## Listing 3.2"
   ]
  },
  {
   "cell_type": "code",
   "execution_count": 53,
   "id": "7682de85",
   "metadata": {},
   "outputs": [
    {
     "data": {
      "text/html": [
       "<div>\n",
       "<style scoped>\n",
       "    .dataframe tbody tr th:only-of-type {\n",
       "        vertical-align: middle;\n",
       "    }\n",
       "\n",
       "    .dataframe tbody tr th {\n",
       "        vertical-align: top;\n",
       "    }\n",
       "\n",
       "    .dataframe thead th {\n",
       "        text-align: right;\n",
       "    }\n",
       "</style>\n",
       "<table border=\"1\" class=\"dataframe\">\n",
       "  <thead>\n",
       "    <tr style=\"text-align: right;\">\n",
       "      <th></th>\n",
       "      <th>TB3MS</th>\n",
       "    </tr>\n",
       "    <tr>\n",
       "      <th>DATE</th>\n",
       "      <th></th>\n",
       "    </tr>\n",
       "  </thead>\n",
       "  <tbody>\n",
       "    <tr>\n",
       "      <th>2024-11-01</th>\n",
       "      <td>4.42</td>\n",
       "    </tr>\n",
       "    <tr>\n",
       "      <th>2024-12-01</th>\n",
       "      <td>4.27</td>\n",
       "    </tr>\n",
       "    <tr>\n",
       "      <th>2025-01-01</th>\n",
       "      <td>4.21</td>\n",
       "    </tr>\n",
       "    <tr>\n",
       "      <th>2025-02-01</th>\n",
       "      <td>4.22</td>\n",
       "    </tr>\n",
       "    <tr>\n",
       "      <th>2025-03-01</th>\n",
       "      <td>4.20</td>\n",
       "    </tr>\n",
       "  </tbody>\n",
       "</table>\n",
       "</div>"
      ],
      "text/plain": [
       "            TB3MS\n",
       "DATE             \n",
       "2024-11-01   4.42\n",
       "2024-12-01   4.27\n",
       "2025-01-01   4.21\n",
       "2025-02-01   4.22\n",
       "2025-03-01   4.20"
      ]
     },
     "execution_count": 53,
     "metadata": {},
     "output_type": "execute_result"
    }
   ],
   "source": [
    "import pandas_datareader as pdr\n",
    "\n",
    "rf = pdr.DataReader('TB3MS', 'fred', start='2000-01-01', end='2025-03-31')\n",
    "rf.sort_index(ascending=True, inplace=True)\n",
    "rf.tail()"
   ]
  },
  {
   "cell_type": "code",
   "execution_count": 54,
   "id": "6b10e111",
   "metadata": {},
   "outputs": [
    {
     "name": "stderr",
     "output_type": "stream",
     "text": [
      "[*********************100%***********************]  1 of 1 completed\n"
     ]
    },
    {
     "data": {
      "text/html": [
       "<div>\n",
       "<style scoped>\n",
       "    .dataframe tbody tr th:only-of-type {\n",
       "        vertical-align: middle;\n",
       "    }\n",
       "\n",
       "    .dataframe tbody tr th {\n",
       "        vertical-align: top;\n",
       "    }\n",
       "\n",
       "    .dataframe thead th {\n",
       "        text-align: right;\n",
       "    }\n",
       "</style>\n",
       "<table border=\"1\" class=\"dataframe\">\n",
       "  <thead>\n",
       "    <tr style=\"text-align: right;\">\n",
       "      <th>Ticker</th>\n",
       "      <th>SPY</th>\n",
       "    </tr>\n",
       "    <tr>\n",
       "      <th>Date</th>\n",
       "      <th></th>\n",
       "    </tr>\n",
       "  </thead>\n",
       "  <tbody>\n",
       "    <tr>\n",
       "      <th>2025-03-24</th>\n",
       "      <td>574.080017</td>\n",
       "    </tr>\n",
       "    <tr>\n",
       "      <th>2025-03-25</th>\n",
       "      <td>575.460022</td>\n",
       "    </tr>\n",
       "    <tr>\n",
       "      <th>2025-03-26</th>\n",
       "      <td>568.590027</td>\n",
       "    </tr>\n",
       "    <tr>\n",
       "      <th>2025-03-27</th>\n",
       "      <td>567.080017</td>\n",
       "    </tr>\n",
       "    <tr>\n",
       "      <th>2025-03-28</th>\n",
       "      <td>555.659973</td>\n",
       "    </tr>\n",
       "  </tbody>\n",
       "</table>\n",
       "</div>"
      ],
      "text/plain": [
       "Ticker             SPY\n",
       "Date                  \n",
       "2025-03-24  574.080017\n",
       "2025-03-25  575.460022\n",
       "2025-03-26  568.590027\n",
       "2025-03-27  567.080017\n",
       "2025-03-28  555.659973"
      ]
     },
     "execution_count": 54,
     "metadata": {},
     "output_type": "execute_result"
    }
   ],
   "source": [
    "mkt_prices = yf.download('SPY', start='2000-01-03', end='2025-03-31', auto_adjust=False)['Adj Close']\n",
    "mkt_prices.tail()"
   ]
  },
  {
   "cell_type": "markdown",
   "id": "5d46fe97",
   "metadata": {},
   "source": [
    "## Listing 3.3"
   ]
  },
  {
   "cell_type": "code",
   "execution_count": 55,
   "id": "ab7c2ecd",
   "metadata": {},
   "outputs": [
    {
     "name": "stdout",
     "output_type": "stream",
     "text": [
      "                                 OLS Regression Results                                \n",
      "=======================================================================================\n",
      "Dep. Variable:                      y   R-squared (uncentered):                   0.301\n",
      "Model:                            OLS   Adj. R-squared (uncentered):              0.299\n",
      "Method:                 Least Squares   F-statistic:                              129.7\n",
      "Date:                Sat, 12 Apr 2025   Prob (F-statistic):                    3.19e-25\n",
      "Time:                        19:11:47   Log-Likelihood:                          280.35\n",
      "No. Observations:                 302   AIC:                                     -558.7\n",
      "Df Residuals:                     301   BIC:                                     -555.0\n",
      "Df Model:                           1                                                  \n",
      "Covariance Type:            nonrobust                                                  \n",
      "==============================================================================\n",
      "                 coef    std err          t      P>|t|      [0.025      0.975]\n",
      "------------------------------------------------------------------------------\n",
      "x1             1.3006      0.114     11.388      0.000       1.076       1.525\n",
      "==============================================================================\n",
      "Omnibus:                       49.852   Durbin-Watson:                   2.011\n",
      "Prob(Omnibus):                  0.000   Jarque-Bera (JB):              314.430\n",
      "Skew:                          -0.439   Prob(JB):                     5.28e-69\n",
      "Kurtosis:                       7.921   Cond. No.                         1.00\n",
      "==============================================================================\n",
      "\n",
      "Notes:\n",
      "[1] R² is computed without centering (uncentered) since the model does not contain a constant.\n",
      "[2] Standard Errors assume that the covariance matrix of the errors is correctly specified.\n"
     ]
    }
   ],
   "source": [
    "import statsmodels.api as sm\n",
    "\n",
    "stock_prices_monthly = stock_prices.resample('MS').first()\n",
    "mkt_prices_monthly = mkt_prices.resample('MS').first()\n",
    "aapl_returns_monthly = stock_prices_monthly['AAPL'].pct_change()\n",
    "mkt_returns_monthly = mkt_prices_monthly['SPY'].pct_change()\n",
    "\n",
    "y = (aapl_returns_monthly - rf['TB3MS']/100/12).dropna()\n",
    "X = (mkt_returns_monthly - rf['TB3MS']/100/12).dropna()\n",
    "\n",
    "model = sm.OLS(y,X)\n",
    "results = model.fit()\n",
    "print(results.summary())"
   ]
  },
  {
   "cell_type": "code",
   "execution_count": 56,
   "id": "e8388b71",
   "metadata": {},
   "outputs": [
    {
     "name": "stdout",
     "output_type": "stream",
     "text": [
      "The beta for AAPL is:  x1    1.300645\n",
      "dtype: float64\n"
     ]
    }
   ],
   "source": [
    "print('The beta for AAPL is: ', results.params)"
   ]
  },
  {
   "cell_type": "markdown",
   "id": "ca0c16f0",
   "metadata": {},
   "source": [
    "The beta for FE:"
   ]
  },
  {
   "cell_type": "code",
   "execution_count": 57,
   "id": "33965651",
   "metadata": {},
   "outputs": [
    {
     "name": "stdout",
     "output_type": "stream",
     "text": [
      "The beta for FE is:  x1    0.293586\n",
      "dtype: float64\n"
     ]
    }
   ],
   "source": [
    "fe_returns_monthly = stock_prices_monthly['FE'].pct_change()\n",
    "y = (fe_returns_monthly - rf['TB3MS']/100/12).dropna()\n",
    "model = sm.OLS(y,X)\n",
    "results = model.fit()\n",
    "print('The beta for FE is: ', results.params)"
   ]
  },
  {
   "cell_type": "markdown",
   "id": "37146b19",
   "metadata": {},
   "source": [
    "The beta for WMT:"
   ]
  },
  {
   "cell_type": "code",
   "execution_count": 58,
   "id": "7255d737",
   "metadata": {},
   "outputs": [
    {
     "name": "stdout",
     "output_type": "stream",
     "text": [
      "The beta for WMT is:  x1    0.502801\n",
      "dtype: float64\n"
     ]
    }
   ],
   "source": [
    "wmt_returns_monthly = stock_prices_monthly['WMT'].pct_change()\n",
    "y = (wmt_returns_monthly - rf['TB3MS']/100/12).dropna()\n",
    "model = sm.OLS(y,X)\n",
    "results = model.fit()\n",
    "print('The beta for WMT is: ', results.params)"
   ]
  },
  {
   "cell_type": "code",
   "execution_count": 59,
   "id": "6d5b77c7",
   "metadata": {},
   "outputs": [
    {
     "name": "stdout",
     "output_type": "stream",
     "text": [
      "The current risk-free rate is 4.2 %\n"
     ]
    }
   ],
   "source": [
    "print('The current risk-free rate is', rf['TB3MS'].iloc[-1],'%')"
   ]
  },
  {
   "cell_type": "code",
   "execution_count": 60,
   "id": "8608ca02",
   "metadata": {},
   "outputs": [
    {
     "name": "stdout",
     "output_type": "stream",
     "text": [
      "The avg annualized market return is 8.728944781647256 %\n"
     ]
    }
   ],
   "source": [
    "print('The avg annualized market return is', mkt_returns_monthly.mean()*12*100, '%')"
   ]
  },
  {
   "cell_type": "markdown",
   "id": "83b6ea43",
   "metadata": {},
   "source": [
    "## Listing 3.4"
   ]
  },
  {
   "cell_type": "code",
   "execution_count": 61,
   "id": "91d564b0",
   "metadata": {},
   "outputs": [
    {
     "name": "stdout",
     "output_type": "stream",
     "text": [
      "raw bond average returns  0.09673030238651528\n",
      "excess bond average returns  0.06364354439564769\n"
     ]
    },
    {
     "data": {
      "image/png": "[encoded data removed]",
      "text/plain": [
       "<Figure size 640x480 with 1 Axes>"
      ]
     },
     "metadata": {},
     "output_type": "display_data"
    }
   ],
   "source": [
    "start = '1984-06-29'\n",
    "end = '2020-12-31'\n",
    "symbol = 'BAMLCC8A015PYTRIV'\n",
    "\n",
    "bond = pdr.DataReader(symbol, 'fred', start=start, end=end) #A\n",
    "bond_monthly = bond.resample('ME').last()\n",
    "bond_returns_monthly = bond_monthly.pct_change()\n",
    "\n",
    "TenYr = pdr.DataReader('DGS10', 'fred', start='1984-06-29', end='2020-12-31') #B\n",
    "TenYr_monthly = TenYr.resample('ME').last()\n",
    "TenYr_change_monthly = TenYr_monthly.diff().dropna()/100.\n",
    "TenYr_change_monthly.rename(columns={'DGS10': 'Change 10Yr Yield'}, inplace=True)\n",
    "\n",
    "rf = pdr.DataReader('DTB3', 'fred', start='1984-06-29', end='2020-12-31') #C\n",
    "rf_monthly = rf.resample('ME').last()/100\n",
    "\n",
    "TenYr.plot(xlabel='Date', ylabel='Yield on 10-Year Treasuries', legend=False) #D\n",
    "\n",
    "print('raw bond average returns ', bond_returns_monthly[symbol].mean()*12)\n",
    "print('excess bond average returns ', (bond_returns_monthly[symbol] -\n",
    "                                       rf_monthly['DTB3'].shift()/12).mean()*12)\n",
    "\n",
    "#A Download corporate bond data\n",
    "#B Download Treasury yield data\n",
    "#C Download short-term risk-free rate data\n",
    "#D The plot of Treasury yields displayed in Figure 3.2"
   ]
  },
  {
   "cell_type": "markdown",
   "id": "048f6d58",
   "metadata": {},
   "source": [
    "## Listing 3.5"
   ]
  },
  {
   "cell_type": "code",
   "execution_count": 62,
   "id": "5a537b61",
   "metadata": {},
   "outputs": [
    {
     "name": "stdout",
     "output_type": "stream",
     "text": [
      "                            OLS Regression Results                            \n",
      "==============================================================================\n",
      "Dep. Variable:                      y   R-squared:                       0.455\n",
      "Model:                            OLS   Adj. R-squared:                  0.454\n",
      "Method:                 Least Squares   F-statistic:                     364.4\n",
      "Date:                Sat, 12 Apr 2025   Prob (F-statistic):           1.72e-59\n",
      "Time:                        19:11:53   Log-Likelihood:                 1123.3\n",
      "No. Observations:                 438   AIC:                            -2243.\n",
      "Df Residuals:                     436   BIC:                            -2234.\n",
      "Df Model:                           1                                         \n",
      "Covariance Type:            nonrobust                                         \n",
      "=====================================================================================\n",
      "                        coef    std err          t      P>|t|      [0.025      0.975]\n",
      "-------------------------------------------------------------------------------------\n",
      "const                 0.0036      0.001      3.962      0.000       0.002       0.005\n",
      "Change 10Yr Yield    -5.9450      0.311    -19.090      0.000      -6.557      -5.333\n",
      "==============================================================================\n",
      "Omnibus:                      156.992   Durbin-Watson:                   1.760\n",
      "Prob(Omnibus):                  0.000   Jarque-Bera (JB):             3031.811\n",
      "Skew:                          -1.021   Prob(JB):                         0.00\n",
      "Kurtosis:                      15.726   Cond. No.                         349.\n",
      "==============================================================================\n",
      "\n",
      "Notes:\n",
      "[1] Standard Errors assume that the covariance matrix of the errors is correctly specified.\n"
     ]
    }
   ],
   "source": [
    "y = (bond_returns_monthly[symbol] - rf_monthly['DTB3'].shift()/12).dropna()\n",
    "X = TenYr_change_monthly\n",
    "X = sm.add_constant(X)\n",
    "common_dates = X.index.intersection(y.index)\n",
    "X = X.loc[common_dates]\n",
    "model = sm.OLS(y,X)\n",
    "results = model.fit()\n",
    "print(results.summary())"
   ]
  },
  {
   "cell_type": "code",
   "execution_count": 63,
   "id": "80cb1a96",
   "metadata": {},
   "outputs": [
    {
     "name": "stdout",
     "output_type": "stream",
     "text": [
      "The expected return after stripping out valuation is  0.04261614539214148\n"
     ]
    }
   ],
   "source": [
    "print('The expected return after stripping out valuation is ', results.params.iloc[0]*12)"
   ]
  },
  {
   "cell_type": "code",
   "execution_count": 64,
   "id": "5033bb86",
   "metadata": {},
   "outputs": [
    {
     "data": {
      "image/png": "[encoded data removed]",
      "text/plain": [
       "<Figure size 640x480 with 1 Axes>"
      ]
     },
     "metadata": {},
     "output_type": "display_data"
    }
   ],
   "source": [
    "# Plot the regression line\n",
    "import matplotlib.pyplot as plt\n",
    "\n",
    "plt.plot(X['Change 10Yr Yield'], results.fittedvalues, color='red')\n",
    "plt.scatter(X['Change 10Yr Yield'], y)\n",
    "plt.xlabel('Change 10Yr Yield')\n",
    "plt.ylabel('Returns')\n",
    "plt.title('Regression Line')\n",
    "plt.show()"
   ]
  },
  {
   "cell_type": "markdown",
   "id": "4d3218b4",
   "metadata": {},
   "source": [
    "## Listing 3.6"
   ]
  },
  {
   "cell_type": "code",
   "execution_count": 65,
   "id": "0facfe69",
   "metadata": {},
   "outputs": [
    {
     "name": "stderr",
     "output_type": "stream",
     "text": [
      "[*********************100%***********************]  1 of 1 completed"
     ]
    },
    {
     "name": "stdout",
     "output_type": "stream",
     "text": [
      "raw stock average returns  Ticker\n",
      "VFINX    0.125968\n",
      "dtype: float64\n"
     ]
    },
    {
     "name": "stderr",
     "output_type": "stream",
     "text": [
      "\n",
      "/var/folders/6g/0ggzchw54n9_f4jpxx_2www80000gp/T/ipykernel_521/1415399158.py:5: FutureWarning: 'AS' is deprecated and will be removed in a future version, please use 'YS' instead.\n",
      "  stock_annual = stock.resample('AS').first()\n"
     ]
    },
    {
     "data": {
      "text/html": [
       "<div>\n",
       "<style scoped>\n",
       "    .dataframe tbody tr th:only-of-type {\n",
       "        vertical-align: middle;\n",
       "    }\n",
       "\n",
       "    .dataframe tbody tr th {\n",
       "        vertical-align: top;\n",
       "    }\n",
       "\n",
       "    .dataframe thead th {\n",
       "        text-align: right;\n",
       "    }\n",
       "</style>\n",
       "<table border=\"1\" class=\"dataframe\">\n",
       "  <thead>\n",
       "    <tr style=\"text-align: right;\">\n",
       "      <th>Ticker</th>\n",
       "      <th>VFINX</th>\n",
       "    </tr>\n",
       "    <tr>\n",
       "      <th>Date</th>\n",
       "      <th></th>\n",
       "    </tr>\n",
       "  </thead>\n",
       "  <tbody>\n",
       "    <tr>\n",
       "      <th>1983-01-01</th>\n",
       "      <td>NaN</td>\n",
       "    </tr>\n",
       "    <tr>\n",
       "      <th>1984-01-01</th>\n",
       "      <td>0.184922</td>\n",
       "    </tr>\n",
       "    <tr>\n",
       "      <th>1985-01-01</th>\n",
       "      <td>0.030302</td>\n",
       "    </tr>\n",
       "    <tr>\n",
       "      <th>1986-01-01</th>\n",
       "      <td>0.229114</td>\n",
       "    </tr>\n",
       "    <tr>\n",
       "      <th>1987-01-01</th>\n",
       "      <td>0.122059</td>\n",
       "    </tr>\n",
       "    <tr>\n",
       "      <th>1988-01-01</th>\n",
       "      <td>0.065010</td>\n",
       "    </tr>\n",
       "    <tr>\n",
       "      <th>1989-01-01</th>\n",
       "      <td>0.110661</td>\n",
       "    </tr>\n",
       "    <tr>\n",
       "      <th>1990-01-01</th>\n",
       "      <td>0.351852</td>\n",
       "    </tr>\n",
       "    <tr>\n",
       "      <th>1991-01-01</th>\n",
       "      <td>-0.061071</td>\n",
       "    </tr>\n",
       "    <tr>\n",
       "      <th>1992-01-01</th>\n",
       "      <td>0.317417</td>\n",
       "    </tr>\n",
       "    <tr>\n",
       "      <th>1993-01-01</th>\n",
       "      <td>0.073420</td>\n",
       "    </tr>\n",
       "    <tr>\n",
       "      <th>1994-01-01</th>\n",
       "      <td>0.097191</td>\n",
       "    </tr>\n",
       "    <tr>\n",
       "      <th>1995-01-01</th>\n",
       "      <td>0.013549</td>\n",
       "    </tr>\n",
       "    <tr>\n",
       "      <th>1996-01-01</th>\n",
       "      <td>0.385552</td>\n",
       "    </tr>\n",
       "    <tr>\n",
       "      <th>1997-01-01</th>\n",
       "      <td>0.213333</td>\n",
       "    </tr>\n",
       "    <tr>\n",
       "      <th>1998-01-01</th>\n",
       "      <td>0.344544</td>\n",
       "    </tr>\n",
       "    <tr>\n",
       "      <th>1999-01-01</th>\n",
       "      <td>0.279274</td>\n",
       "    </tr>\n",
       "    <tr>\n",
       "      <th>2000-01-01</th>\n",
       "      <td>0.199961</td>\n",
       "    </tr>\n",
       "    <tr>\n",
       "      <th>2001-01-01</th>\n",
       "      <td>-0.107526</td>\n",
       "    </tr>\n",
       "    <tr>\n",
       "      <th>2002-01-01</th>\n",
       "      <td>-0.089649</td>\n",
       "    </tr>\n",
       "    <tr>\n",
       "      <th>2003-01-01</th>\n",
       "      <td>-0.200373</td>\n",
       "    </tr>\n",
       "    <tr>\n",
       "      <th>2004-01-01</th>\n",
       "      <td>0.239695</td>\n",
       "    </tr>\n",
       "    <tr>\n",
       "      <th>2005-01-01</th>\n",
       "      <td>0.101688</td>\n",
       "    </tr>\n",
       "    <tr>\n",
       "      <th>2006-01-01</th>\n",
       "      <td>0.073803</td>\n",
       "    </tr>\n",
       "    <tr>\n",
       "      <th>2007-01-01</th>\n",
       "      <td>0.136403</td>\n",
       "    </tr>\n",
       "    <tr>\n",
       "      <th>2008-01-01</th>\n",
       "      <td>0.039999</td>\n",
       "    </tr>\n",
       "    <tr>\n",
       "      <th>2009-01-01</th>\n",
       "      <td>-0.340654</td>\n",
       "    </tr>\n",
       "    <tr>\n",
       "      <th>2010-01-01</th>\n",
       "      <td>0.245651</td>\n",
       "    </tr>\n",
       "    <tr>\n",
       "      <th>2011-01-01</th>\n",
       "      <td>0.143713</td>\n",
       "    </tr>\n",
       "    <tr>\n",
       "      <th>2012-01-01</th>\n",
       "      <td>0.023744</td>\n",
       "    </tr>\n",
       "    <tr>\n",
       "      <th>2013-01-01</th>\n",
       "      <td>0.169856</td>\n",
       "    </tr>\n",
       "    <tr>\n",
       "      <th>2014-01-01</th>\n",
       "      <td>0.277462</td>\n",
       "    </tr>\n",
       "    <tr>\n",
       "      <th>2015-01-01</th>\n",
       "      <td>0.144906</td>\n",
       "    </tr>\n",
       "    <tr>\n",
       "      <th>2016-01-01</th>\n",
       "      <td>-0.002724</td>\n",
       "    </tr>\n",
       "    <tr>\n",
       "      <th>2017-01-01</th>\n",
       "      <td>0.145061</td>\n",
       "    </tr>\n",
       "    <tr>\n",
       "      <th>2018-01-01</th>\n",
       "      <td>0.216401</td>\n",
       "    </tr>\n",
       "    <tr>\n",
       "      <th>2019-01-01</th>\n",
       "      <td>-0.052175</td>\n",
       "    </tr>\n",
       "    <tr>\n",
       "      <th>2020-01-01</th>\n",
       "      <td>0.322795</td>\n",
       "    </tr>\n",
       "    <tr>\n",
       "      <th>2021-01-01</th>\n",
       "      <td>0.154813</td>\n",
       "    </tr>\n",
       "    <tr>\n",
       "      <th>2022-01-01</th>\n",
       "      <td>0.312755</td>\n",
       "    </tr>\n",
       "  </tbody>\n",
       "</table>\n",
       "</div>"
      ],
      "text/plain": [
       "Ticker         VFINX\n",
       "Date                \n",
       "1983-01-01       NaN\n",
       "1984-01-01  0.184922\n",
       "1985-01-01  0.030302\n",
       "1986-01-01  0.229114\n",
       "1987-01-01  0.122059\n",
       "1988-01-01  0.065010\n",
       "1989-01-01  0.110661\n",
       "1990-01-01  0.351852\n",
       "1991-01-01 -0.061071\n",
       "1992-01-01  0.317417\n",
       "1993-01-01  0.073420\n",
       "1994-01-01  0.097191\n",
       "1995-01-01  0.013549\n",
       "1996-01-01  0.385552\n",
       "1997-01-01  0.213333\n",
       "1998-01-01  0.344544\n",
       "1999-01-01  0.279274\n",
       "2000-01-01  0.199961\n",
       "2001-01-01 -0.107526\n",
       "2002-01-01 -0.089649\n",
       "2003-01-01 -0.200373\n",
       "2004-01-01  0.239695\n",
       "2005-01-01  0.101688\n",
       "2006-01-01  0.073803\n",
       "2007-01-01  0.136403\n",
       "2008-01-01  0.039999\n",
       "2009-01-01 -0.340654\n",
       "2010-01-01  0.245651\n",
       "2011-01-01  0.143713\n",
       "2012-01-01  0.023744\n",
       "2013-01-01  0.169856\n",
       "2014-01-01  0.277462\n",
       "2015-01-01  0.144906\n",
       "2016-01-01 -0.002724\n",
       "2017-01-01  0.145061\n",
       "2018-01-01  0.216401\n",
       "2019-01-01 -0.052175\n",
       "2020-01-01  0.322795\n",
       "2021-01-01  0.154813\n",
       "2022-01-01  0.312755"
      ]
     },
     "execution_count": 65,
     "metadata": {},
     "output_type": "execute_result"
    }
   ],
   "source": [
    "start = '1983-01-01'\n",
    "end = '2023-01-01'\n",
    "\n",
    "stock = yf.download('VFINX', start=start, end=end, auto_adjust=False)\n",
    "stock_annual = stock.resample('AS').first()\n",
    "stock_returns_annual = stock_annual['Adj Close'].pct_change()\n",
    "\n",
    "stock_returns_annual\n",
    "print('raw stock average returns ', stock_returns_annual.mean())\n",
    "stock_returns_annual"
   ]
  },
  {
   "cell_type": "code",
   "execution_count": 66,
   "id": "6836fa6e",
   "metadata": {},
   "outputs": [
    {
     "name": "stderr",
     "output_type": "stream",
     "text": [
      "/var/folders/6g/0ggzchw54n9_f4jpxx_2www80000gp/T/ipykernel_521/2952993649.py:17: FutureWarning: 'AS' is deprecated and will be removed in a future version, please use 'YS' instead.\n",
      "  CAPE = CAPE.resample('AS').first()\n"
     ]
    },
    {
     "data": {
      "text/html": [
       "<div>\n",
       "<style scoped>\n",
       "    .dataframe tbody tr th:only-of-type {\n",
       "        vertical-align: middle;\n",
       "    }\n",
       "\n",
       "    .dataframe tbody tr th {\n",
       "        vertical-align: top;\n",
       "    }\n",
       "\n",
       "    .dataframe thead th {\n",
       "        text-align: right;\n",
       "    }\n",
       "</style>\n",
       "<table border=\"1\" class=\"dataframe\">\n",
       "  <thead>\n",
       "    <tr style=\"text-align: right;\">\n",
       "      <th></th>\n",
       "      <th>CAPE</th>\n",
       "      <th>CAPE_returns</th>\n",
       "    </tr>\n",
       "    <tr>\n",
       "      <th>Date</th>\n",
       "      <th></th>\n",
       "      <th></th>\n",
       "    </tr>\n",
       "  </thead>\n",
       "  <tbody>\n",
       "    <tr>\n",
       "      <th>1881-01-01</th>\n",
       "      <td>18.473952</td>\n",
       "      <td>NaN</td>\n",
       "    </tr>\n",
       "    <tr>\n",
       "      <th>1882-01-01</th>\n",
       "      <td>15.678764</td>\n",
       "      <td>-0.151304</td>\n",
       "    </tr>\n",
       "    <tr>\n",
       "      <th>1883-01-01</th>\n",
       "      <td>15.270259</td>\n",
       "      <td>-0.026055</td>\n",
       "    </tr>\n",
       "    <tr>\n",
       "      <th>1884-01-01</th>\n",
       "      <td>14.432822</td>\n",
       "      <td>-0.054841</td>\n",
       "    </tr>\n",
       "    <tr>\n",
       "      <th>1885-01-01</th>\n",
       "      <td>13.129817</td>\n",
       "      <td>-0.090281</td>\n",
       "    </tr>\n",
       "    <tr>\n",
       "      <th>...</th>\n",
       "      <td>...</td>\n",
       "      <td>...</td>\n",
       "    </tr>\n",
       "    <tr>\n",
       "      <th>2019-01-01</th>\n",
       "      <td>28.380164</td>\n",
       "      <td>-0.147931</td>\n",
       "    </tr>\n",
       "    <tr>\n",
       "      <th>2020-01-01</th>\n",
       "      <td>30.985220</td>\n",
       "      <td>0.091791</td>\n",
       "    </tr>\n",
       "    <tr>\n",
       "      <th>2021-01-01</th>\n",
       "      <td>34.512432</td>\n",
       "      <td>0.113835</td>\n",
       "    </tr>\n",
       "    <tr>\n",
       "      <th>2022-01-01</th>\n",
       "      <td>36.936758</td>\n",
       "      <td>0.070245</td>\n",
       "    </tr>\n",
       "    <tr>\n",
       "      <th>2023-01-01</th>\n",
       "      <td>28.334813</td>\n",
       "      <td>-0.232883</td>\n",
       "    </tr>\n",
       "  </tbody>\n",
       "</table>\n",
       "<p>143 rows × 2 columns</p>\n",
       "</div>"
      ],
      "text/plain": [
       "                 CAPE  CAPE_returns\n",
       "Date                               \n",
       "1881-01-01  18.473952           NaN\n",
       "1882-01-01  15.678764     -0.151304\n",
       "1883-01-01  15.270259     -0.026055\n",
       "1884-01-01  14.432822     -0.054841\n",
       "1885-01-01  13.129817     -0.090281\n",
       "...               ...           ...\n",
       "2019-01-01  28.380164     -0.147931\n",
       "2020-01-01  30.985220      0.091791\n",
       "2021-01-01  34.512432      0.113835\n",
       "2022-01-01  36.936758      0.070245\n",
       "2023-01-01  28.334813     -0.232883\n",
       "\n",
       "[143 rows x 2 columns]"
      ]
     },
     "execution_count": 66,
     "metadata": {},
     "output_type": "execute_result"
    }
   ],
   "source": [
    "#A Read Excel file with CAPE data\n",
    "#B The year is the integer part of the date\n",
    "#C The month is the decimal part of the date\n",
    "CAPE = pd.read_excel('ie_data.xls', sheet_name='Data',\n",
    "            usecols=['Date', 'CAPE'], skiprows=7)  # A\n",
    "CAPE = CAPE.dropna()\n",
    "\n",
    "CAPE['Year'] = CAPE['Date'].astype(int)  # B\n",
    "CAPE['Month'] = round(100 * (CAPE['Date'] - CAPE['Year'])).astype(int)  # C\n",
    "CAPE['Year'] = CAPE['Year'].astype(str)\n",
    "CAPE['Month'] = CAPE['Month'].astype(str)\n",
    "CAPE['Date'] = CAPE['Year'] + '-' + CAPE['Month'] + '-' + '01'\n",
    "CAPE = CAPE.set_index('Date')\n",
    "\n",
    "CAPE.index = pd.to_datetime(CAPE.index, format='%Y-%m-%d')\n",
    "CAPE.drop(columns=['Year', 'Month'], inplace=True)\n",
    "CAPE = CAPE.resample('AS').first()\n",
    "CAPE['CAPE_returns'] = CAPE['CAPE'].pct_change()\n",
    "CAPE"
   ]
  },
  {
   "cell_type": "code",
   "execution_count": 67,
   "id": "7be2935e",
   "metadata": {},
   "outputs": [
    {
     "name": "stdout",
     "output_type": "stream",
     "text": [
      "            DTB3\n",
      "DATE            \n",
      "1983-01-03  7.92\n",
      "1983-01-04  8.00\n",
      "1983-01-05  7.98\n",
      "1983-01-06  7.94\n",
      "1983-01-07  7.76\n",
      "DATE\n",
      "1983-01-01    0.0792\n",
      "1984-01-01    0.0900\n",
      "1985-01-01    0.0783\n",
      "1986-01-01    0.0710\n",
      "1987-01-01    0.0555\n",
      "1988-01-01    0.0588\n",
      "1989-01-01    0.0814\n",
      "1990-01-01    0.0758\n",
      "1991-01-01    0.0646\n",
      "1992-01-01    0.0386\n",
      "1993-01-01    0.0308\n",
      "1994-01-01    0.0303\n",
      "1995-01-01    0.0553\n",
      "1996-01-01    0.0497\n",
      "1997-01-01    0.0505\n",
      "1998-01-01    0.0518\n",
      "1999-01-01    0.0438\n",
      "2000-01-01    0.0527\n",
      "2001-01-01    0.0569\n",
      "2002-01-01    0.0171\n",
      "2003-01-01    0.0120\n",
      "2004-01-01    0.0091\n",
      "2005-01-01    0.0229\n",
      "2006-01-01    0.0407\n",
      "2007-01-01    0.0494\n",
      "2008-01-01    0.0318\n",
      "2009-01-01    0.0008\n",
      "2010-01-01    0.0008\n",
      "2011-01-01    0.0015\n",
      "2012-01-01    0.0002\n",
      "2013-01-01    0.0008\n",
      "2014-01-01    0.0007\n",
      "2015-01-01    0.0002\n",
      "2016-01-01    0.0022\n",
      "2017-01-01    0.0053\n",
      "2018-01-01    0.0142\n",
      "2019-01-01    0.0237\n",
      "2020-01-01    0.0151\n",
      "2021-01-01    0.0009\n",
      "2022-01-01    0.0009\n",
      "Freq: YS-JAN, Name: DTB3, dtype: float64\n",
      "raw stock average returns  0.12596752995333574\n",
      "excess stock average returns  0.09098291456872036\n"
     ]
    },
    {
     "name": "stderr",
     "output_type": "stream",
     "text": [
      "/var/folders/6g/0ggzchw54n9_f4jpxx_2www80000gp/T/ipykernel_521/252029775.py:2: FutureWarning: 'AS' is deprecated and will be removed in a future version, please use 'YS' instead.\n",
      "  rf_annual = rf.resample('AS').first()/100\n"
     ]
    }
   ],
   "source": [
    "rf = pdr.DataReader('DTB3', 'fred', start=start, end=end)\n",
    "rf_annual = rf.resample('AS').first()/100\n",
    "\n",
    "print(rf.head())\n",
    "print(rf_annual['DTB3'])\n",
    "\n",
    "print('raw stock average returns ',stock_returns_annual['VFINX'].mean())\n",
    "print('excess stock average returns ', (stock_returns_annual['VFINX'] - rf_annual['DTB3'].shift()).mean())\n"
   ]
  },
  {
   "cell_type": "markdown",
   "id": "52ef374f",
   "metadata": {},
   "source": [
    "## Listing 3.7"
   ]
  },
  {
   "cell_type": "code",
   "execution_count": 68,
   "id": "57dadfc2",
   "metadata": {},
   "outputs": [
    {
     "name": "stdout",
     "output_type": "stream",
     "text": [
      "Date\n",
      "1984-01-01    0.105722\n",
      "1985-01-01   -0.059698\n",
      "1986-01-01    0.150814\n",
      "1987-01-01    0.051059\n",
      "1988-01-01    0.009510\n",
      "1989-01-01    0.051861\n",
      "1990-01-01    0.270452\n",
      "1991-01-01   -0.136871\n",
      "1992-01-01    0.252817\n",
      "1993-01-01    0.034820\n",
      "1994-01-01    0.066391\n",
      "1995-01-01   -0.016751\n",
      "1996-01-01    0.330252\n",
      "1997-01-01    0.163633\n",
      "1998-01-01    0.294044\n",
      "1999-01-01    0.227474\n",
      "2000-01-01    0.156161\n",
      "2001-01-01   -0.160226\n",
      "2002-01-01   -0.146549\n",
      "2003-01-01   -0.217473\n",
      "2004-01-01    0.227695\n",
      "2005-01-01    0.092588\n",
      "2006-01-01    0.050903\n",
      "2007-01-01    0.095703\n",
      "2008-01-01   -0.009401\n",
      "2009-01-01   -0.372454\n",
      "2010-01-01    0.244851\n",
      "2011-01-01    0.142913\n",
      "2012-01-01    0.022244\n",
      "2013-01-01    0.169656\n",
      "2014-01-01    0.276662\n",
      "2015-01-01    0.144206\n",
      "2016-01-01   -0.002924\n",
      "2017-01-01    0.142861\n",
      "2018-01-01    0.211101\n",
      "2019-01-01   -0.066375\n",
      "2020-01-01    0.299095\n",
      "2021-01-01    0.139713\n",
      "2022-01-01    0.311855\n",
      "Freq: YS-JAN, dtype: float64\n",
      "            const  CAPE_returns\n",
      "Date                           \n",
      "1984-01-01    1.0      0.129973\n",
      "1985-01-01    1.0      0.010315\n",
      "1986-01-01    1.0      0.171852\n",
      "1987-01-01    1.0      0.273769\n",
      "1988-01-01    1.0     -0.068614\n",
      "1989-01-01    1.0      0.085603\n",
      "1990-01-01    1.0      0.129955\n",
      "1991-01-01    1.0     -0.084619\n",
      "1992-01-01    1.0      0.267002\n",
      "1993-01-01    1.0      0.027833\n",
      "1994-01-01    1.0      0.053562\n",
      "1995-01-01    1.0     -0.055710\n",
      "1996-01-01    1.0      0.224705\n",
      "1997-01-01    1.0      0.144186\n",
      "1998-01-01    1.0      0.159783\n",
      "1999-01-01    1.0      0.234845\n",
      "2000-01-01    1.0      0.078755\n",
      "2001-01-01    1.0     -0.155205\n",
      "2002-01-01    1.0     -0.181230\n",
      "2003-01-01    1.0     -0.243710\n",
      "2004-01-01    1.0      0.207884\n",
      "2005-01-01    1.0     -0.038733\n",
      "2006-01-01    1.0     -0.004459\n",
      "2007-01-01    1.0      0.027913\n",
      "2008-01-01    1.0     -0.117071\n",
      "2009-01-01    1.0     -0.368310\n",
      "2010-01-01    1.0      0.352773\n",
      "2011-01-01    1.0      0.119371\n",
      "2012-01-01    1.0     -0.076824\n",
      "2013-01-01    1.0      0.032408\n",
      "2014-01-01    1.0      0.135117\n",
      "2015-01-01    1.0      0.065676\n",
      "2016-01-01    1.0     -0.086294\n",
      "2017-01-01    1.0      0.159356\n",
      "2018-01-01    1.0      0.186853\n",
      "2019-01-01    1.0     -0.147931\n",
      "2020-01-01    1.0      0.091791\n",
      "2021-01-01    1.0      0.113835\n",
      "2022-01-01    1.0      0.070245\n",
      "                            OLS Regression Results                            \n",
      "==============================================================================\n",
      "Dep. Variable:                      y   R-squared:                       0.725\n",
      "Model:                            OLS   Adj. R-squared:                  0.718\n",
      "Method:                 Least Squares   F-statistic:                     97.61\n",
      "Date:                Sat, 12 Apr 2025   Prob (F-statistic):           6.37e-12\n",
      "Time:                        19:11:54   Log-Likelihood:                 41.915\n",
      "No. Observations:                  39   AIC:                            -79.83\n",
      "Df Residuals:                      37   BIC:                            -76.50\n",
      "Df Model:                           1                                         \n",
      "Covariance Type:            nonrobust                                         \n",
      "================================================================================\n",
      "                   coef    std err          t      P>|t|      [0.025      0.975]\n",
      "--------------------------------------------------------------------------------\n",
      "const            0.0472      0.014      3.304      0.002       0.018       0.076\n",
      "CAPE_returns     0.8862      0.090      9.880      0.000       0.704       1.068\n",
      "==============================================================================\n",
      "Omnibus:                        2.176   Durbin-Watson:                   1.652\n",
      "Prob(Omnibus):                  0.337   Jarque-Bera (JB):                1.219\n",
      "Skew:                          -0.041   Prob(JB):                        0.544\n",
      "Kurtosis:                       3.862   Cond. No.                         6.62\n",
      "==============================================================================\n",
      "\n",
      "Notes:\n",
      "[1] Standard Errors assume that the covariance matrix of the errors is correctly specified.\n"
     ]
    }
   ],
   "source": [
    "y = (stock_returns_annual['VFINX'] - rf_annual['DTB3'].shift()).dropna()\n",
    "X = CAPE['CAPE_returns']\n",
    "X = sm.add_constant(X)\n",
    "common_dates = X.index.intersection(y.index)\n",
    "X = X.loc[common_dates]\n",
    "\n",
    "print(y)\n",
    "print(X)\n",
    "\n",
    "model = sm.OLS(y,X)\n",
    "results = model.fit()\n",
    "print(results.summary())"
   ]
  },
  {
   "cell_type": "markdown",
   "id": "2c9699d7",
   "metadata": {},
   "source": [
    "## 3.2 Estimating Variances and Covariances"
   ]
  },
  {
   "cell_type": "code",
   "execution_count": 69,
   "id": "d04d7240",
   "metadata": {},
   "outputs": [
    {
     "data": {
      "text/plain": [
       "Ticker\n",
       "AAPL    0.386583\n",
       "FE      0.255904\n",
       "WMT     0.233952\n",
       "dtype: float64"
      ]
     },
     "execution_count": 69,
     "metadata": {},
     "output_type": "execute_result"
    }
   ],
   "source": [
    "stock_returns.std() * (252**0.5)"
   ]
  },
  {
   "cell_type": "code",
   "execution_count": 70,
   "id": "ed641e78",
   "metadata": {},
   "outputs": [
    {
     "data": {
      "text/html": [
       "<div>\n",
       "<style scoped>\n",
       "    .dataframe tbody tr th:only-of-type {\n",
       "        vertical-align: middle;\n",
       "    }\n",
       "\n",
       "    .dataframe tbody tr th {\n",
       "        vertical-align: top;\n",
       "    }\n",
       "\n",
       "    .dataframe thead th {\n",
       "        text-align: right;\n",
       "    }\n",
       "</style>\n",
       "<table border=\"1\" class=\"dataframe\">\n",
       "  <thead>\n",
       "    <tr style=\"text-align: right;\">\n",
       "      <th>Ticker</th>\n",
       "      <th>AAPL</th>\n",
       "      <th>FE</th>\n",
       "      <th>WMT</th>\n",
       "    </tr>\n",
       "    <tr>\n",
       "      <th>Ticker</th>\n",
       "      <th></th>\n",
       "      <th></th>\n",
       "      <th></th>\n",
       "    </tr>\n",
       "  </thead>\n",
       "  <tbody>\n",
       "    <tr>\n",
       "      <th>AAPL</th>\n",
       "      <td>1.000000</td>\n",
       "      <td>0.204303</td>\n",
       "      <td>0.257411</td>\n",
       "    </tr>\n",
       "    <tr>\n",
       "      <th>FE</th>\n",
       "      <td>0.204303</td>\n",
       "      <td>1.000000</td>\n",
       "      <td>0.259350</td>\n",
       "    </tr>\n",
       "    <tr>\n",
       "      <th>WMT</th>\n",
       "      <td>0.257411</td>\n",
       "      <td>0.259350</td>\n",
       "      <td>1.000000</td>\n",
       "    </tr>\n",
       "  </tbody>\n",
       "</table>\n",
       "</div>"
      ],
      "text/plain": [
       "Ticker      AAPL        FE       WMT\n",
       "Ticker                              \n",
       "AAPL    1.000000  0.204303  0.257411\n",
       "FE      0.204303  1.000000  0.259350\n",
       "WMT     0.257411  0.259350  1.000000"
      ]
     },
     "execution_count": 70,
     "metadata": {},
     "output_type": "execute_result"
    }
   ],
   "source": [
    "stock_returns.corr()"
   ]
  },
  {
   "cell_type": "code",
   "execution_count": 71,
   "id": "c8b9798d",
   "metadata": {},
   "outputs": [
    {
     "data": {
      "text/html": [
       "<div>\n",
       "<style scoped>\n",
       "    .dataframe tbody tr th:only-of-type {\n",
       "        vertical-align: middle;\n",
       "    }\n",
       "\n",
       "    .dataframe tbody tr th {\n",
       "        vertical-align: top;\n",
       "    }\n",
       "\n",
       "    .dataframe thead th {\n",
       "        text-align: right;\n",
       "    }\n",
       "</style>\n",
       "<table border=\"1\" class=\"dataframe\">\n",
       "  <thead>\n",
       "    <tr style=\"text-align: right;\">\n",
       "      <th>Ticker</th>\n",
       "      <th>AAPL</th>\n",
       "      <th>FE</th>\n",
       "      <th>WMT</th>\n",
       "    </tr>\n",
       "    <tr>\n",
       "      <th>Ticker</th>\n",
       "      <th></th>\n",
       "      <th></th>\n",
       "      <th></th>\n",
       "    </tr>\n",
       "  </thead>\n",
       "  <tbody>\n",
       "    <tr>\n",
       "      <th>AAPL</th>\n",
       "      <td>0.149446</td>\n",
       "      <td>0.020211</td>\n",
       "      <td>0.023281</td>\n",
       "    </tr>\n",
       "    <tr>\n",
       "      <th>FE</th>\n",
       "      <td>0.020211</td>\n",
       "      <td>0.065487</td>\n",
       "      <td>0.015527</td>\n",
       "    </tr>\n",
       "    <tr>\n",
       "      <th>WMT</th>\n",
       "      <td>0.023281</td>\n",
       "      <td>0.015527</td>\n",
       "      <td>0.054733</td>\n",
       "    </tr>\n",
       "  </tbody>\n",
       "</table>\n",
       "</div>"
      ],
      "text/plain": [
       "Ticker      AAPL        FE       WMT\n",
       "Ticker                              \n",
       "AAPL    0.149446  0.020211  0.023281\n",
       "FE      0.020211  0.065487  0.015527\n",
       "WMT     0.023281  0.015527  0.054733"
      ]
     },
     "execution_count": 71,
     "metadata": {},
     "output_type": "execute_result"
    }
   ],
   "source": [
    "stock_returns.cov() * 252"
   ]
  },
  {
   "cell_type": "code",
   "execution_count": 72,
   "id": "104373ff",
   "metadata": {},
   "outputs": [
    {
     "data": {
      "text/html": [
       "<div>\n",
       "<style scoped>\n",
       "    .dataframe tbody tr th:only-of-type {\n",
       "        vertical-align: middle;\n",
       "    }\n",
       "\n",
       "    .dataframe tbody tr th {\n",
       "        vertical-align: top;\n",
       "    }\n",
       "\n",
       "    .dataframe thead tr th {\n",
       "        text-align: left;\n",
       "    }\n",
       "\n",
       "    .dataframe thead tr:last-of-type th {\n",
       "        text-align: right;\n",
       "    }\n",
       "</style>\n",
       "<table border=\"1\" class=\"dataframe\">\n",
       "  <thead>\n",
       "    <tr>\n",
       "      <th>Price</th>\n",
       "      <th>Close</th>\n",
       "      <th>High</th>\n",
       "      <th>Low</th>\n",
       "      <th>Open</th>\n",
       "      <th>Volume</th>\n",
       "      <th>% Change</th>\n",
       "    </tr>\n",
       "    <tr>\n",
       "      <th>Ticker</th>\n",
       "      <th>^GSPC</th>\n",
       "      <th>^GSPC</th>\n",
       "      <th>^GSPC</th>\n",
       "      <th>^GSPC</th>\n",
       "      <th>^GSPC</th>\n",
       "      <th></th>\n",
       "    </tr>\n",
       "    <tr>\n",
       "      <th>Date</th>\n",
       "      <th></th>\n",
       "      <th></th>\n",
       "      <th></th>\n",
       "      <th></th>\n",
       "      <th></th>\n",
       "      <th></th>\n",
       "    </tr>\n",
       "  </thead>\n",
       "  <tbody>\n",
       "    <tr>\n",
       "      <th>1987-10-08</th>\n",
       "      <td>314.160004</td>\n",
       "      <td>319.339996</td>\n",
       "      <td>312.019989</td>\n",
       "      <td>318.540009</td>\n",
       "      <td>198700000</td>\n",
       "      <td>-1.375025</td>\n",
       "    </tr>\n",
       "    <tr>\n",
       "      <th>1987-10-09</th>\n",
       "      <td>311.070007</td>\n",
       "      <td>315.040009</td>\n",
       "      <td>310.970001</td>\n",
       "      <td>314.160004</td>\n",
       "      <td>158300000</td>\n",
       "      <td>-0.983574</td>\n",
       "    </tr>\n",
       "    <tr>\n",
       "      <th>1987-10-12</th>\n",
       "      <td>309.390015</td>\n",
       "      <td>311.070007</td>\n",
       "      <td>306.760010</td>\n",
       "      <td>311.070007</td>\n",
       "      <td>141900000</td>\n",
       "      <td>-0.540069</td>\n",
       "    </tr>\n",
       "    <tr>\n",
       "      <th>1987-10-13</th>\n",
       "      <td>314.519989</td>\n",
       "      <td>314.529999</td>\n",
       "      <td>309.390015</td>\n",
       "      <td>309.390015</td>\n",
       "      <td>172900000</td>\n",
       "      <td>1.658093</td>\n",
       "    </tr>\n",
       "    <tr>\n",
       "      <th>1987-10-14</th>\n",
       "      <td>305.230011</td>\n",
       "      <td>314.519989</td>\n",
       "      <td>304.779999</td>\n",
       "      <td>314.519989</td>\n",
       "      <td>207400000</td>\n",
       "      <td>-2.953700</td>\n",
       "    </tr>\n",
       "    <tr>\n",
       "      <th>1987-10-15</th>\n",
       "      <td>298.079987</td>\n",
       "      <td>305.230011</td>\n",
       "      <td>298.070007</td>\n",
       "      <td>305.209991</td>\n",
       "      <td>263200000</td>\n",
       "      <td>-2.342504</td>\n",
       "    </tr>\n",
       "    <tr>\n",
       "      <th>1987-10-16</th>\n",
       "      <td>282.700012</td>\n",
       "      <td>298.920013</td>\n",
       "      <td>281.519989</td>\n",
       "      <td>298.079987</td>\n",
       "      <td>338500000</td>\n",
       "      <td>-5.159680</td>\n",
       "    </tr>\n",
       "    <tr>\n",
       "      <th>1987-10-19</th>\n",
       "      <td>224.839996</td>\n",
       "      <td>282.700012</td>\n",
       "      <td>224.830002</td>\n",
       "      <td>282.700012</td>\n",
       "      <td>604300000</td>\n",
       "      <td>-20.466931</td>\n",
       "    </tr>\n",
       "    <tr>\n",
       "      <th>1987-10-20</th>\n",
       "      <td>236.830002</td>\n",
       "      <td>245.619995</td>\n",
       "      <td>216.460007</td>\n",
       "      <td>225.059998</td>\n",
       "      <td>608100000</td>\n",
       "      <td>5.332684</td>\n",
       "    </tr>\n",
       "    <tr>\n",
       "      <th>1987-10-21</th>\n",
       "      <td>258.380005</td>\n",
       "      <td>259.269989</td>\n",
       "      <td>236.830002</td>\n",
       "      <td>236.830002</td>\n",
       "      <td>449600000</td>\n",
       "      <td>9.099355</td>\n",
       "    </tr>\n",
       "    <tr>\n",
       "      <th>1987-10-22</th>\n",
       "      <td>248.250000</td>\n",
       "      <td>258.380005</td>\n",
       "      <td>242.990005</td>\n",
       "      <td>258.239990</td>\n",
       "      <td>392200000</td>\n",
       "      <td>-3.920584</td>\n",
       "    </tr>\n",
       "    <tr>\n",
       "      <th>1987-10-23</th>\n",
       "      <td>248.220001</td>\n",
       "      <td>250.699997</td>\n",
       "      <td>242.759995</td>\n",
       "      <td>248.289993</td>\n",
       "      <td>245600000</td>\n",
       "      <td>-0.012084</td>\n",
       "    </tr>\n",
       "    <tr>\n",
       "      <th>1987-10-26</th>\n",
       "      <td>227.669998</td>\n",
       "      <td>248.220001</td>\n",
       "      <td>227.259995</td>\n",
       "      <td>248.199997</td>\n",
       "      <td>308800000</td>\n",
       "      <td>-8.278947</td>\n",
       "    </tr>\n",
       "    <tr>\n",
       "      <th>1987-10-27</th>\n",
       "      <td>233.190002</td>\n",
       "      <td>237.809998</td>\n",
       "      <td>227.669998</td>\n",
       "      <td>227.669998</td>\n",
       "      <td>260200000</td>\n",
       "      <td>2.424564</td>\n",
       "    </tr>\n",
       "    <tr>\n",
       "      <th>1987-10-28</th>\n",
       "      <td>233.279999</td>\n",
       "      <td>238.580002</td>\n",
       "      <td>226.259995</td>\n",
       "      <td>233.190002</td>\n",
       "      <td>279400000</td>\n",
       "      <td>0.038594</td>\n",
       "    </tr>\n",
       "    <tr>\n",
       "      <th>1987-10-29</th>\n",
       "      <td>244.770004</td>\n",
       "      <td>246.690002</td>\n",
       "      <td>233.279999</td>\n",
       "      <td>233.309998</td>\n",
       "      <td>258100000</td>\n",
       "      <td>4.925414</td>\n",
       "    </tr>\n",
       "    <tr>\n",
       "      <th>1987-10-30</th>\n",
       "      <td>251.789993</td>\n",
       "      <td>254.039993</td>\n",
       "      <td>244.770004</td>\n",
       "      <td>244.770004</td>\n",
       "      <td>303400000</td>\n",
       "      <td>2.867994</td>\n",
       "    </tr>\n",
       "  </tbody>\n",
       "</table>\n",
       "</div>"
      ],
      "text/plain": [
       "Price            Close        High         Low        Open     Volume  \\\n",
       "Ticker           ^GSPC       ^GSPC       ^GSPC       ^GSPC      ^GSPC   \n",
       "Date                                                                    \n",
       "1987-10-08  314.160004  319.339996  312.019989  318.540009  198700000   \n",
       "1987-10-09  311.070007  315.040009  310.970001  314.160004  158300000   \n",
       "1987-10-12  309.390015  311.070007  306.760010  311.070007  141900000   \n",
       "1987-10-13  314.519989  314.529999  309.390015  309.390015  172900000   \n",
       "1987-10-14  305.230011  314.519989  304.779999  314.519989  207400000   \n",
       "1987-10-15  298.079987  305.230011  298.070007  305.209991  263200000   \n",
       "1987-10-16  282.700012  298.920013  281.519989  298.079987  338500000   \n",
       "1987-10-19  224.839996  282.700012  224.830002  282.700012  604300000   \n",
       "1987-10-20  236.830002  245.619995  216.460007  225.059998  608100000   \n",
       "1987-10-21  258.380005  259.269989  236.830002  236.830002  449600000   \n",
       "1987-10-22  248.250000  258.380005  242.990005  258.239990  392200000   \n",
       "1987-10-23  248.220001  250.699997  242.759995  248.289993  245600000   \n",
       "1987-10-26  227.669998  248.220001  227.259995  248.199997  308800000   \n",
       "1987-10-27  233.190002  237.809998  227.669998  227.669998  260200000   \n",
       "1987-10-28  233.279999  238.580002  226.259995  233.190002  279400000   \n",
       "1987-10-29  244.770004  246.690002  233.279999  233.309998  258100000   \n",
       "1987-10-30  251.789993  254.039993  244.770004  244.770004  303400000   \n",
       "\n",
       "Price        % Change  \n",
       "Ticker                 \n",
       "Date                   \n",
       "1987-10-08  -1.375025  \n",
       "1987-10-09  -0.983574  \n",
       "1987-10-12  -0.540069  \n",
       "1987-10-13   1.658093  \n",
       "1987-10-14  -2.953700  \n",
       "1987-10-15  -2.342504  \n",
       "1987-10-16  -5.159680  \n",
       "1987-10-19 -20.466931  \n",
       "1987-10-20   5.332684  \n",
       "1987-10-21   9.099355  \n",
       "1987-10-22  -3.920584  \n",
       "1987-10-23  -0.012084  \n",
       "1987-10-26  -8.278947  \n",
       "1987-10-27   2.424564  \n",
       "1987-10-28   0.038594  \n",
       "1987-10-29   4.925414  \n",
       "1987-10-30   2.867994  "
      ]
     },
     "execution_count": 72,
     "metadata": {},
     "output_type": "execute_result"
    }
   ],
   "source": [
    "import pandas as pd\n",
    "import numpy as np\n",
    "\n",
    "# Download S&P500 prices around the 1987 stock market crash\n",
    "SP500 = yf.download('^GSPC', start='1987-10-07', end='1987-10-31', progress=False)\n",
    "SP500\n",
    "# Convert Series to a DataFrame and add a column for Percent Change\n",
    "# SP500 = pd.DataFrame(SP500)\n",
    "SP500['% Change'] = SP500['Close'].pct_change()*100\n",
    "SP500 = SP500.dropna()\n",
    "SP500"
   ]
  },
  {
   "cell_type": "markdown",
   "id": "0b4dc5fd",
   "metadata": {},
   "source": [
    "## Listing 3.8"
   ]
  },
  {
   "cell_type": "code",
   "execution_count": 73,
   "id": "7a834cc9",
   "metadata": {},
   "outputs": [
    {
     "name": "stderr",
     "output_type": "stream",
     "text": [
      "[*********************100%***********************]  1 of 1 completed"
     ]
    },
    {
     "name": "stdout",
     "output_type": "stream",
     "text": [
      "The autocorrelation of squared returns is 0.22277573731844078\n",
      "The standard error is 0.010594028769395471\n",
      "The t-stat is 21.02842480114891\n"
     ]
    },
    {
     "name": "stderr",
     "output_type": "stream",
     "text": [
      "\n"
     ]
    }
   ],
   "source": [
    "SP500 = yf.download('^GSPC', start='1987-01-01', end='2022-05-10')\n",
    "SP500['Ret'] = SP500['Close'].pct_change()\n",
    "SP500['Sq Ret'] = SP500['Ret']**2\n",
    "AutoCorr = SP500['Sq Ret'].autocorr()\n",
    "se = 1/(len(SP500)**0.5)\n",
    "t_stat = AutoCorr/se\n",
    "\n",
    "print('The autocorrelation of squared returns is', AutoCorr)\n",
    "print('The standard error is', se)\n",
    "print('The t-stat is', t_stat)"
   ]
  },
  {
   "cell_type": "code",
   "execution_count": 74,
   "id": "0e5e6e80",
   "metadata": {},
   "outputs": [
    {
     "name": "stderr",
     "output_type": "stream",
     "text": [
      "[*********************100%***********************]  1 of 1 completed\n"
     ]
    },
    {
     "data": {
      "image/png": "[encoded data removed]",
      "text/plain": [
       "<Figure size 640x480 with 1 Axes>"
      ]
     },
     "metadata": {},
     "output_type": "display_data"
    }
   ],
   "source": [
    "VIX = yf.download('^VIX', start='2008-07-01', end='2009-10-16')['Close']\n",
    "VIX.plot();"
   ]
  },
  {
   "cell_type": "markdown",
   "id": "f770097b",
   "metadata": {},
   "source": [
    "## Listing 3.9"
   ]
  },
  {
   "cell_type": "code",
   "execution_count": 75,
   "id": "cb5a6182",
   "metadata": {},
   "outputs": [
    {
     "name": "stderr",
     "output_type": "stream",
     "text": [
      "[*********************100%***********************]  1 of 1 completed"
     ]
    },
    {
     "name": "stdout",
     "output_type": "stream",
     "text": [
      "Iteration:      1,   Func. Count:      6,   Neg. LLF: 1872519.0067362934\n",
      "Iteration:      2,   Func. Count:     14,   Neg. LLF: 2997441.2179114698\n",
      "Iteration:      3,   Func. Count:     22,   Neg. LLF: 12379.129850357678\n",
      "Iteration:      4,   Func. Count:     28,   Neg. LLF: 12359.907838289237\n",
      "Iteration:      5,   Func. Count:     34,   Neg. LLF: 12486.388075669303\n",
      "Iteration:      6,   Func. Count:     40,   Neg. LLF: 12285.697783217467\n",
      "Iteration:      7,   Func. Count:     46,   Neg. LLF: 12297.380144947569\n",
      "Iteration:      8,   Func. Count:     52,   Neg. LLF: 12785.64133022922\n",
      "Iteration:      9,   Func. Count:     59,   Neg. LLF: 12279.134263254651\n",
      "Iteration:     10,   Func. Count:     65,   Neg. LLF: 12278.746646808551\n",
      "Iteration:     11,   Func. Count:     70,   Neg. LLF: 12278.745740526734\n",
      "Iteration:     12,   Func. Count:     74,   Neg. LLF: 12278.745740526718\n",
      "Optimization terminated successfully    (Exit mode 0)\n",
      "            Current function value: 12278.745740526734\n",
      "            Iterations: 12\n",
      "            Function evaluations: 74\n",
      "            Gradient evaluations: 12\n",
      "h.01    9.871844\n",
      "h.02    9.858160\n",
      "h.03    9.844602\n",
      "h.04    9.831168\n",
      "h.05    9.817859\n",
      "          ...   \n",
      "h.59    9.254907\n",
      "h.60    9.246909\n",
      "h.61    9.238985\n",
      "h.62    9.231134\n",
      "h.63    9.223355\n",
      "Name: 2022-05-23 00:00:00, Length: 63, dtype: float64\n"
     ]
    },
    {
     "name": "stderr",
     "output_type": "stream",
     "text": [
      "\n"
     ]
    }
   ],
   "source": [
    "from arch import arch_model\n",
    "\n",
    "AAPL_prices = yf.download('AAPL', start='2000-01-03', end='2022-05-24', auto_adjust=False)['Adj Close']\n",
    "returns = 100 * AAPL_prices.pct_change().dropna()\n",
    "\n",
    "horizon = 63\n",
    "am = arch_model(returns)\n",
    "res = am.fit()\n",
    "forecasts = res.forecast(horizon=horizon)\n",
    "print(forecasts.residual_variance.iloc[-1,:])"
   ]
  },
  {
   "cell_type": "code",
   "execution_count": 76,
   "id": "67c1ce81",
   "metadata": {},
   "outputs": [
    {
     "name": "stdout",
     "output_type": "stream",
     "text": [
      "Volatility forecast is  0.48972896724023035\n"
     ]
    }
   ],
   "source": [
    "vol_forecast = (forecasts.residual_variance.iloc[-1,:].sum()*252/horizon)**0.5 / 100\n",
    "print('Volatility forecast is ', vol_forecast)"
   ]
  },
  {
   "cell_type": "code",
   "execution_count": 77,
   "id": "d90a1a70",
   "metadata": {},
   "outputs": [
    {
     "data": {
      "text/html": [
       "<div>\n",
       "<style scoped>\n",
       "    .dataframe tbody tr th:only-of-type {\n",
       "        vertical-align: middle;\n",
       "    }\n",
       "\n",
       "    .dataframe tbody tr th {\n",
       "        vertical-align: top;\n",
       "    }\n",
       "\n",
       "    .dataframe thead th {\n",
       "        text-align: right;\n",
       "    }\n",
       "</style>\n",
       "<table border=\"1\" class=\"dataframe\">\n",
       "  <thead>\n",
       "    <tr style=\"text-align: right;\">\n",
       "      <th></th>\n",
       "      <th>h.01</th>\n",
       "      <th>h.02</th>\n",
       "      <th>h.03</th>\n",
       "      <th>h.04</th>\n",
       "      <th>h.05</th>\n",
       "      <th>h.06</th>\n",
       "      <th>h.07</th>\n",
       "      <th>h.08</th>\n",
       "      <th>h.09</th>\n",
       "      <th>h.10</th>\n",
       "      <th>...</th>\n",
       "      <th>h.54</th>\n",
       "      <th>h.55</th>\n",
       "      <th>h.56</th>\n",
       "      <th>h.57</th>\n",
       "      <th>h.58</th>\n",
       "      <th>h.59</th>\n",
       "      <th>h.60</th>\n",
       "      <th>h.61</th>\n",
       "      <th>h.62</th>\n",
       "      <th>h.63</th>\n",
       "    </tr>\n",
       "    <tr>\n",
       "      <th>Date</th>\n",
       "      <th></th>\n",
       "      <th></th>\n",
       "      <th></th>\n",
       "      <th></th>\n",
       "      <th></th>\n",
       "      <th></th>\n",
       "      <th></th>\n",
       "      <th></th>\n",
       "      <th></th>\n",
       "      <th></th>\n",
       "      <th></th>\n",
       "      <th></th>\n",
       "      <th></th>\n",
       "      <th></th>\n",
       "      <th></th>\n",
       "      <th></th>\n",
       "      <th></th>\n",
       "      <th></th>\n",
       "      <th></th>\n",
       "      <th></th>\n",
       "      <th></th>\n",
       "    </tr>\n",
       "  </thead>\n",
       "  <tbody>\n",
       "    <tr>\n",
       "      <th>2022-05-23</th>\n",
       "      <td>9.871844</td>\n",
       "      <td>9.85816</td>\n",
       "      <td>9.844602</td>\n",
       "      <td>9.831168</td>\n",
       "      <td>9.817859</td>\n",
       "      <td>9.804672</td>\n",
       "      <td>9.791607</td>\n",
       "      <td>9.778663</td>\n",
       "      <td>9.765837</td>\n",
       "      <td>9.75313</td>\n",
       "      <td>...</td>\n",
       "      <td>9.296026</td>\n",
       "      <td>9.287649</td>\n",
       "      <td>9.279349</td>\n",
       "      <td>9.271126</td>\n",
       "      <td>9.262979</td>\n",
       "      <td>9.254907</td>\n",
       "      <td>9.246909</td>\n",
       "      <td>9.238985</td>\n",
       "      <td>9.231134</td>\n",
       "      <td>9.223355</td>\n",
       "    </tr>\n",
       "  </tbody>\n",
       "</table>\n",
       "<p>1 rows × 63 columns</p>\n",
       "</div>"
      ],
      "text/plain": [
       "                h.01     h.02      h.03      h.04      h.05      h.06  \\\n",
       "Date                                                                    \n",
       "2022-05-23  9.871844  9.85816  9.844602  9.831168  9.817859  9.804672   \n",
       "\n",
       "                h.07      h.08      h.09     h.10  ...      h.54      h.55  \\\n",
       "Date                                               ...                       \n",
       "2022-05-23  9.791607  9.778663  9.765837  9.75313  ...  9.296026  9.287649   \n",
       "\n",
       "                h.56      h.57      h.58      h.59      h.60      h.61  \\\n",
       "Date                                                                     \n",
       "2022-05-23  9.279349  9.271126  9.262979  9.254907  9.246909  9.238985   \n",
       "\n",
       "                h.62      h.63  \n",
       "Date                            \n",
       "2022-05-23  9.231134  9.223355  \n",
       "\n",
       "[1 rows x 63 columns]"
      ]
     },
     "execution_count": 77,
     "metadata": {},
     "output_type": "execute_result"
    }
   ],
   "source": [
    "forecasts.residual_variance"
   ]
  },
  {
   "cell_type": "code",
   "execution_count": 78,
   "id": "9393f5df",
   "metadata": {},
   "outputs": [
    {
     "name": "stdout",
     "output_type": "stream",
     "text": [
      "False\n"
     ]
    }
   ],
   "source": [
    "Corr = [[ 1. ,  0.8, -0.2],\n",
    "        [ 0.8,  1. ,  0.5],\n",
    "        [-0.2,  0.5,  1. ]]\n",
    "eigenvalues = np.linalg.eigvals(Corr)\n",
    "print(np.all(eigenvalues > 0))"
   ]
  },
  {
   "cell_type": "code",
   "execution_count": 79,
   "id": "848139ba",
   "metadata": {},
   "outputs": [
    {
     "data": {
      "text/plain": [
       "array([False,  True,  True])"
      ]
     },
     "execution_count": 79,
     "metadata": {},
     "output_type": "execute_result"
    }
   ],
   "source": [
    "eigenvalues > 0"
   ]
  },
  {
   "cell_type": "code",
   "execution_count": 80,
   "id": "6f37c4b7",
   "metadata": {},
   "outputs": [
    {
     "name": "stdout",
     "output_type": "stream",
     "text": [
      "True\n"
     ]
    }
   ],
   "source": [
    "Corr = [[ 1. ,  0.8, -0.2],\n",
    "        [ 0.8,  1. ,  0.4],\n",
    "        [-0.2,  0.4,  1. ]]\n",
    "eigenvalues = np.linalg.eigvals(Corr)\n",
    "print(np.all(eigenvalues > 0))"
   ]
  },
  {
   "cell_type": "code",
   "execution_count": null,
   "id": "1150ddbd",
   "metadata": {},
   "outputs": [],
   "source": []
  }
 ],
 "metadata": {
  "kernelspec": {
   "display_name": ".venv",
   "language": "python",
   "name": "python3"
  },
  "language_info": {
   "codemirror_mode": {
    "name": "ipython",
    "version": 3
   },
   "file_extension": ".py",
   "mimetype": "text/x-python",
   "name": "python",
   "nbconvert_exporter": "python",
   "pygments_lexer": "ipython3",
   "version": "3.11.10"
  }
 },
 "nbformat": 4,
 "nbformat_minor": 5
}
