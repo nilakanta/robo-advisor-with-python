{
 "cells": [
  {
   "cell_type": "markdown",
   "id": "7cc90c44",
   "metadata": {},
   "source": [
    "# Chapter 3: Estimating Expected Returns and Covariances\n",
    "\n",
    "## 3.1 Estimating Expected Returns\n",
    "\n",
    "## Listing 3.1"
   ]
  },
  {
   "cell_type": "code",
   "execution_count": 1,
   "id": "22271910",
   "metadata": {},
   "outputs": [
    {
     "name": "stdout",
     "output_type": "stream",
     "text": [
      "[*********************100%***********************]  1 of 1 completed\n"
     ]
    },
    {
     "data": {
      "text/html": [
       "<div>\n",
       "<style scoped>\n",
       "    .dataframe tbody tr th:only-of-type {\n",
       "        vertical-align: middle;\n",
       "    }\n",
       "\n",
       "    .dataframe tbody tr th {\n",
       "        vertical-align: top;\n",
       "    }\n",
       "\n",
       "    .dataframe thead th {\n",
       "        text-align: right;\n",
       "    }\n",
       "</style>\n",
       "<table border=\"1\" class=\"dataframe\">\n",
       "  <thead>\n",
       "    <tr style=\"text-align: right;\">\n",
       "      <th></th>\n",
       "      <th>Open</th>\n",
       "      <th>High</th>\n",
       "      <th>Low</th>\n",
       "      <th>Close</th>\n",
       "      <th>Adj Close</th>\n",
       "      <th>Volume</th>\n",
       "    </tr>\n",
       "    <tr>\n",
       "      <th>Date</th>\n",
       "      <th></th>\n",
       "      <th></th>\n",
       "      <th></th>\n",
       "      <th></th>\n",
       "      <th></th>\n",
       "      <th></th>\n",
       "    </tr>\n",
       "  </thead>\n",
       "  <tbody>\n",
       "    <tr>\n",
       "      <th>2023-12-22</th>\n",
       "      <td>195.179993</td>\n",
       "      <td>195.410004</td>\n",
       "      <td>192.970001</td>\n",
       "      <td>193.600006</td>\n",
       "      <td>193.600006</td>\n",
       "      <td>37122800</td>\n",
       "    </tr>\n",
       "    <tr>\n",
       "      <th>2023-12-26</th>\n",
       "      <td>193.610001</td>\n",
       "      <td>193.889999</td>\n",
       "      <td>192.830002</td>\n",
       "      <td>193.050003</td>\n",
       "      <td>193.050003</td>\n",
       "      <td>28919300</td>\n",
       "    </tr>\n",
       "    <tr>\n",
       "      <th>2023-12-27</th>\n",
       "      <td>192.490005</td>\n",
       "      <td>193.500000</td>\n",
       "      <td>191.089996</td>\n",
       "      <td>193.149994</td>\n",
       "      <td>193.149994</td>\n",
       "      <td>48087700</td>\n",
       "    </tr>\n",
       "    <tr>\n",
       "      <th>2023-12-28</th>\n",
       "      <td>194.139999</td>\n",
       "      <td>194.660004</td>\n",
       "      <td>193.169998</td>\n",
       "      <td>193.580002</td>\n",
       "      <td>193.580002</td>\n",
       "      <td>34049900</td>\n",
       "    </tr>\n",
       "    <tr>\n",
       "      <th>2023-12-29</th>\n",
       "      <td>193.899994</td>\n",
       "      <td>194.399994</td>\n",
       "      <td>191.729996</td>\n",
       "      <td>192.529999</td>\n",
       "      <td>192.529999</td>\n",
       "      <td>42628800</td>\n",
       "    </tr>\n",
       "  </tbody>\n",
       "</table>\n",
       "</div>"
      ],
      "text/plain": [
       "                  Open        High         Low       Close   Adj Close  \\\n",
       "Date                                                                     \n",
       "2023-12-22  195.179993  195.410004  192.970001  193.600006  193.600006   \n",
       "2023-12-26  193.610001  193.889999  192.830002  193.050003  193.050003   \n",
       "2023-12-27  192.490005  193.500000  191.089996  193.149994  193.149994   \n",
       "2023-12-28  194.139999  194.660004  193.169998  193.580002  193.580002   \n",
       "2023-12-29  193.899994  194.399994  191.729996  192.529999  192.529999   \n",
       "\n",
       "              Volume  \n",
       "Date                  \n",
       "2023-12-22  37122800  \n",
       "2023-12-26  28919300  \n",
       "2023-12-27  48087700  \n",
       "2023-12-28  34049900  \n",
       "2023-12-29  42628800  "
      ]
     },
     "execution_count": 1,
     "metadata": {},
     "output_type": "execute_result"
    }
   ],
   "source": [
    "import yfinance as yf\n",
    "\n",
    "df = yf.download(\"AAPL\", start='2000-01-03', end='2023-12-30')\n",
    "df.tail()"
   ]
  },
  {
   "cell_type": "code",
   "execution_count": 2,
   "id": "292f584a",
   "metadata": {},
   "outputs": [
    {
     "name": "stdout",
     "output_type": "stream",
     "text": [
      "[*********************100%***********************]  3 of 3 completed\n"
     ]
    },
    {
     "data": {
      "text/html": [
       "<div>\n",
       "<style scoped>\n",
       "    .dataframe tbody tr th:only-of-type {\n",
       "        vertical-align: middle;\n",
       "    }\n",
       "\n",
       "    .dataframe tbody tr th {\n",
       "        vertical-align: top;\n",
       "    }\n",
       "\n",
       "    .dataframe thead th {\n",
       "        text-align: right;\n",
       "    }\n",
       "</style>\n",
       "<table border=\"1\" class=\"dataframe\">\n",
       "  <thead>\n",
       "    <tr style=\"text-align: right;\">\n",
       "      <th></th>\n",
       "      <th>AAPL</th>\n",
       "      <th>FE</th>\n",
       "      <th>WMT</th>\n",
       "    </tr>\n",
       "    <tr>\n",
       "      <th>Date</th>\n",
       "      <th></th>\n",
       "      <th></th>\n",
       "      <th></th>\n",
       "    </tr>\n",
       "  </thead>\n",
       "  <tbody>\n",
       "    <tr>\n",
       "      <th>2000-01-03</th>\n",
       "      <td>0.847207</td>\n",
       "      <td>7.525705</td>\n",
       "      <td>43.555920</td>\n",
       "    </tr>\n",
       "    <tr>\n",
       "      <th>2000-01-04</th>\n",
       "      <td>0.775779</td>\n",
       "      <td>7.525705</td>\n",
       "      <td>41.926163</td>\n",
       "    </tr>\n",
       "    <tr>\n",
       "      <th>2000-01-05</th>\n",
       "      <td>0.787131</td>\n",
       "      <td>7.802859</td>\n",
       "      <td>41.070534</td>\n",
       "    </tr>\n",
       "    <tr>\n",
       "      <th>2000-01-06</th>\n",
       "      <td>0.719014</td>\n",
       "      <td>7.824178</td>\n",
       "      <td>41.518715</td>\n",
       "    </tr>\n",
       "    <tr>\n",
       "      <th>2000-01-07</th>\n",
       "      <td>0.753073</td>\n",
       "      <td>7.866814</td>\n",
       "      <td>44.656036</td>\n",
       "    </tr>\n",
       "  </tbody>\n",
       "</table>\n",
       "</div>"
      ],
      "text/plain": [
       "                AAPL        FE        WMT\n",
       "Date                                     \n",
       "2000-01-03  0.847207  7.525705  43.555920\n",
       "2000-01-04  0.775779  7.525705  41.926163\n",
       "2000-01-05  0.787131  7.802859  41.070534\n",
       "2000-01-06  0.719014  7.824178  41.518715\n",
       "2000-01-07  0.753073  7.866814  44.656036"
      ]
     },
     "execution_count": 2,
     "metadata": {},
     "output_type": "execute_result"
    }
   ],
   "source": [
    "stocks = ['AAPL', 'FE', 'WMT']\n",
    "stock_prices = yf.download(stocks, start='2000-01-03', end='2023-12-30')['Adj Close']\n",
    "stock_prices.head()"
   ]
  },
  {
   "cell_type": "code",
   "execution_count": 3,
   "id": "5ab27d19",
   "metadata": {},
   "outputs": [
    {
     "data": {
      "text/html": [
       "<div>\n",
       "<style scoped>\n",
       "    .dataframe tbody tr th:only-of-type {\n",
       "        vertical-align: middle;\n",
       "    }\n",
       "\n",
       "    .dataframe tbody tr th {\n",
       "        vertical-align: top;\n",
       "    }\n",
       "\n",
       "    .dataframe thead th {\n",
       "        text-align: right;\n",
       "    }\n",
       "</style>\n",
       "<table border=\"1\" class=\"dataframe\">\n",
       "  <thead>\n",
       "    <tr style=\"text-align: right;\">\n",
       "      <th></th>\n",
       "      <th>AAPL</th>\n",
       "      <th>FE</th>\n",
       "      <th>WMT</th>\n",
       "    </tr>\n",
       "    <tr>\n",
       "      <th>Date</th>\n",
       "      <th></th>\n",
       "      <th></th>\n",
       "      <th></th>\n",
       "    </tr>\n",
       "  </thead>\n",
       "  <tbody>\n",
       "    <tr>\n",
       "      <th>2000-01-03</th>\n",
       "      <td>NaN</td>\n",
       "      <td>NaN</td>\n",
       "      <td>NaN</td>\n",
       "    </tr>\n",
       "    <tr>\n",
       "      <th>2000-01-04</th>\n",
       "      <td>-0.084310</td>\n",
       "      <td>0.000000</td>\n",
       "      <td>-0.037418</td>\n",
       "    </tr>\n",
       "    <tr>\n",
       "      <th>2000-01-05</th>\n",
       "      <td>0.014633</td>\n",
       "      <td>0.036828</td>\n",
       "      <td>-0.020408</td>\n",
       "    </tr>\n",
       "    <tr>\n",
       "      <th>2000-01-06</th>\n",
       "      <td>-0.086538</td>\n",
       "      <td>0.002732</td>\n",
       "      <td>0.010912</td>\n",
       "    </tr>\n",
       "    <tr>\n",
       "      <th>2000-01-07</th>\n",
       "      <td>0.047369</td>\n",
       "      <td>0.005449</td>\n",
       "      <td>0.075564</td>\n",
       "    </tr>\n",
       "  </tbody>\n",
       "</table>\n",
       "</div>"
      ],
      "text/plain": [
       "                AAPL        FE       WMT\n",
       "Date                                    \n",
       "2000-01-03       NaN       NaN       NaN\n",
       "2000-01-04 -0.084310  0.000000 -0.037418\n",
       "2000-01-05  0.014633  0.036828 -0.020408\n",
       "2000-01-06 -0.086538  0.002732  0.010912\n",
       "2000-01-07  0.047369  0.005449  0.075564"
      ]
     },
     "execution_count": 3,
     "metadata": {},
     "output_type": "execute_result"
    }
   ],
   "source": [
    "stock_returns = stock_prices.pct_change()\n",
    "stock_returns.head()"
   ]
  },
  {
   "cell_type": "code",
   "execution_count": 4,
   "id": "5e0f17f5",
   "metadata": {},
   "outputs": [
    {
     "data": {
      "text/plain": [
       "AAPL    0.306962\n",
       "FE      0.099765\n",
       "WMT     0.081381\n",
       "dtype: float64"
      ]
     },
     "execution_count": 4,
     "metadata": {},
     "output_type": "execute_result"
    }
   ],
   "source": [
    "stock_returns.mean()*252"
   ]
  },
  {
   "cell_type": "markdown",
   "id": "1cd392e4",
   "metadata": {},
   "source": [
    "## Listing 3.2"
   ]
  },
  {
   "cell_type": "code",
   "execution_count": 5,
   "id": "7682de85",
   "metadata": {},
   "outputs": [
    {
     "data": {
      "text/html": [
       "<div>\n",
       "<style scoped>\n",
       "    .dataframe tbody tr th:only-of-type {\n",
       "        vertical-align: middle;\n",
       "    }\n",
       "\n",
       "    .dataframe tbody tr th {\n",
       "        vertical-align: top;\n",
       "    }\n",
       "\n",
       "    .dataframe thead th {\n",
       "        text-align: right;\n",
       "    }\n",
       "</style>\n",
       "<table border=\"1\" class=\"dataframe\">\n",
       "  <thead>\n",
       "    <tr style=\"text-align: right;\">\n",
       "      <th></th>\n",
       "      <th>TB3MS</th>\n",
       "    </tr>\n",
       "    <tr>\n",
       "      <th>DATE</th>\n",
       "      <th></th>\n",
       "    </tr>\n",
       "  </thead>\n",
       "  <tbody>\n",
       "    <tr>\n",
       "      <th>2000-01-01</th>\n",
       "      <td>5.32</td>\n",
       "    </tr>\n",
       "    <tr>\n",
       "      <th>2000-02-01</th>\n",
       "      <td>5.55</td>\n",
       "    </tr>\n",
       "    <tr>\n",
       "      <th>2000-03-01</th>\n",
       "      <td>5.69</td>\n",
       "    </tr>\n",
       "    <tr>\n",
       "      <th>2000-04-01</th>\n",
       "      <td>5.66</td>\n",
       "    </tr>\n",
       "    <tr>\n",
       "      <th>2000-05-01</th>\n",
       "      <td>5.79</td>\n",
       "    </tr>\n",
       "  </tbody>\n",
       "</table>\n",
       "</div>"
      ],
      "text/plain": [
       "            TB3MS\n",
       "DATE             \n",
       "2000-01-01   5.32\n",
       "2000-02-01   5.55\n",
       "2000-03-01   5.69\n",
       "2000-04-01   5.66\n",
       "2000-05-01   5.79"
      ]
     },
     "execution_count": 5,
     "metadata": {},
     "output_type": "execute_result"
    }
   ],
   "source": [
    "import pandas_datareader as pdr\n",
    "\n",
    "rf = pdr.DataReader('TB3MS', 'fred', start='2000-01-01', end='2023-12-30')\n",
    "rf.head()"
   ]
  },
  {
   "cell_type": "code",
   "execution_count": 8,
   "id": "6b10e111",
   "metadata": {},
   "outputs": [
    {
     "name": "stdout",
     "output_type": "stream",
     "text": [
      "[*********************100%***********************]  1 of 1 completed\n"
     ]
    }
   ],
   "source": [
    "mkt_prices = yf.download('SPY', start='2000-01-03', end='2023-12-30')['Adj Close']"
   ]
  },
  {
   "cell_type": "markdown",
   "id": "5d46fe97",
   "metadata": {},
   "source": [
    "## Listing 3.3"
   ]
  },
  {
   "cell_type": "code",
   "execution_count": 23,
   "id": "ab7c2ecd",
   "metadata": {},
   "outputs": [
    {
     "name": "stdout",
     "output_type": "stream",
     "text": [
      "                                 OLS Regression Results                                \n",
      "=======================================================================================\n",
      "Dep. Variable:                      y   R-squared (uncentered):                   0.304\n",
      "Model:                            OLS   Adj. R-squared (uncentered):              0.302\n",
      "Method:                 Least Squares   F-statistic:                              124.7\n",
      "Date:                Sat, 30 Dec 2023   Prob (F-statistic):                    2.94e-24\n",
      "Time:                        20:13:44   Log-Likelihood:                          260.62\n",
      "No. Observations:                 286   AIC:                                     -519.2\n",
      "Df Residuals:                     285   BIC:                                     -515.6\n",
      "Df Model:                           1                                                  \n",
      "Covariance Type:            nonrobust                                                  \n",
      "==============================================================================\n",
      "                 coef    std err          t      P>|t|      [0.025      0.975]\n",
      "------------------------------------------------------------------------------\n",
      "x1             1.3187      0.118     11.167      0.000       1.086       1.551\n",
      "==============================================================================\n",
      "Omnibus:                       47.774   Durbin-Watson:                   2.022\n",
      "Prob(Omnibus):                  0.000   Jarque-Bera (JB):              287.926\n",
      "Skew:                          -0.457   Prob(JB):                     3.00e-63\n",
      "Kurtosis:                       7.830   Cond. No.                         1.00\n",
      "==============================================================================\n",
      "\n",
      "Notes:\n",
      "[1] R² is computed without centering (uncentered) since the model does not contain a constant.\n",
      "[2] Standard Errors assume that the covariance matrix of the errors is correctly specified.\n"
     ]
    }
   ],
   "source": [
    "import statsmodels.api as sm\n",
    "\n",
    "stock_prices_monthly = stock_prices.resample('MS').first()\n",
    "mkt_prices_monthly = mkt_prices.resample('MS').first()\n",
    "aapl_returns_monthly = stock_prices_monthly['AAPL'].pct_change()\n",
    "mkt_returns_monthly = mkt_prices_monthly.pct_change()\n",
    "y = (aapl_returns_monthly - rf['TB3MS']/100/12).dropna()\n",
    "X = (mkt_returns_monthly - rf['TB3MS']/100/12).dropna()\n",
    "model = sm.OLS(y,X)\n",
    "results = model.fit()\n",
    "print(results.summary())"
   ]
  },
  {
   "cell_type": "code",
   "execution_count": 24,
   "id": "e8388b71",
   "metadata": {},
   "outputs": [
    {
     "name": "stdout",
     "output_type": "stream",
     "text": [
      "The beta for AAPL is:  x1    1.3187\n",
      "dtype: float64\n"
     ]
    }
   ],
   "source": [
    "print('The beta for AAPL is: ', results.params)"
   ]
  },
  {
   "cell_type": "markdown",
   "id": "ca0c16f0",
   "metadata": {},
   "source": [
    "The beta for FE:"
   ]
  },
  {
   "cell_type": "code",
   "execution_count": 20,
   "id": "33965651",
   "metadata": {},
   "outputs": [
    {
     "name": "stdout",
     "output_type": "stream",
     "text": [
      "The beta for FE is:  x1    0.295832\n",
      "dtype: float64\n"
     ]
    }
   ],
   "source": [
    "fe_returns_monthly = stock_prices_monthly['FE'].pct_change()\n",
    "y = (fe_returns_monthly - rf['TB3MS']/100/12).dropna()\n",
    "model = sm.OLS(y,X)\n",
    "results = model.fit()\n",
    "print('The beta for FE is: ', results.params)"
   ]
  },
  {
   "cell_type": "markdown",
   "id": "37146b19",
   "metadata": {},
   "source": [
    "The beta for WMT:"
   ]
  },
  {
   "cell_type": "code",
   "execution_count": 22,
   "id": "7255d737",
   "metadata": {},
   "outputs": [
    {
     "name": "stdout",
     "output_type": "stream",
     "text": [
      "The beta for WMT is:  x1    0.490691\n",
      "dtype: float64\n"
     ]
    }
   ],
   "source": [
    "wmt_returns_monthly = stock_prices_monthly['WMT'].pct_change()\n",
    "y = (wmt_returns_monthly - rf['TB3MS']/100/12).dropna()\n",
    "model = sm.OLS(y,X)\n",
    "results = model.fit()\n",
    "print('The beta for WMT is: ', results.params)"
   ]
  },
  {
   "cell_type": "code",
   "execution_count": 25,
   "id": "6d5b77c7",
   "metadata": {},
   "outputs": [
    {
     "name": "stdout",
     "output_type": "stream",
     "text": [
      "The current risk-free rate is 5.27 %\n"
     ]
    }
   ],
   "source": [
    "print('The current risk-free rate is', rf['TB3MS'].iloc[-1],'%')"
   ]
  },
  {
   "cell_type": "code",
   "execution_count": 26,
   "id": "8608ca02",
   "metadata": {},
   "outputs": [
    {
     "name": "stdout",
     "output_type": "stream",
     "text": [
      "The avg annualized market return is 8.074061473869964 %\n"
     ]
    }
   ],
   "source": [
    "print('The avg annualized market return is', mkt_returns_monthly.mean()*12*100, '%')"
   ]
  },
  {
   "cell_type": "markdown",
   "id": "83b6ea43",
   "metadata": {},
   "source": [
    "## Listing 3.4"
   ]
  },
  {
   "cell_type": "code",
   "execution_count": 32,
   "id": "91d564b0",
   "metadata": {},
   "outputs": [
    {
     "name": "stdout",
     "output_type": "stream",
     "text": [
      "raw bond average returns  0.09673030238651532\n",
      "excess bond average returns  0.06364354439564762\n"
     ]
    },
    {
     "data": {
      "image/png": "[encoded data removed]",
      "text/plain": [
       "<Figure size 432x288 with 1 Axes>"
      ]
     },
     "metadata": {
      "needs_background": "light"
     },
     "output_type": "display_data"
    }
   ],
   "source": [
    "start = '1984-06-29'\n",
    "end = '2020-12-31'\n",
    "symbol = 'BAMLCC8A015PYTRIV'\n",
    "\n",
    "bond = pdr.DataReader(symbol, 'fred', start=start, end=end) #A\n",
    "bond_monthly = bond.resample('M').last()\n",
    "bond_returns_monthly = bond_monthly.pct_change()\n",
    "\n",
    "TenYr = pdr.DataReader('DGS10', 'fred', start='1984-06-29', end='2020-12-31') #B\n",
    "TenYr_monthly = TenYr.resample('M').last()\n",
    "TenYr_change_monthly = TenYr_monthly.diff().dropna()/100.\n",
    "TenYr_change_monthly.rename(columns={'DGS10': 'Change 10Yr Yield'}, inplace=True)\n",
    "\n",
    "rf = pdr.DataReader('DTB3', 'fred', start='1984-06-29', end='2020-12-31') #C\n",
    "rf_monthly = rf.resample('M').last()/100\n",
    "\n",
    "TenYr.plot(xlabel='Date', ylabel='Yield on 10-Year Treasuries', legend=False) #D\n",
    "\n",
    "print('raw bond average returns ', bond_returns_monthly[symbol].mean()*12)\n",
    "print('excess bond average returns ', (bond_returns_monthly[symbol] -\n",
    "                                       rf_monthly['DTB3'].shift()/12).mean()*12)\n",
    "\n",
    "#A Download corporate bond data\n",
    "#B Download Treasury yield data\n",
    "#C Download short-term risk-free rate data\n",
    "#D The plot of Treasury yields displayed in Figure 3.2"
   ]
  },
  {
   "cell_type": "markdown",
   "id": "048f6d58",
   "metadata": {},
   "source": [
    "## Listing 3.5"
   ]
  },
  {
   "cell_type": "code",
   "execution_count": 33,
   "id": "5a537b61",
   "metadata": {},
   "outputs": [
    {
     "name": "stdout",
     "output_type": "stream",
     "text": [
      "                            OLS Regression Results                            \n",
      "==============================================================================\n",
      "Dep. Variable:                      y   R-squared:                       0.455\n",
      "Model:                            OLS   Adj. R-squared:                  0.454\n",
      "Method:                 Least Squares   F-statistic:                     364.4\n",
      "Date:                Fri, 05 Jan 2024   Prob (F-statistic):           1.72e-59\n",
      "Time:                        17:01:29   Log-Likelihood:                 1123.3\n",
      "No. Observations:                 438   AIC:                            -2243.\n",
      "Df Residuals:                     436   BIC:                            -2234.\n",
      "Df Model:                           1                                         \n",
      "Covariance Type:            nonrobust                                         \n",
      "=====================================================================================\n",
      "                        coef    std err          t      P>|t|      [0.025      0.975]\n",
      "-------------------------------------------------------------------------------------\n",
      "const                 0.0036      0.001      3.962      0.000       0.002       0.005\n",
      "Change 10Yr Yield    -5.9450      0.311    -19.090      0.000      -6.557      -5.333\n",
      "==============================================================================\n",
      "Omnibus:                      156.992   Durbin-Watson:                   1.760\n",
      "Prob(Omnibus):                  0.000   Jarque-Bera (JB):             3031.811\n",
      "Skew:                          -1.021   Prob(JB):                         0.00\n",
      "Kurtosis:                      15.726   Cond. No.                         349.\n",
      "==============================================================================\n",
      "\n",
      "Notes:\n",
      "[1] Standard Errors assume that the covariance matrix of the errors is correctly specified.\n"
     ]
    }
   ],
   "source": [
    "y = (bond_returns_monthly[symbol] - rf_monthly['DTB3'].shift()/12).dropna()\n",
    "X = TenYr_change_monthly\n",
    "X = sm.add_constant(X)\n",
    "common_dates = X.index.intersection(y.index)\n",
    "X = X.loc[common_dates]\n",
    "model = sm.OLS(y,X)\n",
    "results = model.fit()\n",
    "print(results.summary())"
   ]
  },
  {
   "cell_type": "code",
   "execution_count": 34,
   "id": "80cb1a96",
   "metadata": {},
   "outputs": [
    {
     "name": "stdout",
     "output_type": "stream",
     "text": [
      "The expected return after stripping out valuation is  0.04261614539214154\n"
     ]
    }
   ],
   "source": [
    "print('The expected return after stripping out valuation is ',results.params[0]*12)"
   ]
  },
  {
   "cell_type": "code",
   "execution_count": 36,
   "id": "5033bb86",
   "metadata": {},
   "outputs": [
    {
     "data": {
      "image/png": "[encoded data removed]",
      "text/plain": [
       "<Figure size 432x288 with 1 Axes>"
      ]
     },
     "metadata": {
      "needs_background": "light"
     },
     "output_type": "display_data"
    }
   ],
   "source": [
    "# Plot the regression line\n",
    "import matplotlib.pyplot as plt\n",
    "\n",
    "plt.plot(X['Change 10Yr Yield'], results.fittedvalues, color='red')\n",
    "plt.scatter(X['Change 10Yr Yield'], y)\n",
    "plt.xlabel('Change 10Yr Yield')\n",
    "plt.ylabel('Returns')\n",
    "plt.title('Regression Line')\n",
    "plt.show()"
   ]
  },
  {
   "cell_type": "markdown",
   "id": "4d3218b4",
   "metadata": {},
   "source": [
    "## Listing 3.6"
   ]
  },
  {
   "cell_type": "code",
   "execution_count": 40,
   "id": "0facfe69",
   "metadata": {},
   "outputs": [
    {
     "name": "stdout",
     "output_type": "stream",
     "text": [
      "[*********************100%***********************]  1 of 1 completed\n",
      "raw stock average returns  0.12596751294714978\n",
      "excess stock average returns  0.09098289756253443\n"
     ]
    }
   ],
   "source": [
    "start = '1983-01-01'\n",
    "end = '2023-01-01'\n",
    "\n",
    "stock = yf.download('VFINX', start=start, end=end)\n",
    "stock_annual = stock.resample('AS').first()\n",
    "stock_returns_annual = stock_annual['Adj Close'].pct_change()\n",
    "\n",
    "CAPE = pd.read_excel('ie_data.xls', sheet_name='Data',\n",
    "usecols=['Date', 'CAPE'], skiprows=7) #A\n",
    "CAPE = CAPE.dropna()\n",
    "CAPE['Year'] = CAPE['Date'].astype(int) #B\n",
    "CAPE['Month'] = round(100*(CAPE['Date']-CAPE['Year'])).astype(int) #C\n",
    "CAPE['Year'] = CAPE['Year'].astype(str)\n",
    "CAPE['Month'] = CAPE['Month'].astype(str)\n",
    "CAPE['Date'] = CAPE['Year']+'-'+CAPE['Month']+'-'+'01'\n",
    "CAPE = CAPE.set_index('Date')\n",
    "CAPE.index = pd.to_datetime(CAPE.index, format='%Y-%m-%d')\n",
    "CAPE.drop(columns=['Year', 'Month'], inplace=True)\n",
    "CAPE = CAPE.resample('AS').first()\n",
    "CAPE['CAPE_returns'] = CAPE['CAPE'].pct_change()\n",
    "\n",
    "rf = pdr.DataReader('DTB3', 'fred', start=start, end=end)\n",
    "rf_annual = rf.resample('AS').first()/100\n",
    "\n",
    "print('raw stock average returns ',stock_returns_annual.mean())\n",
    "print('excess stock average returns ', (stock_returns_annual -\n",
    "                             rf_annual['DTB3'].shift()).mean())\n",
    "\n",
    "#A Read Excel file with CAPE data\n",
    "#B The year is the integer part of the date\n",
    "#C The month is the decimal part of the date"
   ]
  },
  {
   "cell_type": "markdown",
   "id": "52ef374f",
   "metadata": {},
   "source": [
    "## Listing 3.7"
   ]
  },
  {
   "cell_type": "code",
   "execution_count": 42,
   "id": "57dadfc2",
   "metadata": {},
   "outputs": [
    {
     "name": "stdout",
     "output_type": "stream",
     "text": [
      "                            OLS Regression Results                            \n",
      "==============================================================================\n",
      "Dep. Variable:                      y   R-squared:                       0.455\n",
      "Model:                            OLS   Adj. R-squared:                  0.454\n",
      "Method:                 Least Squares   F-statistic:                     364.4\n",
      "Date:                Sat, 06 Jan 2024   Prob (F-statistic):           1.72e-59\n",
      "Time:                        08:08:53   Log-Likelihood:                 1123.3\n",
      "No. Observations:                 438   AIC:                            -2243.\n",
      "Df Residuals:                     436   BIC:                            -2234.\n",
      "Df Model:                           1                                         \n",
      "Covariance Type:            nonrobust                                         \n",
      "=====================================================================================\n",
      "                        coef    std err          t      P>|t|      [0.025      0.975]\n",
      "-------------------------------------------------------------------------------------\n",
      "const                 0.0036      0.001      3.962      0.000       0.002       0.005\n",
      "Change 10Yr Yield    -5.9450      0.311    -19.090      0.000      -6.557      -5.333\n",
      "==============================================================================\n",
      "Omnibus:                      156.992   Durbin-Watson:                   1.760\n",
      "Prob(Omnibus):                  0.000   Jarque-Bera (JB):             3031.811\n",
      "Skew:                          -1.021   Prob(JB):                         0.00\n",
      "Kurtosis:                      15.726   Cond. No.                         349.\n",
      "==============================================================================\n",
      "\n",
      "Notes:\n",
      "[1] Standard Errors assume that the covariance matrix of the errors is correctly specified.\n"
     ]
    }
   ],
   "source": [
    "y = (bond_returns_monthly[symbol] - rf_monthly['DTB3'].shift()/12).dropna()\n",
    "X = TenYr_change_monthly\n",
    "X = sm.add_constant(X)\n",
    "common_dates = X.index.intersection(y.index)\n",
    "X = X.loc[common_dates]\n",
    "model = sm.OLS(y,X)\n",
    "results = model.fit()\n",
    "print(results.summary())"
   ]
  },
  {
   "cell_type": "markdown",
   "id": "2c9699d7",
   "metadata": {},
   "source": [
    "## 3.2 Estimating Variances and Covariances"
   ]
  },
  {
   "cell_type": "code",
   "execution_count": 12,
   "id": "d04d7240",
   "metadata": {},
   "outputs": [
    {
     "data": {
      "text/plain": [
       "AAPL    0.392659\n",
       "FE      0.258756\n",
       "WMT     0.235451\n",
       "dtype: float64"
      ]
     },
     "execution_count": 12,
     "metadata": {},
     "output_type": "execute_result"
    }
   ],
   "source": [
    "stock_returns.std() * (252**0.5)"
   ]
  },
  {
   "cell_type": "code",
   "execution_count": 13,
   "id": "ed641e78",
   "metadata": {},
   "outputs": [
    {
     "data": {
      "text/html": [
       "<div>\n",
       "<style scoped>\n",
       "    .dataframe tbody tr th:only-of-type {\n",
       "        vertical-align: middle;\n",
       "    }\n",
       "\n",
       "    .dataframe tbody tr th {\n",
       "        vertical-align: top;\n",
       "    }\n",
       "\n",
       "    .dataframe thead th {\n",
       "        text-align: right;\n",
       "    }\n",
       "</style>\n",
       "<table border=\"1\" class=\"dataframe\">\n",
       "  <thead>\n",
       "    <tr style=\"text-align: right;\">\n",
       "      <th></th>\n",
       "      <th>AAPL</th>\n",
       "      <th>FE</th>\n",
       "      <th>WMT</th>\n",
       "    </tr>\n",
       "  </thead>\n",
       "  <tbody>\n",
       "    <tr>\n",
       "      <th>AAPL</th>\n",
       "      <td>1.000000</td>\n",
       "      <td>0.209247</td>\n",
       "      <td>0.261399</td>\n",
       "    </tr>\n",
       "    <tr>\n",
       "      <th>FE</th>\n",
       "      <td>0.209247</td>\n",
       "      <td>1.000000</td>\n",
       "      <td>0.265760</td>\n",
       "    </tr>\n",
       "    <tr>\n",
       "      <th>WMT</th>\n",
       "      <td>0.261399</td>\n",
       "      <td>0.265760</td>\n",
       "      <td>1.000000</td>\n",
       "    </tr>\n",
       "  </tbody>\n",
       "</table>\n",
       "</div>"
      ],
      "text/plain": [
       "          AAPL        FE       WMT\n",
       "AAPL  1.000000  0.209247  0.261399\n",
       "FE    0.209247  1.000000  0.265760\n",
       "WMT   0.261399  0.265760  1.000000"
      ]
     },
     "execution_count": 13,
     "metadata": {},
     "output_type": "execute_result"
    }
   ],
   "source": [
    "stock_returns.corr()"
   ]
  },
  {
   "cell_type": "code",
   "execution_count": 14,
   "id": "c8b9798d",
   "metadata": {},
   "outputs": [
    {
     "data": {
      "text/html": [
       "<div>\n",
       "<style scoped>\n",
       "    .dataframe tbody tr th:only-of-type {\n",
       "        vertical-align: middle;\n",
       "    }\n",
       "\n",
       "    .dataframe tbody tr th {\n",
       "        vertical-align: top;\n",
       "    }\n",
       "\n",
       "    .dataframe thead th {\n",
       "        text-align: right;\n",
       "    }\n",
       "</style>\n",
       "<table border=\"1\" class=\"dataframe\">\n",
       "  <thead>\n",
       "    <tr style=\"text-align: right;\">\n",
       "      <th></th>\n",
       "      <th>AAPL</th>\n",
       "      <th>FE</th>\n",
       "      <th>WMT</th>\n",
       "    </tr>\n",
       "  </thead>\n",
       "  <tbody>\n",
       "    <tr>\n",
       "      <th>AAPL</th>\n",
       "      <td>0.154181</td>\n",
       "      <td>0.021260</td>\n",
       "      <td>0.024167</td>\n",
       "    </tr>\n",
       "    <tr>\n",
       "      <th>FE</th>\n",
       "      <td>0.021260</td>\n",
       "      <td>0.066955</td>\n",
       "      <td>0.016191</td>\n",
       "    </tr>\n",
       "    <tr>\n",
       "      <th>WMT</th>\n",
       "      <td>0.024167</td>\n",
       "      <td>0.016191</td>\n",
       "      <td>0.055437</td>\n",
       "    </tr>\n",
       "  </tbody>\n",
       "</table>\n",
       "</div>"
      ],
      "text/plain": [
       "          AAPL        FE       WMT\n",
       "AAPL  0.154181  0.021260  0.024167\n",
       "FE    0.021260  0.066955  0.016191\n",
       "WMT   0.024167  0.016191  0.055437"
      ]
     },
     "execution_count": 14,
     "metadata": {},
     "output_type": "execute_result"
    }
   ],
   "source": [
    "stock_returns.cov() * 252"
   ]
  },
  {
   "cell_type": "code",
   "execution_count": 15,
   "id": "104373ff",
   "metadata": {},
   "outputs": [
    {
     "data": {
      "text/html": [
       "<div>\n",
       "<style scoped>\n",
       "    .dataframe tbody tr th:only-of-type {\n",
       "        vertical-align: middle;\n",
       "    }\n",
       "\n",
       "    .dataframe tbody tr th {\n",
       "        vertical-align: top;\n",
       "    }\n",
       "\n",
       "    .dataframe thead th {\n",
       "        text-align: right;\n",
       "    }\n",
       "</style>\n",
       "<table border=\"1\" class=\"dataframe\">\n",
       "  <thead>\n",
       "    <tr style=\"text-align: right;\">\n",
       "      <th></th>\n",
       "      <th>Close</th>\n",
       "      <th>% Change</th>\n",
       "    </tr>\n",
       "    <tr>\n",
       "      <th>Date</th>\n",
       "      <th></th>\n",
       "      <th></th>\n",
       "    </tr>\n",
       "  </thead>\n",
       "  <tbody>\n",
       "    <tr>\n",
       "      <th>1987-10-08</th>\n",
       "      <td>314.160004</td>\n",
       "      <td>-1.375025</td>\n",
       "    </tr>\n",
       "    <tr>\n",
       "      <th>1987-10-09</th>\n",
       "      <td>311.070007</td>\n",
       "      <td>-0.983574</td>\n",
       "    </tr>\n",
       "    <tr>\n",
       "      <th>1987-10-12</th>\n",
       "      <td>309.390015</td>\n",
       "      <td>-0.540069</td>\n",
       "    </tr>\n",
       "    <tr>\n",
       "      <th>1987-10-13</th>\n",
       "      <td>314.519989</td>\n",
       "      <td>1.658093</td>\n",
       "    </tr>\n",
       "    <tr>\n",
       "      <th>1987-10-14</th>\n",
       "      <td>305.230011</td>\n",
       "      <td>-2.953700</td>\n",
       "    </tr>\n",
       "    <tr>\n",
       "      <th>1987-10-15</th>\n",
       "      <td>298.079987</td>\n",
       "      <td>-2.342504</td>\n",
       "    </tr>\n",
       "    <tr>\n",
       "      <th>1987-10-16</th>\n",
       "      <td>282.700012</td>\n",
       "      <td>-5.159680</td>\n",
       "    </tr>\n",
       "    <tr>\n",
       "      <th>1987-10-19</th>\n",
       "      <td>224.839996</td>\n",
       "      <td>-20.466931</td>\n",
       "    </tr>\n",
       "    <tr>\n",
       "      <th>1987-10-20</th>\n",
       "      <td>236.830002</td>\n",
       "      <td>5.332684</td>\n",
       "    </tr>\n",
       "    <tr>\n",
       "      <th>1987-10-21</th>\n",
       "      <td>258.380005</td>\n",
       "      <td>9.099355</td>\n",
       "    </tr>\n",
       "    <tr>\n",
       "      <th>1987-10-22</th>\n",
       "      <td>248.250000</td>\n",
       "      <td>-3.920584</td>\n",
       "    </tr>\n",
       "    <tr>\n",
       "      <th>1987-10-23</th>\n",
       "      <td>248.220001</td>\n",
       "      <td>-0.012084</td>\n",
       "    </tr>\n",
       "    <tr>\n",
       "      <th>1987-10-26</th>\n",
       "      <td>227.669998</td>\n",
       "      <td>-8.278947</td>\n",
       "    </tr>\n",
       "    <tr>\n",
       "      <th>1987-10-27</th>\n",
       "      <td>233.190002</td>\n",
       "      <td>2.424564</td>\n",
       "    </tr>\n",
       "    <tr>\n",
       "      <th>1987-10-28</th>\n",
       "      <td>233.279999</td>\n",
       "      <td>0.038594</td>\n",
       "    </tr>\n",
       "    <tr>\n",
       "      <th>1987-10-29</th>\n",
       "      <td>244.770004</td>\n",
       "      <td>4.925414</td>\n",
       "    </tr>\n",
       "    <tr>\n",
       "      <th>1987-10-30</th>\n",
       "      <td>251.789993</td>\n",
       "      <td>2.867994</td>\n",
       "    </tr>\n",
       "  </tbody>\n",
       "</table>\n",
       "</div>"
      ],
      "text/plain": [
       "                 Close   % Change\n",
       "Date                             \n",
       "1987-10-08  314.160004  -1.375025\n",
       "1987-10-09  311.070007  -0.983574\n",
       "1987-10-12  309.390015  -0.540069\n",
       "1987-10-13  314.519989   1.658093\n",
       "1987-10-14  305.230011  -2.953700\n",
       "1987-10-15  298.079987  -2.342504\n",
       "1987-10-16  282.700012  -5.159680\n",
       "1987-10-19  224.839996 -20.466931\n",
       "1987-10-20  236.830002   5.332684\n",
       "1987-10-21  258.380005   9.099355\n",
       "1987-10-22  248.250000  -3.920584\n",
       "1987-10-23  248.220001  -0.012084\n",
       "1987-10-26  227.669998  -8.278947\n",
       "1987-10-27  233.190002   2.424564\n",
       "1987-10-28  233.279999   0.038594\n",
       "1987-10-29  244.770004   4.925414\n",
       "1987-10-30  251.789993   2.867994"
      ]
     },
     "execution_count": 15,
     "metadata": {},
     "output_type": "execute_result"
    }
   ],
   "source": [
    "import pandas as pd\n",
    "import numpy as np\n",
    "\n",
    "# Download S&P500 prices around the 1987 stock market crash\n",
    "SP500 = yf.download('^GSPC', start='1987-10-07', end='1987-10-31', progress=False)['Close']\n",
    "\n",
    "# Convert Series to a DataFrame and add a column for Percent Change\n",
    "SP500 = pd.DataFrame(SP500)\n",
    "SP500['% Change'] = SP500['Close'].pct_change()*100\n",
    "SP500 = SP500.dropna()\n",
    "SP500"
   ]
  },
  {
   "cell_type": "markdown",
   "id": "0b4dc5fd",
   "metadata": {},
   "source": [
    "## Listing 3.8"
   ]
  },
  {
   "cell_type": "code",
   "execution_count": 16,
   "id": "7a834cc9",
   "metadata": {},
   "outputs": [
    {
     "name": "stdout",
     "output_type": "stream",
     "text": [
      "[*********************100%***********************]  1 of 1 completed\n",
      "The autocorrelation of squared returns is 0.2227757373184402\n",
      "The standard error is 0.010594028769395471\n",
      "The t-stat is 21.028424801148855\n"
     ]
    }
   ],
   "source": [
    "SP500 = yf.download('^GSPC', start='1987-01-01', end='2022-05-10')\n",
    "SP500['Ret'] = SP500['Close'].pct_change()\n",
    "SP500['Sq Ret'] = SP500['Ret']**2\n",
    "AutoCorr = SP500['Sq Ret'].autocorr()\n",
    "se = 1/(len(SP500)**0.5)\n",
    "t_stat = AutoCorr/se\n",
    "\n",
    "print('The autocorrelation of squared returns is', AutoCorr)\n",
    "print('The standard error is', se)\n",
    "print('The t-stat is', t_stat)"
   ]
  },
  {
   "cell_type": "code",
   "execution_count": 17,
   "id": "0e5e6e80",
   "metadata": {},
   "outputs": [
    {
     "name": "stdout",
     "output_type": "stream",
     "text": [
      "[*********************100%***********************]  1 of 1 completed\n"
     ]
    },
    {
     "data": {
      "image/png": "[encoded data removed]",
      "text/plain": [
       "<Figure size 432x288 with 1 Axes>"
      ]
     },
     "metadata": {
      "needs_background": "light"
     },
     "output_type": "display_data"
    }
   ],
   "source": [
    "VIX = yf.download('^VIX', start='2008-07-01', end='2009-10-16')['Close']\n",
    "VIX.plot();"
   ]
  },
  {
   "cell_type": "markdown",
   "id": "f770097b",
   "metadata": {},
   "source": [
    "## Listing 3.9"
   ]
  },
  {
   "cell_type": "code",
   "execution_count": 22,
   "id": "cb5a6182",
   "metadata": {},
   "outputs": [
    {
     "name": "stdout",
     "output_type": "stream",
     "text": [
      "[*********************100%***********************]  1 of 1 completed\n",
      "Iteration:      1,   Func. Count:      6,   Neg. LLF: 1938171.2885153533\n",
      "Iteration:      2,   Func. Count:     14,   Neg. LLF: 2981167.500528286\n",
      "Iteration:      3,   Func. Count:     22,   Neg. LLF: 12379.129621485232\n",
      "Iteration:      4,   Func. Count:     28,   Neg. LLF: 12359.908511889305\n",
      "Iteration:      5,   Func. Count:     34,   Neg. LLF: 12486.390942197875\n",
      "Iteration:      6,   Func. Count:     40,   Neg. LLF: 12285.697489291702\n",
      "Iteration:      7,   Func. Count:     46,   Neg. LLF: 12297.379174618887\n",
      "Iteration:      8,   Func. Count:     52,   Neg. LLF: 12785.566919480692\n",
      "Iteration:      9,   Func. Count:     59,   Neg. LLF: 12279.134335386789\n",
      "Iteration:     10,   Func. Count:     65,   Neg. LLF: 12278.746221561281\n",
      "Iteration:     11,   Func. Count:     70,   Neg. LLF: 12278.745316517558\n",
      "Iteration:     12,   Func. Count:     74,   Neg. LLF: 12278.745316517547\n",
      "Optimization terminated successfully    (Exit mode 0)\n",
      "            Current function value: 12278.745316517558\n",
      "            Iterations: 12\n",
      "            Function evaluations: 74\n",
      "            Gradient evaluations: 12\n",
      "h.01    9.871816\n",
      "h.02    9.858132\n",
      "h.03    9.844574\n",
      "h.04    9.831142\n",
      "h.05    9.817833\n",
      "          ...   \n",
      "h.59    9.254902\n",
      "h.60    9.246905\n",
      "h.61    9.238981\n",
      "h.62    9.231130\n",
      "h.63    9.223352\n",
      "Name: 2022-05-23 00:00:00, Length: 63, dtype: float64\n"
     ]
    },
    {
     "name": "stderr",
     "output_type": "stream",
     "text": [
      "C:\\Users\\reide\\anaconda3\\lib\\site-packages\\arch\\__future__\\_utility.py:11: FutureWarning: \n",
      "The default for reindex is True. After September 2021 this will change to\n",
      "False. Set reindex to True or False to silence this message. Alternatively,\n",
      "you can use the import comment\n",
      "\n",
      "from arch.__future__ import reindexing\n",
      "\n",
      "to globally set reindex to True and silence this warning.\n",
      "\n",
      "  warnings.warn(\n"
     ]
    }
   ],
   "source": [
    "from arch import arch_model\n",
    "\n",
    "AAPL_prices = yf.download('AAPL', start='2000-01-03', end='2022-05-24')['Adj Close']\n",
    "returns = 100 * AAPL_prices.pct_change().dropna()\n",
    "\n",
    "horizon = 63\n",
    "am = arch_model(returns)\n",
    "res = am.fit()\n",
    "forecasts = res.forecast(horizon=horizon)\n",
    "print(forecasts.residual_variance.iloc[-1,:])"
   ]
  },
  {
   "cell_type": "code",
   "execution_count": 25,
   "id": "67c1ce81",
   "metadata": {},
   "outputs": [
    {
     "name": "stdout",
     "output_type": "stream",
     "text": [
      "Volatility forecast is  0.48972859539572494\n"
     ]
    }
   ],
   "source": [
    "vol_forecast = (forecasts.residual_variance.iloc[-1,:].sum()*252/horizon)**0.5 / 100\n",
    "print('Volatility forecast is ', vol_forecast)"
   ]
  },
  {
   "cell_type": "code",
   "execution_count": 31,
   "id": "d90a1a70",
   "metadata": {},
   "outputs": [
    {
     "data": {
      "text/html": [
       "<div>\n",
       "<style scoped>\n",
       "    .dataframe tbody tr th:only-of-type {\n",
       "        vertical-align: middle;\n",
       "    }\n",
       "\n",
       "    .dataframe tbody tr th {\n",
       "        vertical-align: top;\n",
       "    }\n",
       "\n",
       "    .dataframe thead th {\n",
       "        text-align: right;\n",
       "    }\n",
       "</style>\n",
       "<table border=\"1\" class=\"dataframe\">\n",
       "  <thead>\n",
       "    <tr style=\"text-align: right;\">\n",
       "      <th></th>\n",
       "      <th>h.01</th>\n",
       "      <th>h.02</th>\n",
       "      <th>h.03</th>\n",
       "      <th>h.04</th>\n",
       "      <th>h.05</th>\n",
       "      <th>h.06</th>\n",
       "      <th>h.07</th>\n",
       "      <th>h.08</th>\n",
       "      <th>h.09</th>\n",
       "      <th>h.10</th>\n",
       "      <th>...</th>\n",
       "      <th>h.54</th>\n",
       "      <th>h.55</th>\n",
       "      <th>h.56</th>\n",
       "      <th>h.57</th>\n",
       "      <th>h.58</th>\n",
       "      <th>h.59</th>\n",
       "      <th>h.60</th>\n",
       "      <th>h.61</th>\n",
       "      <th>h.62</th>\n",
       "      <th>h.63</th>\n",
       "    </tr>\n",
       "    <tr>\n",
       "      <th>Date</th>\n",
       "      <th></th>\n",
       "      <th></th>\n",
       "      <th></th>\n",
       "      <th></th>\n",
       "      <th></th>\n",
       "      <th></th>\n",
       "      <th></th>\n",
       "      <th></th>\n",
       "      <th></th>\n",
       "      <th></th>\n",
       "      <th></th>\n",
       "      <th></th>\n",
       "      <th></th>\n",
       "      <th></th>\n",
       "      <th></th>\n",
       "      <th></th>\n",
       "      <th></th>\n",
       "      <th></th>\n",
       "      <th></th>\n",
       "      <th></th>\n",
       "      <th></th>\n",
       "    </tr>\n",
       "  </thead>\n",
       "  <tbody>\n",
       "    <tr>\n",
       "      <th>2000-01-04</th>\n",
       "      <td>NaN</td>\n",
       "      <td>NaN</td>\n",
       "      <td>NaN</td>\n",
       "      <td>NaN</td>\n",
       "      <td>NaN</td>\n",
       "      <td>NaN</td>\n",
       "      <td>NaN</td>\n",
       "      <td>NaN</td>\n",
       "      <td>NaN</td>\n",
       "      <td>NaN</td>\n",
       "      <td>...</td>\n",
       "      <td>NaN</td>\n",
       "      <td>NaN</td>\n",
       "      <td>NaN</td>\n",
       "      <td>NaN</td>\n",
       "      <td>NaN</td>\n",
       "      <td>NaN</td>\n",
       "      <td>NaN</td>\n",
       "      <td>NaN</td>\n",
       "      <td>NaN</td>\n",
       "      <td>NaN</td>\n",
       "    </tr>\n",
       "    <tr>\n",
       "      <th>2000-01-05</th>\n",
       "      <td>NaN</td>\n",
       "      <td>NaN</td>\n",
       "      <td>NaN</td>\n",
       "      <td>NaN</td>\n",
       "      <td>NaN</td>\n",
       "      <td>NaN</td>\n",
       "      <td>NaN</td>\n",
       "      <td>NaN</td>\n",
       "      <td>NaN</td>\n",
       "      <td>NaN</td>\n",
       "      <td>...</td>\n",
       "      <td>NaN</td>\n",
       "      <td>NaN</td>\n",
       "      <td>NaN</td>\n",
       "      <td>NaN</td>\n",
       "      <td>NaN</td>\n",
       "      <td>NaN</td>\n",
       "      <td>NaN</td>\n",
       "      <td>NaN</td>\n",
       "      <td>NaN</td>\n",
       "      <td>NaN</td>\n",
       "    </tr>\n",
       "    <tr>\n",
       "      <th>2000-01-06</th>\n",
       "      <td>NaN</td>\n",
       "      <td>NaN</td>\n",
       "      <td>NaN</td>\n",
       "      <td>NaN</td>\n",
       "      <td>NaN</td>\n",
       "      <td>NaN</td>\n",
       "      <td>NaN</td>\n",
       "      <td>NaN</td>\n",
       "      <td>NaN</td>\n",
       "      <td>NaN</td>\n",
       "      <td>...</td>\n",
       "      <td>NaN</td>\n",
       "      <td>NaN</td>\n",
       "      <td>NaN</td>\n",
       "      <td>NaN</td>\n",
       "      <td>NaN</td>\n",
       "      <td>NaN</td>\n",
       "      <td>NaN</td>\n",
       "      <td>NaN</td>\n",
       "      <td>NaN</td>\n",
       "      <td>NaN</td>\n",
       "    </tr>\n",
       "    <tr>\n",
       "      <th>2000-01-07</th>\n",
       "      <td>NaN</td>\n",
       "      <td>NaN</td>\n",
       "      <td>NaN</td>\n",
       "      <td>NaN</td>\n",
       "      <td>NaN</td>\n",
       "      <td>NaN</td>\n",
       "      <td>NaN</td>\n",
       "      <td>NaN</td>\n",
       "      <td>NaN</td>\n",
       "      <td>NaN</td>\n",
       "      <td>...</td>\n",
       "      <td>NaN</td>\n",
       "      <td>NaN</td>\n",
       "      <td>NaN</td>\n",
       "      <td>NaN</td>\n",
       "      <td>NaN</td>\n",
       "      <td>NaN</td>\n",
       "      <td>NaN</td>\n",
       "      <td>NaN</td>\n",
       "      <td>NaN</td>\n",
       "      <td>NaN</td>\n",
       "    </tr>\n",
       "    <tr>\n",
       "      <th>2000-01-10</th>\n",
       "      <td>NaN</td>\n",
       "      <td>NaN</td>\n",
       "      <td>NaN</td>\n",
       "      <td>NaN</td>\n",
       "      <td>NaN</td>\n",
       "      <td>NaN</td>\n",
       "      <td>NaN</td>\n",
       "      <td>NaN</td>\n",
       "      <td>NaN</td>\n",
       "      <td>NaN</td>\n",
       "      <td>...</td>\n",
       "      <td>NaN</td>\n",
       "      <td>NaN</td>\n",
       "      <td>NaN</td>\n",
       "      <td>NaN</td>\n",
       "      <td>NaN</td>\n",
       "      <td>NaN</td>\n",
       "      <td>NaN</td>\n",
       "      <td>NaN</td>\n",
       "      <td>NaN</td>\n",
       "      <td>NaN</td>\n",
       "    </tr>\n",
       "    <tr>\n",
       "      <th>...</th>\n",
       "      <td>...</td>\n",
       "      <td>...</td>\n",
       "      <td>...</td>\n",
       "      <td>...</td>\n",
       "      <td>...</td>\n",
       "      <td>...</td>\n",
       "      <td>...</td>\n",
       "      <td>...</td>\n",
       "      <td>...</td>\n",
       "      <td>...</td>\n",
       "      <td>...</td>\n",
       "      <td>...</td>\n",
       "      <td>...</td>\n",
       "      <td>...</td>\n",
       "      <td>...</td>\n",
       "      <td>...</td>\n",
       "      <td>...</td>\n",
       "      <td>...</td>\n",
       "      <td>...</td>\n",
       "      <td>...</td>\n",
       "      <td>...</td>\n",
       "    </tr>\n",
       "    <tr>\n",
       "      <th>2022-05-17</th>\n",
       "      <td>NaN</td>\n",
       "      <td>NaN</td>\n",
       "      <td>NaN</td>\n",
       "      <td>NaN</td>\n",
       "      <td>NaN</td>\n",
       "      <td>NaN</td>\n",
       "      <td>NaN</td>\n",
       "      <td>NaN</td>\n",
       "      <td>NaN</td>\n",
       "      <td>NaN</td>\n",
       "      <td>...</td>\n",
       "      <td>NaN</td>\n",
       "      <td>NaN</td>\n",
       "      <td>NaN</td>\n",
       "      <td>NaN</td>\n",
       "      <td>NaN</td>\n",
       "      <td>NaN</td>\n",
       "      <td>NaN</td>\n",
       "      <td>NaN</td>\n",
       "      <td>NaN</td>\n",
       "      <td>NaN</td>\n",
       "    </tr>\n",
       "    <tr>\n",
       "      <th>2022-05-18</th>\n",
       "      <td>NaN</td>\n",
       "      <td>NaN</td>\n",
       "      <td>NaN</td>\n",
       "      <td>NaN</td>\n",
       "      <td>NaN</td>\n",
       "      <td>NaN</td>\n",
       "      <td>NaN</td>\n",
       "      <td>NaN</td>\n",
       "      <td>NaN</td>\n",
       "      <td>NaN</td>\n",
       "      <td>...</td>\n",
       "      <td>NaN</td>\n",
       "      <td>NaN</td>\n",
       "      <td>NaN</td>\n",
       "      <td>NaN</td>\n",
       "      <td>NaN</td>\n",
       "      <td>NaN</td>\n",
       "      <td>NaN</td>\n",
       "      <td>NaN</td>\n",
       "      <td>NaN</td>\n",
       "      <td>NaN</td>\n",
       "    </tr>\n",
       "    <tr>\n",
       "      <th>2022-05-19</th>\n",
       "      <td>NaN</td>\n",
       "      <td>NaN</td>\n",
       "      <td>NaN</td>\n",
       "      <td>NaN</td>\n",
       "      <td>NaN</td>\n",
       "      <td>NaN</td>\n",
       "      <td>NaN</td>\n",
       "      <td>NaN</td>\n",
       "      <td>NaN</td>\n",
       "      <td>NaN</td>\n",
       "      <td>...</td>\n",
       "      <td>NaN</td>\n",
       "      <td>NaN</td>\n",
       "      <td>NaN</td>\n",
       "      <td>NaN</td>\n",
       "      <td>NaN</td>\n",
       "      <td>NaN</td>\n",
       "      <td>NaN</td>\n",
       "      <td>NaN</td>\n",
       "      <td>NaN</td>\n",
       "      <td>NaN</td>\n",
       "    </tr>\n",
       "    <tr>\n",
       "      <th>2022-05-20</th>\n",
       "      <td>NaN</td>\n",
       "      <td>NaN</td>\n",
       "      <td>NaN</td>\n",
       "      <td>NaN</td>\n",
       "      <td>NaN</td>\n",
       "      <td>NaN</td>\n",
       "      <td>NaN</td>\n",
       "      <td>NaN</td>\n",
       "      <td>NaN</td>\n",
       "      <td>NaN</td>\n",
       "      <td>...</td>\n",
       "      <td>NaN</td>\n",
       "      <td>NaN</td>\n",
       "      <td>NaN</td>\n",
       "      <td>NaN</td>\n",
       "      <td>NaN</td>\n",
       "      <td>NaN</td>\n",
       "      <td>NaN</td>\n",
       "      <td>NaN</td>\n",
       "      <td>NaN</td>\n",
       "      <td>NaN</td>\n",
       "    </tr>\n",
       "    <tr>\n",
       "      <th>2022-05-23</th>\n",
       "      <td>9.871816</td>\n",
       "      <td>9.858132</td>\n",
       "      <td>9.844574</td>\n",
       "      <td>9.831142</td>\n",
       "      <td>9.817833</td>\n",
       "      <td>9.804647</td>\n",
       "      <td>9.791582</td>\n",
       "      <td>9.778638</td>\n",
       "      <td>9.765813</td>\n",
       "      <td>9.753106</td>\n",
       "      <td>...</td>\n",
       "      <td>9.29602</td>\n",
       "      <td>9.287643</td>\n",
       "      <td>9.279344</td>\n",
       "      <td>9.271121</td>\n",
       "      <td>9.262974</td>\n",
       "      <td>9.254902</td>\n",
       "      <td>9.246905</td>\n",
       "      <td>9.238981</td>\n",
       "      <td>9.23113</td>\n",
       "      <td>9.223352</td>\n",
       "    </tr>\n",
       "  </tbody>\n",
       "</table>\n",
       "<p>5633 rows × 63 columns</p>\n",
       "</div>"
      ],
      "text/plain": [
       "                h.01      h.02      h.03      h.04      h.05      h.06  \\\n",
       "Date                                                                     \n",
       "2000-01-04       NaN       NaN       NaN       NaN       NaN       NaN   \n",
       "2000-01-05       NaN       NaN       NaN       NaN       NaN       NaN   \n",
       "2000-01-06       NaN       NaN       NaN       NaN       NaN       NaN   \n",
       "2000-01-07       NaN       NaN       NaN       NaN       NaN       NaN   \n",
       "2000-01-10       NaN       NaN       NaN       NaN       NaN       NaN   \n",
       "...              ...       ...       ...       ...       ...       ...   \n",
       "2022-05-17       NaN       NaN       NaN       NaN       NaN       NaN   \n",
       "2022-05-18       NaN       NaN       NaN       NaN       NaN       NaN   \n",
       "2022-05-19       NaN       NaN       NaN       NaN       NaN       NaN   \n",
       "2022-05-20       NaN       NaN       NaN       NaN       NaN       NaN   \n",
       "2022-05-23  9.871816  9.858132  9.844574  9.831142  9.817833  9.804647   \n",
       "\n",
       "                h.07      h.08      h.09      h.10  ...     h.54      h.55  \\\n",
       "Date                                                ...                      \n",
       "2000-01-04       NaN       NaN       NaN       NaN  ...      NaN       NaN   \n",
       "2000-01-05       NaN       NaN       NaN       NaN  ...      NaN       NaN   \n",
       "2000-01-06       NaN       NaN       NaN       NaN  ...      NaN       NaN   \n",
       "2000-01-07       NaN       NaN       NaN       NaN  ...      NaN       NaN   \n",
       "2000-01-10       NaN       NaN       NaN       NaN  ...      NaN       NaN   \n",
       "...              ...       ...       ...       ...  ...      ...       ...   \n",
       "2022-05-17       NaN       NaN       NaN       NaN  ...      NaN       NaN   \n",
       "2022-05-18       NaN       NaN       NaN       NaN  ...      NaN       NaN   \n",
       "2022-05-19       NaN       NaN       NaN       NaN  ...      NaN       NaN   \n",
       "2022-05-20       NaN       NaN       NaN       NaN  ...      NaN       NaN   \n",
       "2022-05-23  9.791582  9.778638  9.765813  9.753106  ...  9.29602  9.287643   \n",
       "\n",
       "                h.56      h.57      h.58      h.59      h.60      h.61  \\\n",
       "Date                                                                     \n",
       "2000-01-04       NaN       NaN       NaN       NaN       NaN       NaN   \n",
       "2000-01-05       NaN       NaN       NaN       NaN       NaN       NaN   \n",
       "2000-01-06       NaN       NaN       NaN       NaN       NaN       NaN   \n",
       "2000-01-07       NaN       NaN       NaN       NaN       NaN       NaN   \n",
       "2000-01-10       NaN       NaN       NaN       NaN       NaN       NaN   \n",
       "...              ...       ...       ...       ...       ...       ...   \n",
       "2022-05-17       NaN       NaN       NaN       NaN       NaN       NaN   \n",
       "2022-05-18       NaN       NaN       NaN       NaN       NaN       NaN   \n",
       "2022-05-19       NaN       NaN       NaN       NaN       NaN       NaN   \n",
       "2022-05-20       NaN       NaN       NaN       NaN       NaN       NaN   \n",
       "2022-05-23  9.279344  9.271121  9.262974  9.254902  9.246905  9.238981   \n",
       "\n",
       "               h.62      h.63  \n",
       "Date                           \n",
       "2000-01-04      NaN       NaN  \n",
       "2000-01-05      NaN       NaN  \n",
       "2000-01-06      NaN       NaN  \n",
       "2000-01-07      NaN       NaN  \n",
       "2000-01-10      NaN       NaN  \n",
       "...             ...       ...  \n",
       "2022-05-17      NaN       NaN  \n",
       "2022-05-18      NaN       NaN  \n",
       "2022-05-19      NaN       NaN  \n",
       "2022-05-20      NaN       NaN  \n",
       "2022-05-23  9.23113  9.223352  \n",
       "\n",
       "[5633 rows x 63 columns]"
      ]
     },
     "execution_count": 31,
     "metadata": {},
     "output_type": "execute_result"
    }
   ],
   "source": [
    "forecasts.residual_variance"
   ]
  },
  {
   "cell_type": "code",
   "execution_count": 37,
   "id": "9393f5df",
   "metadata": {},
   "outputs": [
    {
     "name": "stdout",
     "output_type": "stream",
     "text": [
      "False\n"
     ]
    }
   ],
   "source": [
    "Corr = [[ 1. ,  0.8, -0.2],\n",
    "        [ 0.8,  1. ,  0.5],\n",
    "        [-0.2,  0.5,  1. ]]\n",
    "eigenvalues = np.linalg.eigvals(Corr)\n",
    "print(np.all(eigenvalues > 0))"
   ]
  },
  {
   "cell_type": "code",
   "execution_count": 38,
   "id": "848139ba",
   "metadata": {},
   "outputs": [
    {
     "data": {
      "text/plain": [
       "array([False,  True,  True])"
      ]
     },
     "execution_count": 38,
     "metadata": {},
     "output_type": "execute_result"
    }
   ],
   "source": [
    "eigenvalues > 0"
   ]
  },
  {
   "cell_type": "code",
   "execution_count": 36,
   "id": "6f37c4b7",
   "metadata": {},
   "outputs": [
    {
     "name": "stdout",
     "output_type": "stream",
     "text": [
      "True\n"
     ]
    }
   ],
   "source": [
    "Corr = [[ 1. ,  0.8, -0.2],\n",
    "        [ 0.8,  1. ,  0.4],\n",
    "        [-0.2,  0.4,  1. ]]\n",
    "eigenvalues = np.linalg.eigvals(Corr)\n",
    "print(np.all(eigenvalues > 0))"
   ]
  },
  {
   "cell_type": "code",
   "execution_count": null,
   "id": "1150ddbd",
   "metadata": {},
   "outputs": [],
   "source": []
  }
 ],
 "metadata": {
  "kernelspec": {
   "display_name": "Python 3 (ipykernel)",
   "language": "python",
   "name": "python3"
  },
  "language_info": {
   "codemirror_mode": {
    "name": "ipython",
    "version": 3
   },
   "file_extension": ".py",
   "mimetype": "text/x-python",
   "name": "python",
   "nbconvert_exporter": "python",
   "pygments_lexer": "ipython3",
   "version": "3.9.12"
  }
 },
 "nbformat": 4,
 "nbformat_minor": 5
}
